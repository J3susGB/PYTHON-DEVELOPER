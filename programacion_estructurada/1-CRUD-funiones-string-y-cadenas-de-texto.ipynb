{
 "cells": [
  {
   "attachments": {},
   "cell_type": "markdown",
   "metadata": {},
   "source": [
    "## FUNCIONES STRING Y CADENAS DE TEXTOS"
   ]
  },
  {
   "attachments": {},
   "cell_type": "markdown",
   "metadata": {},
   "source": [
    "#### FUNCIONES STRING:"
   ]
  },
  {
   "attachments": {},
   "cell_type": "markdown",
   "metadata": {},
   "source": [
    "1.- Función Capitalize: esta función lo que hace es poner la primera letra de la frase de la variable en Mayus."
   ]
  },
  {
   "cell_type": "code",
   "execution_count": 1,
   "metadata": {},
   "outputs": [
    {
     "name": "stdout",
     "output_type": "stream",
     "text": [
      "Que bonito es el amor\n"
     ]
    }
   ],
   "source": [
    "frase = \"que bonito es el amor\"\n",
    "print (frase.capitalize())"
   ]
  },
  {
   "attachments": {},
   "cell_type": "markdown",
   "metadata": {},
   "source": [
    "2.- Función Casefold: Convierte toda mayúscula que encuentra en minúscula."
   ]
  },
  {
   "cell_type": "code",
   "execution_count": 2,
   "metadata": {},
   "outputs": [
    {
     "name": "stdout",
     "output_type": "stream",
     "text": [
      "prueba de la funcion casefold\n"
     ]
    }
   ],
   "source": [
    "frase2 = \"PrUeBa De La FuNcIoN cAsEfOlD\"\n",
    "print(frase2.casefold())"
   ]
  },
  {
   "attachments": {},
   "cell_type": "markdown",
   "metadata": {},
   "source": [
    "3.- Función Center: Deja un espacio entre los caracteres y centra el texto"
   ]
  },
  {
   "cell_type": "code",
   "execution_count": 3,
   "metadata": {},
   "outputs": [
    {
     "name": "stdout",
     "output_type": "stream",
     "text": [
      "carambola\n",
      "                    carambola                     \n"
     ]
    }
   ],
   "source": [
    "frase3 = \"carambola\"\n",
    "print(frase3)\n",
    "print(frase3.center(50)) # el 50 es el número de espacios que queremos que deje entre el principio y la impresión"
   ]
  },
  {
   "attachments": {},
   "cell_type": "markdown",
   "metadata": {},
   "source": [
    "4.- Función Count: Contar el número de veces que se repite un elemento"
   ]
  },
  {
   "cell_type": "code",
   "execution_count": 4,
   "metadata": {},
   "outputs": [
    {
     "name": "stdout",
     "output_type": "stream",
     "text": [
      "En la frase, la palabra manzanas se repite 3 veces\n",
      ".-.-.-.-.-.-.-.-.-.-.-.-.-.-.-.-.-.-.-.-.-.-.-.-.-.-.-.-.-.-.\n",
      "En la frase, dentro de los primeros 40 caracteres, la palabra manzanas se repite 1 vez/veces\n"
     ]
    }
   ],
   "source": [
    "dato = \"Las manzanas son frutas muy ricas en vitaminas, las manzanas son mi fruta favorita, las manzanas verdes son las que más me gustan\"\n",
    "print(f\"En la frase, la palabra manzanas se repite {dato.count('manzanas')} veces\")\n",
    "\n",
    "# Hay una variante, y es que se le puede indicar que busque cuantas veces se repite una palabra, pero un un espacio\n",
    "# determinado. Ejemplo:\n",
    "\n",
    "print('.-.-.-.-.-.-.-.-.-.-.-.-.-.-.-.-.-.-.-.-.-.-.-.-.-.-.-.-.-.-.')\n",
    "\n",
    "print(f\"En la frase, dentro de los primeros 40 caracteres, la palabra manzanas se \"\n",
    "      f\"repite {dato.count('manzanas', 0,41)} vez/veces\")"
   ]
  },
  {
   "attachments": {},
   "cell_type": "markdown",
   "metadata": {},
   "source": [
    "5.- Función EndWith:\n",
    "Es una función que devuelve un resultado booleano. Se usa para \"preguntarle\" si una frase termina con los parámetros que le hemos introducido"
   ]
  },
  {
   "cell_type": "code",
   "execution_count": 5,
   "metadata": {},
   "outputs": [
    {
     "name": "stdout",
     "output_type": "stream",
     "text": [
      "True\n"
     ]
    }
   ],
   "source": [
    "frase4 = \"Bienvenido al mundo de Python\"\n",
    "print(frase4.endswith(\"Python\"))"
   ]
  },
  {
   "attachments": {},
   "cell_type": "markdown",
   "metadata": {},
   "source": [
    "6.- Función Find: \n",
    "Sirve para buscar contenido dentro de una frase. Devuelve un entero con la posición en la que se encuentra lo que estamos buscando. Si devuelve un -1, significa que no está lo que estamos buscando."
   ]
  },
  {
   "cell_type": "code",
   "execution_count": 6,
   "metadata": {},
   "outputs": [
    {
     "name": "stdout",
     "output_type": "stream",
     "text": [
      "14\n"
     ]
    }
   ],
   "source": [
    "frase5 = \"Bienvenido al mundo de Python\"\n",
    "print(frase5.find(\"mundo\"))"
   ]
  },
  {
   "attachments": {},
   "cell_type": "markdown",
   "metadata": {},
   "source": [
    "7.- Función Format: \n",
    "Sirve para darle un formato a lo que queremos imprimir"
   ]
  },
  {
   "cell_type": "code",
   "execution_count": 7,
   "metadata": {},
   "outputs": [
    {
     "name": "stdout",
     "output_type": "stream",
     "text": [
      "Mi nombre es Jesús, tengo 34 años\n",
      ".-.-.-.-.-.-.-.-.-.-.-.-.-.-.-.-.-.-.-.-.-.-.-.-.-.-.-.-.-.-.\n",
      "Mi nombre es Jesús, tengo 34 años\n",
      ".-.-.-.-.-.-.-.-.-.-.-.-.-.-.-.-.-.-.-.-.-.-.-.-.-.-.-.-.-.-.\n",
      "Mi nombre es Jesús, tengo 34 años y mi teléfono es 647548874\n",
      ".-.-.-.-.-.-.-.-.-.-.-.-.-.-.-.-.-.-.-.-.-.-.-.-.-.-.-.-.-.-.\n",
      "El precio de TV Samsung es 560 €\n"
     ]
    }
   ],
   "source": [
    "frase6 = \"Mi nombre es {nombre}, tengo {edad} años\".format(nombre=\"Jesús\", edad=34)\n",
    "print(frase6)\n",
    "print('.-.-.-.-.-.-.-.-.-.-.-.-.-.-.-.-.-.-.-.-.-.-.-.-.-.-.-.-.-.-.')\n",
    "frase7 = \"Mi nombre es {0}, tengo {1} años\".format(\"Jesús\", 34)\n",
    "print(frase7)\n",
    "print('.-.-.-.-.-.-.-.-.-.-.-.-.-.-.-.-.-.-.-.-.-.-.-.-.-.-.-.-.-.-.')\n",
    "frase8 = \"Mi nombre es {}, tengo {} años y mi teléfono es {}\".format(\"Jesús\", 34, 647548874)\n",
    "print(frase8)\n",
    "\n",
    "print('.-.-.-.-.-.-.-.-.-.-.-.-.-.-.-.-.-.-.-.-.-.-.-.-.-.-.-.-.-.-.')\n",
    "\n",
    "# También se puede usar la siguiente sintaxis para insertar datos, utilizando %s y al finalizar la frase utilizar % antes de \n",
    "# indicar los datos a insertar.\n",
    "\n",
    "var1 = \"TV Samsung\"\n",
    "var2 = 560\n",
    "\n",
    "print(\"El precio de %s es %s €\" % (var1, var2))\n"
   ]
  },
  {
   "attachments": {},
   "cell_type": "markdown",
   "metadata": {},
   "source": [
    "8.- Función Isalnum: nos dice si los caracteres son alfanuméricos. Duvuelve un booleano"
   ]
  },
  {
   "cell_type": "code",
   "execution_count": 8,
   "metadata": {},
   "outputs": [
    {
     "name": "stdout",
     "output_type": "stream",
     "text": [
      "True\n"
     ]
    }
   ],
   "source": [
    "frase9 = \"Rodrigo13\"\n",
    "print(frase9.isalnum())"
   ]
  },
  {
   "attachments": {},
   "cell_type": "markdown",
   "metadata": {},
   "source": [
    "9.- Función Isalpha: nos dice si los caracteres son letras que van de la a - z. Duvuelve un booleano"
   ]
  },
  {
   "cell_type": "code",
   "execution_count": 9,
   "metadata": {},
   "outputs": [
    {
     "name": "stdout",
     "output_type": "stream",
     "text": [
      "True\n"
     ]
    }
   ],
   "source": [
    "frase10 = \"Rodrigo\"\n",
    "print(frase10.isalpha())"
   ]
  },
  {
   "attachments": {},
   "cell_type": "markdown",
   "metadata": {},
   "source": [
    "10.- Función Islower: Valida si todo el texto está en minúscula. Duvuelve un booleano."
   ]
  },
  {
   "cell_type": "code",
   "execution_count": 10,
   "metadata": {},
   "outputs": [
    {
     "name": "stdout",
     "output_type": "stream",
     "text": [
      "False\n"
     ]
    }
   ],
   "source": [
    "frase11 = \"rodrIgo\"\n",
    "print(frase11.islower())"
   ]
  },
  {
   "attachments": {},
   "cell_type": "markdown",
   "metadata": {},
   "source": [
    "11.- Función Isnumeric: Valida si una variable es tipo numércia. Los números decimales y los negativos no no los considera números. Duvuelve un booleano"
   ]
  },
  {
   "cell_type": "code",
   "execution_count": 11,
   "metadata": {},
   "outputs": [
    {
     "name": "stdout",
     "output_type": "stream",
     "text": [
      "False\n"
     ]
    }
   ],
   "source": [
    "frase12 = \"Rofrigo13\"\n",
    "print(frase12.isnumeric()) #Dará un False, porque tiene que ser numérico entero"
   ]
  },
  {
   "attachments": {},
   "cell_type": "markdown",
   "metadata": {},
   "source": [
    "12.- Función Isupper: Valida si todo el texto está en mayúscula. Duvuelve un booleano.\n"
   ]
  },
  {
   "cell_type": "code",
   "execution_count": 12,
   "metadata": {},
   "outputs": [
    {
     "name": "stdout",
     "output_type": "stream",
     "text": [
      "True\n"
     ]
    }
   ],
   "source": [
    "frase13 = \"RODRIGO\"\n",
    "print(frase13.isupper())"
   ]
  },
  {
   "attachments": {},
   "cell_type": "markdown",
   "metadata": {},
   "source": [
    "13.- Función Join: Permite unir varios textos y separarlos por puntos, comas, guiones, etc."
   ]
  },
  {
   "cell_type": "code",
   "execution_count": 13,
   "metadata": {},
   "outputs": [
    {
     "name": "stdout",
     "output_type": "stream",
     "text": [
      "rodrigo-juan-jose-lourdes\n"
     ]
    }
   ],
   "source": [
    "frase14 = (\"rodrigo\", \"juan\", \"jose\", \"lourdes\")\n",
    "print(\"-\".join(frase14)) #Devolverá: rodrigo-juan-jose-lourdes"
   ]
  },
  {
   "attachments": {},
   "cell_type": "markdown",
   "metadata": {},
   "source": [
    "14.- Función Lower: Convierte el texto a minúscula."
   ]
  },
  {
   "cell_type": "code",
   "execution_count": 14,
   "metadata": {},
   "outputs": [
    {
     "name": "stdout",
     "output_type": "stream",
     "text": [
      "prueba de la funcion lower\n"
     ]
    }
   ],
   "source": [
    "frase15 = \"PrUeBa De La FuNcIoN lOwEr\"\n",
    "print(frase15.lower())"
   ]
  },
  {
   "attachments": {},
   "cell_type": "markdown",
   "metadata": {},
   "source": [
    "15.- Función Lstrip: Quita todos los espacios que hay en el lado izquierdo de una variable."
   ]
  },
  {
   "cell_type": "code",
   "execution_count": 15,
   "metadata": {},
   "outputs": [
    {
     "name": "stdout",
     "output_type": "stream",
     "text": [
      "De todas las fruta, la cereza          es la que más me gusta\n"
     ]
    }
   ],
   "source": [
    "frase16 = \"           cereza         \"\n",
    "print(f\"De todas las fruta, la {frase16.lstrip()} es la que más me gusta\")"
   ]
  },
  {
   "attachments": {},
   "cell_type": "markdown",
   "metadata": {},
   "source": [
    "16.- Función Partition: Separa un texto en tuplas a partir de la palabra o carácter que le indiquemos como parámetro"
   ]
  },
  {
   "cell_type": "code",
   "execution_count": 16,
   "metadata": {},
   "outputs": [
    {
     "name": "stdout",
     "output_type": "stream",
     "text": [
      "('A mi me ', 'gusta', ' mucho el Melón')\n"
     ]
    }
   ],
   "source": [
    "frase18 = \"A mi me gusta mucho el Melón\"\n",
    "print(frase18.partition(\"gusta\")) #El resultado será: ('A mi me ', 'gusta', ' mucho el Melón')"
   ]
  },
  {
   "attachments": {},
   "cell_type": "markdown",
   "metadata": {},
   "source": [
    "17.- Función Replace: Reemplazar valores"
   ]
  },
  {
   "cell_type": "code",
   "execution_count": 17,
   "metadata": {},
   "outputs": [
    {
     "name": "stdout",
     "output_type": "stream",
     "text": [
      "Me gusta programar en Python porque es un excelente lenguaje\n",
      ".-.-.-.-.-.-.-.-.-.-.-.-.-.-.-.-.-.-.-.-.-.-.-.-.-.-.-.-.-.-.\n",
      "Me gusta programar en Python porque es un excelente lenguaje, porque Python es libre y Python es fácil\n",
      ".-.-.-.-.-.-.-.-.-.-.-.-.-.-.-.-.-.-.-.-.-.-.-.-.-.-.-.-.-.-.\n",
      "Me gusta programar en Python porque es un excelente lenguaje, porque Python es libre y php es fácil\n"
     ]
    }
   ],
   "source": [
    "frase19 = \"Me gusta programar en php porque es un excelente lenguaje\"\n",
    "print(frase19.replace(\"php\", \"Python\"))\n",
    "\n",
    "print('.-.-.-.-.-.-.-.-.-.-.-.-.-.-.-.-.-.-.-.-.-.-.-.-.-.-.-.-.-.-.')\n",
    "\n",
    "frase20 = \"Me gusta programar en php porque es un excelente lenguaje, porque php es libre y php es fácil\"\n",
    "print(frase20.replace(\"php\", \"Python\")) # Esto cambiará todos los php por python\n",
    "\n",
    "print('.-.-.-.-.-.-.-.-.-.-.-.-.-.-.-.-.-.-.-.-.-.-.-.-.-.-.-.-.-.-.')\n",
    "\n",
    "#Se podría hacer para solo cambiar los que quisiéramos, no todos:\n",
    "print(frase20.replace(\"php\", \"Python\", 2)) #con el parámetro 2, cambiamos solo los dos primeros."
   ]
  },
  {
   "attachments": {},
   "cell_type": "markdown",
   "metadata": {},
   "source": [
    "18.- Función Split: Separa cada elemento en una frase por comas, en una lista\n"
   ]
  },
  {
   "cell_type": "code",
   "execution_count": 18,
   "metadata": {},
   "outputs": [
    {
     "name": "stdout",
     "output_type": "stream",
     "text": [
      "['Me', 'gusta', 'programar', 'en', 'Python']\n",
      ".-.-.-.-.-.-.-.-.-.-.-.-.-.-.-.-.-.-.-.-.-.-.-.-.-.-.-.-.-.-.\n",
      "['Me', 'gusta', 'programar', 'en', 'Python']\n"
     ]
    }
   ],
   "source": [
    "frase21 = \"Me gusta programar en Python\"\n",
    "print(frase21.split())\n",
    "\n",
    "print('.-.-.-.-.-.-.-.-.-.-.-.-.-.-.-.-.-.-.-.-.-.-.-.-.-.-.-.-.-.-.')\n",
    "\n",
    "#Puede ser que nos encontremos los elemenos separados por almohadillas, guiones, asteríscos o lo que sea, en estos casos, la función \n",
    "# split quedaría así:\n",
    "\n",
    "frase22 = \"Me*gusta*programar*en*Python\"\n",
    "print(frase22.split(\"*\"))"
   ]
  },
  {
   "attachments": {},
   "cell_type": "markdown",
   "metadata": {},
   "source": [
    "19.- Función SplitLines: Separa las líneas con un salto de líneas y las transforma en un lista de tantos elementos como líneas tenga\n",
    "\n"
   ]
  },
  {
   "cell_type": "code",
   "execution_count": 19,
   "metadata": {},
   "outputs": [
    {
     "name": "stdout",
     "output_type": "stream",
     "text": [
      "['Me gusta programar en Python', ' Python es el mejor lenguaje del mundo']\n"
     ]
    }
   ],
   "source": [
    "frase23 = \"Me gusta programar en Python\\n Python es el mejor lenguaje del mundo\"\n",
    "print(frase23.splitlines()) #El resultado será ['Me gusta programar en Python', ' Python es el mejor lenguaje del mundo']"
   ]
  },
  {
   "attachments": {},
   "cell_type": "markdown",
   "metadata": {},
   "source": [
    "20.- Función Strip: Elimina todos los espacios existentes al principio y al final de una cadena de texto"
   ]
  },
  {
   "cell_type": "code",
   "execution_count": 20,
   "metadata": {},
   "outputs": [
    {
     "name": "stdout",
     "output_type": "stream",
     "text": [
      "Me gusta programar en Python\n",
      ".-.-.-.-.-.-.-.-.-.-.-.-.-.-.-.-.-.-.-.-.-.-.-.-.-.-.-.-.-.-.\n",
      "La fruta que más me gusta es el melón.\n"
     ]
    }
   ],
   "source": [
    "frase24 = \"           Me gusta programar en Python               \"\n",
    "print(frase24.strip())\n",
    "\n",
    "print('.-.-.-.-.-.-.-.-.-.-.-.-.-.-.-.-.-.-.-.-.-.-.-.-.-.-.-.-.-.-.')\n",
    "\n",
    "#Podría ser que en lugar de espacios, encontrásemos otros caracteres, pues también funcionaría:\n",
    "frase25 = \"........,,melón**+++###-------------\"\n",
    "print(f'La fruta que más me gusta es el {frase25.strip(\".,*+#-\")}.')"
   ]
  },
  {
   "attachments": {},
   "cell_type": "markdown",
   "metadata": {},
   "source": [
    "21.- Función Swapcase: invierte las mayúsculas y minúsculas"
   ]
  },
  {
   "cell_type": "code",
   "execution_count": 21,
   "metadata": {},
   "outputs": [
    {
     "name": "stdout",
     "output_type": "stream",
     "text": [
      "me GUSTA programar CON python\n"
     ]
    }
   ],
   "source": [
    "frase26 = \"ME gusta PROGRAMAR con PYTHON\"\n",
    "print(frase26.swapcase())"
   ]
  },
  {
   "attachments": {},
   "cell_type": "markdown",
   "metadata": {},
   "source": [
    "22.- Función Title: Pone la primera letra de cada palabra en mayúscula"
   ]
  },
  {
   "cell_type": "code",
   "execution_count": 22,
   "metadata": {},
   "outputs": [
    {
     "name": "stdout",
     "output_type": "stream",
     "text": [
      "Me Gusta Programar Con Python\n"
     ]
    }
   ],
   "source": [
    "frase27 = \"me gusta programar con python\"\n",
    "print(frase27.title())"
   ]
  },
  {
   "attachments": {},
   "cell_type": "markdown",
   "metadata": {},
   "source": [
    "23.- Función Upper: Pone todo el texto en mayúsculas"
   ]
  },
  {
   "cell_type": "code",
   "execution_count": 23,
   "metadata": {},
   "outputs": [
    {
     "name": "stdout",
     "output_type": "stream",
     "text": [
      "ME GUSTA PROGRAMAR CON PYTHON\n"
     ]
    }
   ],
   "source": [
    "frase28 = \"me gusta programar con python\"\n",
    "print(frase28.upper())"
   ]
  },
  {
   "attachments": {},
   "cell_type": "markdown",
   "metadata": {},
   "source": [
    "#### CADENAS DE TEXTO:"
   ]
  },
  {
   "attachments": {},
   "cell_type": "markdown",
   "metadata": {},
   "source": [
    "Las cadenas de texto se asemejan en cierto modo a los arrays o listas, de tal forma que, por ejemplo, podemos acceder directamente a la posición de cualquier carácter a través de su índice o iterar a lo largo de la cadena de texto."
   ]
  },
  {
   "cell_type": "code",
   "execution_count": 24,
   "metadata": {},
   "outputs": [
    {
     "name": "stdout",
     "output_type": "stream",
     "text": [
      "x\n",
      "Iteración a lo largo de todo el texto:\n",
      "T e x t o   d e   e j e m p l o "
     ]
    }
   ],
   "source": [
    "texto = \"Texto de ejemplo\"\n",
    "\n",
    "#carácter situado en la tercera posición. (Ten en cuenta que la computadora empieza a contar desde 0).\n",
    "print(texto[2])\n",
    "\n",
    "print(\"Iteración a lo largo de todo el texto:\")\n",
    "#bucle for que itera a lo largo de todos los carácteres del texto.\n",
    "for letra in texto:\n",
    "    print(letra, end=\" \")"
   ]
  },
  {
   "attachments": {},
   "cell_type": "markdown",
   "metadata": {},
   "source": [
    "De igual forma también podemos quedarnos con ciertas partes del string, sustituirlas, transformarlas o concatenerlas."
   ]
  },
  {
   "cell_type": "code",
   "execution_count": 25,
   "metadata": {},
   "outputs": [
    {
     "name": "stdout",
     "output_type": "stream",
     "text": [
      "to d\n",
      "to de prueba\n",
      "ueba\n"
     ]
    }
   ],
   "source": [
    "texto = \"Texto de prueba\"\n",
    "\n",
    "#Substring de la cadena de texto. Tomamos desde la posición 3 a la 7.\n",
    "substring = texto[3:7]\n",
    "print(substring)\n",
    "\n",
    "#Substring tomando desde la posición 3 hasta el final\n",
    "substring = texto[3:]\n",
    "print(substring)\n",
    "\n",
    "#Substring tomando las últimas 4 posiciones\n",
    "substring = texto[-4:]\n",
    "print(substring)"
   ]
  },
  {
   "attachments": {},
   "cell_type": "markdown",
   "metadata": {},
   "source": [
    "Reemplazo de caracteres. Aquí modificaremos la P por una t\n"
   ]
  },
  {
   "cell_type": "code",
   "execution_count": 26,
   "metadata": {},
   "outputs": [
    {
     "name": "stdout",
     "output_type": "stream",
     "text": [
      "Texto de Trueba\n"
     ]
    }
   ],
   "source": [
    "texto_reemplazado = texto.replace(\"p\", \"T\")\n",
    "print(texto_reemplazado)"
   ]
  },
  {
   "attachments": {},
   "cell_type": "markdown",
   "metadata": {},
   "source": [
    "añadir elementos a una variable con el operador incremental +="
   ]
  },
  {
   "cell_type": "code",
   "execution_count": 27,
   "metadata": {},
   "outputs": [
    {
     "name": "stdout",
     "output_type": "stream",
     "text": [
      "Una primera frase. Una segunda frase. La frase final.\n"
     ]
    }
   ],
   "source": [
    "texto_final = \"\"\n",
    "texto_final += \"Una primera frase. \"\n",
    "texto_final += \"Una segunda frase. \"\n",
    "texto_final += \"La frase final.\"\n",
    "\n",
    "print(texto_final)"
   ]
  },
  {
   "attachments": {},
   "cell_type": "markdown",
   "metadata": {},
   "source": [
    "En el caso de querer concatenar cadenas de texto con número, será necesario transformar los números a texto mediante el método str() si utilizamos el operador \"+\". El operador \",\" no tiene esa limitación."
   ]
  },
  {
   "cell_type": "code",
   "execution_count": 28,
   "metadata": {},
   "outputs": [
    {
     "name": "stdout",
     "output_type": "stream",
     "text": [
      "Alberto tiene 23 años\n",
      "Alberto tiene 23 años\n"
     ]
    }
   ],
   "source": [
    "print(\"Alberto tiene\", 23, \"años\")\n",
    "\n",
    "print(\"Alberto tiene \" + str(23) + \" años\")"
   ]
  },
  {
   "attachments": {},
   "cell_type": "markdown",
   "metadata": {},
   "source": [
    "Caracteres especiales: Muchas veces encontraremos que tenemos que tenemos textos con caracteres que no son válidos para una cadena de texto o que queramos que no los interprete como tal. Podemos escapar estos caracteres utilizando \"\\\\\". Por ejemplo:\n"
   ]
  },
  {
   "cell_type": "code",
   "execution_count": 29,
   "metadata": {},
   "outputs": [
    {
     "name": "stdout",
     "output_type": "stream",
     "text": [
      "Era más conocido como \"Billy el niño\".\n"
     ]
    }
   ],
   "source": [
    "print(\"Era más conocido como \\\"Billy el niño\\\".\")"
   ]
  },
  {
   "attachments": {},
   "cell_type": "markdown",
   "metadata": {},
   "source": [
    "Como se ve, si no hubiésemos introducido el \"\\\\\" el intérprete habría entendido que la cadena de texto terminaba antes de \n",
    "Billy, generando un error al no encontrar la variable Billy ni tampoco un operador de concatenación. Otro caso muy habitual \n",
    "es cuando tenemos que indicar una ruta del directorio de Windows. En este caso podríamos introducir \"\\\\\" para escapar el \"\\\" \n",
    "o utilizar el r\"\", lo cual indica a python que lo tome en crudo (raw) y así no interprete los \"\\\\\". El siguiente código trataría \n",
    "de abrir un fichero existente."
   ]
  },
  {
   "cell_type": "code",
   "execution_count": 30,
   "metadata": {},
   "outputs": [],
   "source": [
    "#utilizando backslash\n",
    "#file  = open(\"c:\\\\data_science\\\\fichero.csv\", \"r\") #\"r\" significa abrir en modo lectura.\n",
    "\n",
    "#indicando que lo tome en crudo y no trate de interpretar la cadena de texto.\n",
    "#file = open(r\"c:\\data_science\\fichero.csv\", \"r\")"
   ]
  }
 ],
 "metadata": {
  "kernelspec": {
   "display_name": "Python 3",
   "language": "python",
   "name": "python3"
  },
  "language_info": {
   "codemirror_mode": {
    "name": "ipython",
    "version": 3
   },
   "file_extension": ".py",
   "mimetype": "text/x-python",
   "name": "python",
   "nbconvert_exporter": "python",
   "pygments_lexer": "ipython3",
   "version": "3.11.3"
  },
  "orig_nbformat": 4
 },
 "nbformat": 4,
 "nbformat_minor": 2
}
