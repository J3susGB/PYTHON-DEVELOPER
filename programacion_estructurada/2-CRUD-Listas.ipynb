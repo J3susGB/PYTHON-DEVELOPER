{
 "cells": [
  {
   "attachments": {},
   "cell_type": "markdown",
   "metadata": {},
   "source": [
    "### 1.- LISTAS EN PYTHON\n",
    "\n",
    "Las características de las LISTAS son las siguientes:\n",
    "\n",
    "1. Ordenada: un elemento dentro de una lista está indexado. Se accede a él señalando su índice.\n",
    "2. Editable: una lista puede editarse. Se puede editar un elemento ya existente dentro de una lista, eliminar o añadir uno nuevo.\n",
    "3. Dinámica: las listas son dinámicas: pueden contener distintos tipos de datos.\n",
    "4. No única: una lista puede tener elementos duplicados. Esto no sería objeto de error."
   ]
  },
  {
   "cell_type": "code",
   "execution_count": 1,
   "metadata": {},
   "outputs": [
    {
     "name": "stdout",
     "output_type": "stream",
     "text": [
      "['Python', 'Java', 'PHP', 'Javascrip']\n"
     ]
    }
   ],
   "source": [
    "lista = ['Python', 'Java', 'PHP', 'Javascrip']\n",
    "print(lista)"
   ]
  },
  {
   "cell_type": "code",
   "execution_count": 2,
   "metadata": {},
   "outputs": [
    {
     "name": "stdout",
     "output_type": "stream",
     "text": [
      "['Manzanas', 'Pan', 'Arroz']\n",
      "<class 'list'>\n",
      "['Manzanas', 'Pan', 'Arroz']\n",
      "<class 'list'>\n"
     ]
    }
   ],
   "source": [
    "lista_compra_1 = [\"Manzanas\", \"Pan\", \"Arroz\"]\n",
    "print(lista_compra_1)\n",
    "print(type(lista_compra_1))\n",
    "\n",
    "lista_compra_2 =list((\"Manzanas\", \"Pan\", \"Arroz\"))\n",
    "print(lista_compra_2)\n",
    "print(type(lista_compra_2))"
   ]
  },
  {
   "cell_type": "code",
   "execution_count": 3,
   "metadata": {},
   "outputs": [
    {
     "name": "stdout",
     "output_type": "stream",
     "text": [
      "[['mi', 'primera', 'lista'], ['mi', 'segunda', 'lista']]\n"
     ]
    }
   ],
   "source": [
    "# Puede tener incluidas listas dentro de las propia lista\n",
    "\n",
    "lista_de_listas = [[\"mi\", \"primera\", \"lista\"], [\"mi\", \"segunda\", \"lista\"]]\n",
    "print(lista_de_listas)"
   ]
  },
  {
   "cell_type": "code",
   "execution_count": 4,
   "metadata": {},
   "outputs": [
    {
     "name": "stdout",
     "output_type": "stream",
     "text": [
      "Python\n"
     ]
    }
   ],
   "source": [
    "# Imprimir un elemento de la lista:\n",
    "\n",
    "print(lista[0])"
   ]
  },
  {
   "cell_type": "code",
   "execution_count": 5,
   "metadata": {},
   "outputs": [
    {
     "name": "stdout",
     "output_type": "stream",
     "text": [
      "P, J, P, J\n"
     ]
    }
   ],
   "source": [
    "# Imprimir la primera letra de cada elemento de la lista \"lista\":\n",
    "\n",
    "print(f'{lista[0][0]}, {lista[1][0]}, {lista[2][0]}, {lista[3][0]}')\n"
   ]
  },
  {
   "cell_type": "code",
   "execution_count": 6,
   "metadata": {},
   "outputs": [
    {
     "name": "stdout",
     "output_type": "stream",
     "text": [
      "['Python', 'Java']\n",
      "Javascrip\n",
      "PHP\n"
     ]
    }
   ],
   "source": [
    "# Imprimir varios elementos de la lista:\n",
    "# (Se pueden utilizar las mismas combinaciones que con las cadenas de texto)\n",
    "print(lista[0:2])\n",
    "print(lista[-1]) #Muestra el útlimo valor\n",
    "print(lista[-2]) #Muestra el penútlimo valor\n"
   ]
  },
  {
   "cell_type": "code",
   "execution_count": 7,
   "metadata": {},
   "outputs": [
    {
     "name": "stdout",
     "output_type": "stream",
     "text": [
      "['Manzana', 'Tuna', 'Naranja', 'Frutilla', 'Melón', 'Guayaba', 'Fresas']\n",
      "['Manzana', 'Papaya', 'Naranja', 'Frutilla', 'Melón', 'Guayaba', 'Fresas']\n"
     ]
    }
   ],
   "source": [
    "#Sustitución del segundo elemento: se sustituye \"Tuna\" por \"Papaya\"\n",
    "\n",
    "lista_frutas = [\"Manzana\", \"Tuna\", \"Naranja\", \"Frutilla\", \"Melón\", \"Guayaba\", \"Fresas\"]\n",
    "print (lista_frutas)\n",
    "lista_frutas[1] = \"Papaya\"\n",
    "print(lista_frutas)"
   ]
  },
  {
   "cell_type": "code",
   "execution_count": 8,
   "metadata": {},
   "outputs": [
    {
     "name": "stdout",
     "output_type": "stream",
     "text": [
      "['Manzana', 'Papaya', 'Naranja', 'Frutilla', 'Melón', 'Guayaba', 'Fresas']\n",
      "['Manzana', 'Papaya', 'Naranja', 'Frutilla', 'Platano', 'Sandia', 'Pera']\n"
     ]
    }
   ],
   "source": [
    "# Sustituir pedazos de la lista por otros elementos:\n",
    "\n",
    "print(lista_frutas)\n",
    "lista_frutas[4:] = [\"Platano\", \"Sandia\",\"Pera\"]\n",
    "print(lista_frutas)"
   ]
  },
  {
   "cell_type": "code",
   "execution_count": 9,
   "metadata": {},
   "outputs": [
    {
     "name": "stdout",
     "output_type": "stream",
     "text": [
      "['Manzana', 'Papaya', 'Naranja', 'Frutilla', 'Platano', 'Sandia', 'Pera', ['Banana', 'Limón']]\n"
     ]
    }
   ],
   "source": [
    "# Añadir una lista dentro de la lista:\n",
    "\n",
    "lista_frutas.append([\"Banana\",\"Limón\"])\n",
    "print(lista_frutas)"
   ]
  },
  {
   "cell_type": "code",
   "execution_count": 10,
   "metadata": {},
   "outputs": [
    {
     "name": "stdout",
     "output_type": "stream",
     "text": [
      "['Manzana', 'Papaya', 'Naranja', 'Frutilla', 'Platano', 'Sandia', 'Pera', ['Banana', 'Limón'], 'Banana', 'Limón']\n"
     ]
    }
   ],
   "source": [
    "# Añadir nuevos elementos a una lista que ya tiene dentro otra lista:\n",
    "\n",
    "lista_frutas.extend([\"Banana\",\"Limón\"])\n",
    "print(lista_frutas)"
   ]
  },
  {
   "attachments": {},
   "cell_type": "markdown",
   "metadata": {},
   "source": [
    "##### FUNCIONES DE LAS LISTAS"
   ]
  },
  {
   "cell_type": "code",
   "execution_count": 11,
   "metadata": {},
   "outputs": [
    {
     "name": "stdout",
     "output_type": "stream",
     "text": [
      "4\n"
     ]
    }
   ],
   "source": [
    "# Tamaño de la lista:\n",
    "\n",
    "print(len(lista)) "
   ]
  },
  {
   "cell_type": "code",
   "execution_count": 12,
   "metadata": {},
   "outputs": [
    {
     "data": {
      "text/plain": [
       "2"
      ]
     },
     "execution_count": 12,
     "metadata": {},
     "output_type": "execute_result"
    }
   ],
   "source": [
    "#¿Cuál será la longitud de lista_de_listas?\n",
    "len(lista_de_listas)"
   ]
  },
  {
   "cell_type": "code",
   "execution_count": 13,
   "metadata": {},
   "outputs": [
    {
     "name": "stdout",
     "output_type": "stream",
     "text": [
      "['Python', 'Java', 'PHP', 'Javascrip', 'Kotlin']\n"
     ]
    }
   ],
   "source": [
    "# Agregar un elemento al final de la lista:\n",
    "\n",
    "lista2 = lista.copy()\n",
    "lista2.append('Kotlin')\n",
    "print(lista2)"
   ]
  },
  {
   "cell_type": "code",
   "execution_count": 14,
   "metadata": {},
   "outputs": [
    {
     "name": "stdout",
     "output_type": "stream",
     "text": [
      "['Python', 'C', 'Java', 'PHP', 'Javascrip', 'Kotlin']\n"
     ]
    }
   ],
   "source": [
    "# Agregar un elemento en un lugar determinado de la lista:\n",
    "\n",
    "lista2.insert(1, \"C\")\n",
    "print(lista2)"
   ]
  },
  {
   "cell_type": "code",
   "execution_count": 15,
   "metadata": {},
   "outputs": [
    {
     "name": "stdout",
     "output_type": "stream",
     "text": [
      "['Python', 'C', 'Java', 'PHP', 'Javascrip', 'Kotlin', 2, 4, 6, 8, 10, 12]\n"
     ]
    }
   ],
   "source": [
    "# Unir varias listas (sumar a una lista otra):\n",
    "\n",
    "lista3 = [2,4,6,8,10,12]\n",
    "lista4 = lista2 + lista3\n",
    "print(lista4)"
   ]
  },
  {
   "cell_type": "code",
   "execution_count": 16,
   "metadata": {},
   "outputs": [
    {
     "name": "stdout",
     "output_type": "stream",
     "text": [
      "¿Está el elemento 135 en la lista4? --> False\n",
      "¿Está el elemento Java en la lista4? --> True\n"
     ]
    }
   ],
   "source": [
    "# Buscar un elemento dentro de la lista:\n",
    "\n",
    "print(f'¿Está el elemento 135 en la lista4? --> {135 in lista4}')\n",
    "print(f'¿Está el elemento Java en la lista4? --> {\"Java\" in lista4}')\n"
   ]
  },
  {
   "cell_type": "code",
   "execution_count": 17,
   "metadata": {},
   "outputs": [
    {
     "name": "stdout",
     "output_type": "stream",
     "text": [
      "['Python', 'C', 'Java', 'PHP', 'Javascrip', 'Kotlin', 2, 4, 6, 8, 10, 12]\n",
      "4\n"
     ]
    }
   ],
   "source": [
    "# Saber en qué posición está cada elemento:\n",
    "print(lista4)\n",
    "print(lista4.index(\"Javascrip\"))"
   ]
  },
  {
   "cell_type": "code",
   "execution_count": 18,
   "metadata": {},
   "outputs": [
    {
     "name": "stdout",
     "output_type": "stream",
     "text": [
      "********************************************************** remove() **********************************************************\n",
      "['Manzana', 'Papaya', 'Naranja', 'Frutilla', 'Platano', 'Sandia', 'Pera', ['Banana', 'Limón'], 'Banana', 'Limón']\n",
      "['Manzana', 'Papaya', 'Naranja', 'Frutilla', 'Platano', 'Sandia', 'Pera', ['Banana', 'Limón'], 'Banana', 'Limón', 'aguacate']\n",
      "['Manzana', 'Papaya', 'Naranja', 'Frutilla', 'Platano', 'Sandia', 'Pera', ['Banana', 'Limón'], 'Banana', 'Limón']\n",
      "\n",
      "********************************************************** del **********************************************************\n",
      "['Manzana', 'Tuna', 'Naranja', 'Frutilla', 'Melón', 'Guayaba', 'Fresas']\n",
      "['Manzana', 'Naranja', 'Frutilla', 'Melón', 'Guayaba', 'Fresas']\n",
      ".-.-.-.-.-.-.-.-.-.-.-.-.-.-.-.-.-.-.-.-.-.-.-.-.-.-.-.-.-.-.-.-.-.-.-.-.-.-.-.-.-.-.-.-.-.-.-.\n",
      "['Manzana', 'Naranja', 'Frutilla', 'Melón', 'Guayaba', 'Fresas']\n",
      "['Melón', 'Guayaba', 'Fresas']\n",
      "\n",
      "************************************************ list(dict.fromkeys()) ************************************************\n",
      "['a', 'b', 'a', 'c', 'c']\n",
      "['a', 'b', 'c']\n",
      "\n",
      "***************************************************** pop() *****************************************************\n",
      "['a', 'b', 'a', 'c', 'c']\n",
      "['a', 'a', 'c', 'c']\n",
      ".-.-.-.-.-.-.-.-.-.-.-.-.-.-.-.-.-.-.-.-.-.-.-.-.-.-.-.-.-.-.-.-.-.-.-.-.-.-.-.-.-.-.-.-.-.-.-.\n",
      "['a', 'a', 'c', 'c']\n",
      "['a', 'a', 'c']\n"
     ]
    }
   ],
   "source": [
    "# Eliminar elementos de una lista. Tenemos varias opciones:\n",
    "\n",
    "# .remove() \n",
    "# Busca el elemento concreto que le indiquemos y lo elimina; \n",
    "# No funciona con índices, ni si el elemento indicado no existe.\n",
    "# Tampoco funciona con varios elementos a la vez.\n",
    "\n",
    "print('********************************************************** remove() **********************************************************')\n",
    "print (lista_frutas)\n",
    "lista_frutas.append(\"aguacate\")\n",
    "print(lista_frutas)\n",
    "lista_frutas.remove(\"aguacate\")\n",
    "print(lista_frutas)\n",
    "\n",
    "# del\n",
    "# Elimina elementos de una lista a partir de su índice\n",
    "\n",
    "print('\\n********************************************************** del **********************************************************')\n",
    "\n",
    "\n",
    "lista_frutas2 = [\"Manzana\", \"Tuna\", \"Naranja\", \"Frutilla\", \"Melón\", \"Guayaba\", \"Fresas\"]\n",
    "print(lista_frutas2)\n",
    "del lista_frutas2[1]\n",
    "print(lista_frutas2)\n",
    "\n",
    "print('.-.-.-.-.-.-.-.-.-.-.-.-.-.-.-.-.-.-.-.-.-.-.-.-.-.-.-.-.-.-.-.-.-.-.-.-.-.-.-.-.-.-.-.-.-.-.-.')\n",
    "\n",
    "# Podemos utilizar esta misma sentencia del() para borrar \"rebanadas\" dentro de la lista\n",
    "\n",
    "print(lista_frutas2)\n",
    "del lista_frutas2[0:3]\n",
    "print(lista_frutas2)\n",
    "\n",
    "# Si queremos eliminar todos los elementos duplicados en una lista :\n",
    "\n",
    "print('\\n************************************************ list(dict.fromkeys()) ************************************************')\n",
    "\n",
    "lista_letras = [\"a\", \"b\", \"a\", \"c\", \"c\"]\n",
    "print(lista_letras)\n",
    "lista_letras = list(dict.fromkeys(lista_letras))\n",
    "print(lista_letras)\n",
    "\n",
    "# .pop():\n",
    "# Elimina un elemento de la lista según su índice (de uno en uno, no se puede rebanar)\n",
    "\n",
    "print('\\n***************************************************** pop() *****************************************************')\n",
    "\n",
    "lista_letras2 = [\"a\", \"b\", \"a\", \"c\", \"c\"]\n",
    "print(lista_letras2)\n",
    "lista_letras2.pop(1)\n",
    "print(lista_letras2)\n",
    "\n",
    "print('.-.-.-.-.-.-.-.-.-.-.-.-.-.-.-.-.-.-.-.-.-.-.-.-.-.-.-.-.-.-.-.-.-.-.-.-.-.-.-.-.-.-.-.-.-.-.-.')\n",
    "\n",
    "# Si no indicamos argumento dentro de .pop(), eliminará el último elemento:\n",
    "print(lista_letras2)\n",
    "lista_letras2.pop()\n",
    "print(lista_letras2)"
   ]
  },
  {
   "cell_type": "code",
   "execution_count": 19,
   "metadata": {},
   "outputs": [
    {
     "name": "stdout",
     "output_type": "stream",
     "text": [
      "['a', 'b', 'a', 'c', 'c']\n",
      "[]\n"
     ]
    }
   ],
   "source": [
    "# Para limpiar todos los elementos de una lista utilizamos .clear()\n",
    "lista_letras3 = [\"a\", \"b\", \"a\", \"c\", \"c\"]\n",
    "print(lista_letras3)\n",
    "lista_letras3.clear()\n",
    "print(lista_letras3)"
   ]
  },
  {
   "cell_type": "code",
   "execution_count": 20,
   "metadata": {},
   "outputs": [
    {
     "name": "stdout",
     "output_type": "stream",
     "text": [
      "['Melón', 'Guayaba', 'Fresas']\n",
      "['Fresas', 'Guayaba', 'Melón']\n"
     ]
    }
   ],
   "source": [
    "# Invertir el orden de una lista:\n",
    "\n",
    "nueva_lista = lista_frutas2\n",
    "print (nueva_lista)\n",
    "nueva_lista.reverse()\n",
    "print (nueva_lista)"
   ]
  },
  {
   "cell_type": "code",
   "execution_count": 21,
   "metadata": {},
   "outputs": [
    {
     "name": "stdout",
     "output_type": "stream",
     "text": [
      "[2, 4, 6, 8, 10]\n",
      "[2, 4, 6, 8, 10, 2, 4, 6, 8, 10, 2, 4, 6, 8, 10]\n",
      ".-.-.-.-.-.-.-.-.-.-.-.-.-.-.-.-.-.-.-.-.-.-.-.-.-.-.-.-.-.-.\n",
      "['Fresas', 'Guayaba', 'Melón']\n",
      "['Fresas', 'Guayaba', 'Melón', 'Fresas', 'Guayaba', 'Melón']\n"
     ]
    }
   ],
   "source": [
    "# Repetir los valores de una lista:\n",
    "\n",
    "num_list = [2,4,6,8,10]\n",
    "print(num_list)\n",
    "\n",
    "# repetirlo por ejemplo X3:\n",
    "lista_mult = num_list * 3\n",
    "print(lista_mult)\n",
    "\n",
    "print('.-.-.-.-.-.-.-.-.-.-.-.-.-.-.-.-.-.-.-.-.-.-.-.-.-.-.-.-.-.-.')\n",
    "\n",
    "print(nueva_lista)\n",
    "nueva_lista2 = nueva_lista *2\n",
    "print(nueva_lista2)"
   ]
  },
  {
   "cell_type": "code",
   "execution_count": 22,
   "metadata": {},
   "outputs": [
    {
     "name": "stdout",
     "output_type": "stream",
     "text": [
      "[2, 2, 2, 4, 4, 4, 6, 6, 6, 8, 8, 8, 10, 10, 10]\n",
      "['Fresas', 'Fresas', 'Guayaba', 'Guayaba', 'Melón', 'Melón']\n"
     ]
    }
   ],
   "source": [
    "# Ordenar una lista de menor a mayor:\n",
    "\n",
    "lista_mult.sort()\n",
    "nueva_lista2.sort()\n",
    "print(lista_mult)\n",
    "print(nueva_lista2)"
   ]
  },
  {
   "cell_type": "code",
   "execution_count": 23,
   "metadata": {},
   "outputs": [
    {
     "name": "stdout",
     "output_type": "stream",
     "text": [
      "[10, 10, 10, 8, 8, 8, 6, 6, 6, 4, 4, 4, 2, 2, 2]\n",
      "['Melón', 'Melón', 'Guayaba', 'Guayaba', 'Fresas', 'Fresas']\n"
     ]
    }
   ],
   "source": [
    "# Ordenar una lista de mayor a menor:\n",
    "\n",
    "lista_mult.sort(reverse=True)\n",
    "nueva_lista2.sort(reverse=True)\n",
    "print(lista_mult)\n",
    "print(nueva_lista2)\n"
   ]
  },
  {
   "cell_type": "markdown",
   "metadata": {},
   "source": [
    "La función .sort() tiene un parámetro adicional a \"reverse\" ; se trata de __key__ y sirve para añadir un criterio de orden adicional como, por ejemplo, ordenar palabras de manera ascendente por su longitud. Debe tratarse de una función válida."
   ]
  },
  {
   "cell_type": "code",
   "execution_count": 34,
   "metadata": {},
   "outputs": [
    {
     "name": "stdout",
     "output_type": "stream",
     "text": [
      "['Pez', 'Gato', 'Perro', 'Perro', 'Hurón', 'Conejo', 'Hámster', 'Tortuga', 'Jilguero']\n",
      ".-.-.-.-.-.-.-.-.-.-.-.-.-.-.-.-.-.-.-.-.-.-.-.-.-.-.-.-.-.-.\n",
      "['Arbol', 'arbol', 'conejo', 'gato', 'gato', 'hámster', 'jilguero', 'perro', 'Perro', 'Árbol', 'árbol', 'índice']\n"
     ]
    }
   ],
   "source": [
    "lista_animales = ['Conejo', 'Perro', 'Gato', 'Perro', 'Pez', 'Hámster', 'Jilguero', 'Hurón', 'Tortuga']\n",
    "lista_animales.sort(key = len)\n",
    "print(lista_animales)\n",
    "\n",
    "print('.-.-.-.-.-.-.-.-.-.-.-.-.-.-.-.-.-.-.-.-.-.-.-.-.-.-.-.-.-.-.')\n",
    "\n",
    "# Si dos elementos coinciden en longitud, aparecerá primero, el que primero encuentre\n",
    "lista_animales_2 = ['conejo', 'gato', 'índice', 'gato','Árbol', 'árbol','Arbol','arbol','hámster', 'jilguero', 'perro', 'Perro']\n",
    "lista_animales_2.sort(key=str.lower)\n",
    "print(lista_animales_2)"
   ]
  },
  {
   "cell_type": "code",
   "execution_count": 36,
   "metadata": {},
   "outputs": [
    {
     "name": "stdout",
     "output_type": "stream",
     "text": [
      "['Arbol', 'arbol', 'conejo', 'gato', 'gato', 'hámster', 'jilguero', 'perro', 'Perro', 'Árbol', 'árbol', 'índice', 'pingüino', 'ñu']\n",
      "['arbol', 'arbol', 'arbol', 'arbol', 'conejo', 'gato', 'gato', 'hamster', 'indice', 'jilguero', 'nu', 'perro', 'perro', 'pinguino']\n"
     ]
    }
   ],
   "source": [
    "# Código para quitar virgulilla, tildes étc, pasar a minúsculas y poner lista en orden alfabetico:\n",
    "\n",
    "lista_animales_3=['Arbol', 'arbol', 'conejo', 'gato', 'gato', 'hámster', 'jilguero', 'perro', 'Perro', 'Árbol', 'árbol', \n",
    "                  'índice', \"pingüino\",\"ñu\"]\n",
    "print(lista_animales_3)\n",
    "\n",
    "import unidecode\n",
    "\n",
    "lista_buena = []\n",
    "\n",
    "for palabra in lista_animales_3:\n",
    "    palabra = unidecode.unidecode(palabra)\n",
    "    palabra = palabra.lower()\n",
    "    lista_buena.append(palabra)\n",
    "    lista_buena.sort()\n",
    "print(lista_buena)"
   ]
  },
  {
   "cell_type": "markdown",
   "metadata": {},
   "source": [
    "Se puede poblar una lista utilizando un bucle for de la siguiente forma:"
   ]
  },
  {
   "cell_type": "code",
   "execution_count": 38,
   "metadata": {},
   "outputs": [
    {
     "data": {
      "text/plain": [
       "[1, 2, 3, 4, 5]"
      ]
     },
     "execution_count": 38,
     "metadata": {},
     "output_type": "execute_result"
    }
   ],
   "source": [
    "list = [ numero for numero in range(1,6) ]\n",
    "list"
   ]
  },
  {
   "cell_type": "markdown",
   "metadata": {},
   "source": [
    "Podemos añadir condicionales if también:"
   ]
  },
  {
   "cell_type": "code",
   "execution_count": 39,
   "metadata": {},
   "outputs": [
    {
     "data": {
      "text/plain": [
       "[3, 4, 5]"
      ]
     },
     "execution_count": 39,
     "metadata": {},
     "output_type": "execute_result"
    }
   ],
   "source": [
    "lista = [ numero for numero in range(1,6) if numero >= 3]\n",
    "lista"
   ]
  },
  {
   "cell_type": "markdown",
   "metadata": {},
   "source": [
    "O aplicar una función:"
   ]
  },
  {
   "cell_type": "code",
   "execution_count": 40,
   "metadata": {},
   "outputs": [
    {
     "data": {
      "text/plain": [
       "[(3, False), (4, True), (5, False)]"
      ]
     },
     "execution_count": 40,
     "metadata": {},
     "output_type": "execute_result"
    }
   ],
   "source": [
    "def es_par(numero):\n",
    "    if numero % 2 == 0:\n",
    "        return True\n",
    "    else:\n",
    "        return False\n",
    "\n",
    "lista = [ (numero, es_par(numero)) for numero in range(1,6) if numero >= 3]\n",
    "lista"
   ]
  }
 ],
 "metadata": {
  "kernelspec": {
   "display_name": "Python 3",
   "language": "python",
   "name": "python3"
  },
  "language_info": {
   "codemirror_mode": {
    "name": "ipython",
    "version": 3
   },
   "file_extension": ".py",
   "mimetype": "text/x-python",
   "name": "python",
   "nbconvert_exporter": "python",
   "pygments_lexer": "ipython3",
   "version": "3.11.3"
  },
  "orig_nbformat": 4
 },
 "nbformat": 4,
 "nbformat_minor": 2
}
