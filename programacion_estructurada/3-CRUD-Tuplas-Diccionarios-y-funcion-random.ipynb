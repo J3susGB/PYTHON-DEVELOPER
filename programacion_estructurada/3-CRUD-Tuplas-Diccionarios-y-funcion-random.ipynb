{
 "cells": [
  {
   "cell_type": "markdown",
   "metadata": {},
   "source": [
    "## 1.- TUPLAS EN PYTHON\n",
    "- Son listas inmutables, esto quiere decir que no se pueden modificar con append, extend o remove.\n",
    "- Utilidad --> Son más rápidas, formatean un String y se pueden utilizar con claves para diccionarios\n",
    "- Para las tuplas, se pueden usar las mismas funciones que en las listas, y los mismos métodos para recorrerlas y demás, con la excepción de las funciones y métodos que modifiquen valores, estos, no funcionarán en las tuplas\n"
   ]
  },
  {
   "cell_type": "markdown",
   "metadata": {},
   "source": [
    "Para crear una tupla, hay 2 opciones:\n"
   ]
  },
  {
   "cell_type": "code",
   "execution_count": 2,
   "metadata": {},
   "outputs": [
    {
     "name": "stdout",
     "output_type": "stream",
     "text": [
      "('Melón', 'Papaya', 'Sandia', 'Platano')\n"
     ]
    }
   ],
   "source": [
    "# Opción 1:\n",
    "\n",
    "frutas = ('Melón', 'Papaya', 'Sandia', 'Platano')\n",
    "print(frutas)"
   ]
  },
  {
   "cell_type": "code",
   "execution_count": 3,
   "metadata": {},
   "outputs": [
    {
     "name": "stdout",
     "output_type": "stream",
     "text": [
      "('Melón', 'Papaya', 'Sandia', 'Platano')\n"
     ]
    }
   ],
   "source": [
    "# Opción 2:\n",
    "\n",
    "frutas2 = tuple(('Melón', 'Papaya', 'Sandia', 'Platano')) \n",
    "\n",
    "print(frutas2)"
   ]
  },
  {
   "cell_type": "markdown",
   "metadata": {},
   "source": [
    "Se puede crear una tupla con x número de valores, y luego, se pueden crear distintas variables para asignarlos a los valores de la tupla.\n",
    "Es importante RESALTAR que el número de variables que se asignan a los valores de la tupla, tiene que ser el mismo que el número de elementos que tiene dicha tupla:"
   ]
  },
  {
   "cell_type": "code",
   "execution_count": 4,
   "metadata": {},
   "outputs": [
    {
     "name": "stdout",
     "output_type": "stream",
     "text": [
      "Jesús Gomez Beltran 34 647548874\n"
     ]
    }
   ],
   "source": [
    "tupla = ('Jesús', 'Gomez', 'Beltran', 34, 647548874) #Se crea la tupla\n",
    "nombre, apellido1, apellido2, edad, telefono = tupla #Se asignan los valores de la tupla a las variables\n",
    "\n",
    "print(nombre, apellido1, apellido2, edad, telefono)\n",
    "\n"
   ]
  },
  {
   "cell_type": "markdown",
   "metadata": {},
   "source": [
    "En un determinado momento, puuede interesar convertir la tupla en lista, para poder modificarla por ejemplo, se puede hacer de la siguiente forma:"
   ]
  },
  {
   "cell_type": "code",
   "execution_count": 7,
   "metadata": {},
   "outputs": [
    {
     "name": "stdout",
     "output_type": "stream",
     "text": [
      "Esto es una tupla--> ('Jesús', 'Gomez', 'Beltran', 34, 647548874)\n",
      "Esto es una lista--> ['Jesús', 'Gomez', 'Beltran', 34, 647548874]\n"
     ]
    }
   ],
   "source": [
    "lista_de_tupla = list(tupla)\n",
    "print(f'Esto es una tupla--> {tupla}')\n",
    "print(f'Esto es una lista--> {lista_de_tupla}')\n"
   ]
  },
  {
   "cell_type": "markdown",
   "metadata": {},
   "source": [
    "## 2.- DICCIONARIOS EN PYTHON\n",
    "\n",
    "- Colecciones de datos con un formato especial que permite definir y acceder a los componentes únicamente mediante una clave. Cada componente de un diccionario es una par clave:valor, y se escriben entre llaves, separados por comas con la siguiente síntaxis:\n",
    "\n",
    "        {clave:valor, clave:valor, clave:valor}\n",
    "\n",
    "- Las claves pueden ser de diferentes tipos, y los datos también pueden ser de diferentes tipos, inclusive listas o tuplas.\n",
    "- No se pueden modificar las claves pero si los valores.\n",
    "- Los componentes de un diccionario no están en un orden específico\n",
    "- Para los diccionarios, se pueden usar las mismas funciones que en las listas, y los mismos métodos para recorrerlas y demás\n"
   ]
  },
  {
   "cell_type": "markdown",
   "metadata": {},
   "source": [
    "1.- Creación de diccionario:"
   ]
  },
  {
   "cell_type": "code",
   "execution_count": 8,
   "metadata": {},
   "outputs": [
    {
     "name": "stdout",
     "output_type": "stream",
     "text": [
      "{'nombre': 'Jesus', 'apellido': 'Gomez', 'Lenguaje': 'Python', 'Fruta': 'Melocoton'}\n"
     ]
    }
   ],
   "source": [
    "dict1 = {'nombre': \"Jesus\", \"apellido\":\"Gomez\", \"Lenguaje\": \"Python\", \"Fruta\": \"Melocoton\"}\n",
    "print(dict1)"
   ]
  },
  {
   "cell_type": "markdown",
   "metadata": {},
   "source": [
    "2.- Para acceder a un valor del diccionario por su clave:"
   ]
  },
  {
   "cell_type": "code",
   "execution_count": 10,
   "metadata": {},
   "outputs": [
    {
     "name": "stdout",
     "output_type": "stream",
     "text": [
      "Jesus\n",
      "Melocoton\n"
     ]
    }
   ],
   "source": [
    "print(dict1[\"nombre\"])\n",
    "print(dict1[\"Fruta\"])\n"
   ]
  },
  {
   "cell_type": "markdown",
   "metadata": {},
   "source": [
    "3.- Ejercicio propuesto:\n",
    "De una lista de personas, crear un programa que le asigne un descuento aleatorio, que vaya del 0 al 100, y guardar el resutado en un diccionario:"
   ]
  },
  {
   "cell_type": "code",
   "execution_count": 13,
   "metadata": {},
   "outputs": [
    {
     "name": "stdout",
     "output_type": "stream",
     "text": [
      "{'Jesus': 61, 'Lourdes': 73, 'Jose': 43, 'Victor': 57}\n"
     ]
    }
   ],
   "source": [
    "import random\n",
    "\n",
    "personas = ['Jesus', 'Lourdes', 'Jose', 'Victor']\n",
    "dic_descuentos = {i:random.randint(1,100) for i in personas}\n",
    "print(dic_descuentos)"
   ]
  },
  {
   "cell_type": "markdown",
   "metadata": {},
   "source": [
    "4.- Ejercicio propuesto: Tenemos dos listas, hay que unirlas en una, y luego transformarlas en un único diccionario"
   ]
  },
  {
   "cell_type": "code",
   "execution_count": 36,
   "metadata": {},
   "outputs": [
    {
     "name": "stdout",
     "output_type": "stream",
     "text": [
      "- lista de países--> ['China', 'India', 'EEUU', 'Indonesia']\n",
      "- lista de estudiantes--> [1391, 1364, 327, 264]\n",
      "- Unión de las dos listas--> [('China', 1391), ('India', 1364), ('EEUU', 327), ('Indonesia', 264)]\n",
      ".-.-.-.-.-.-.-.-.-.-.-.-.-.-.-.-.-.-.-.-.-.-.-.-.-.-.-.-.-.-..-.-.-.-.-.-.-.-.-.-.-.-.-.-.-.-.-.-.-.-.-.-.-.-.-.-\n",
      "- En China hay 1391 millones de estudiantes\n",
      "- En India hay 1364 millones de estudiantes\n",
      "- En EEUU hay 327 millones de estudiantes\n",
      "- En Indonesia hay 264 millones de estudiantes\n",
      ".-.-.-.-.-.-.-.-.-.-.-.-.-.-.-.-.-.-.-.-.-.-.-.-.-.-.-.-.-.-..-.-.-.-.-.-.-.-.-.-.-.-.-.-.-.-.-.-.-.-.-.-.-.-.-.-\n",
      "- Transformadas las dos listas en un diccionario--> {'China': 1391, 'India': 1364, 'EEUU': 327, 'Indonesia': 264}\n"
     ]
    }
   ],
   "source": [
    "pais = ['China', 'India', 'EEUU', 'Indonesia']\n",
    "poblacion = [1391, 1364, 327, 264]\n",
    "\n",
    "print(f'- lista de países--> {pais}')\n",
    "print(f'- lista de estudiantes--> {poblacion}')\n",
    "\n",
    "#Para unirlas, es bastane útil usar la función zip:\n",
    "lista_poblacion = list(zip(pais, poblacion))\n",
    "print (f'- Unión de las dos listas--> {lista_poblacion}')\n",
    "\n",
    "print('.-.-.-.-.-.-.-.-.-.-.-.-.-.-.-.-.-.-.-.-.-.-.-.-.-.-.-.-.-.-..-.-.-.-.-.-.-.-.-.-.-.-.-.-.-.-.-.-.-.-.-.-.-.-.-.-')\n",
    "\n",
    "#Para recorrer esta lista nueva creada:\n",
    "for i, j in zip(pais,poblacion):\n",
    "    print(f'- En {i} hay {j} millones de estudiantes')\n",
    "\n",
    "print('.-.-.-.-.-.-.-.-.-.-.-.-.-.-.-.-.-.-.-.-.-.-.-.-.-.-.-.-.-.-..-.-.-.-.-.-.-.-.-.-.-.-.-.-.-.-.-.-.-.-.-.-.-.-.-.-')\n",
    "\n",
    "#Transformación de las dos listas en un diccionario:\n",
    "dict_paises = {i:j for (i,j) in zip(pais,poblacion)}\n",
    "print (f'- Transformadas las dos listas en un diccionario--> {dict_paises}')\n",
    "\n"
   ]
  },
  {
   "cell_type": "markdown",
   "metadata": {},
   "source": [
    "5.- Ejercicio propuesto: De las personas con el descuento aleatorio, solo mostrar los que tengan uno mayor a 50"
   ]
  },
  {
   "cell_type": "code",
   "execution_count": 3,
   "metadata": {},
   "outputs": [
    {
     "name": "stdout",
     "output_type": "stream",
     "text": [
      "{'Jesus': 99, 'Lourdes': 40, 'Jose': 59, 'Victor': 69}\n",
      "*************** DESCUENTOS MAYORES DE 50 ***************\n",
      "{'Jesus': 99, 'Jose': 59, 'Victor': 69}\n"
     ]
    }
   ],
   "source": [
    "import random\n",
    "\n",
    "personas = ['Jesus', 'Lourdes', 'Jose', 'Victor']\n",
    "dic_descuentos = {i:random.randint(1,100) for i in personas}\n",
    "print(dic_descuentos)\n",
    "print('*************** DESCUENTOS MAYORES DE 50 ***************')\n",
    "salida = {personas:dic_descuentos for(personas,dic_descuentos) in dic_descuentos.items() if dic_descuentos > 50}\n",
    "print(salida)\n",
    "\n",
    "# el .items lo que hace es recorrer cada elemento del diccionario, uno por uno"
   ]
  },
  {
   "cell_type": "markdown",
   "metadata": {},
   "source": [
    "## 3.- FUNCIÓN RAMDON EN PYTHON\n",
    "\n",
    "- Contiene una serie de funciones relacionadas con valores aleatorios"
   ]
  },
  {
   "cell_type": "markdown",
   "metadata": {},
   "source": [
    "1.- Generar un número aleatorio:"
   ]
  },
  {
   "cell_type": "code",
   "execution_count": 7,
   "metadata": {},
   "outputs": [
    {
     "name": "stdout",
     "output_type": "stream",
     "text": [
      "Eres mayor de edad, tienes 19 años\n"
     ]
    }
   ],
   "source": [
    "aleatorio =random.randrange(50) #Generará un nº aleatorio entre 0 y 50\n",
    "\n",
    "if aleatorio > 18:\n",
    "    print(f\"Eres mayor de edad, tienes {aleatorio} años\")\n",
    "else:\n",
    "    print(f\"Eres menor de edad, tienes {aleatorio} años todavía\")\n",
    "\n",
    "    "
   ]
  },
  {
   "cell_type": "markdown",
   "metadata": {},
   "source": [
    "2.- Elegir de forma aletaria un valor de una lista, tupla, diccionario e imprimirlo por ejemplo (se podría hacer cualquier cosa con el):"
   ]
  },
  {
   "cell_type": "code",
   "execution_count": 37,
   "metadata": {},
   "outputs": [
    {
     "name": "stdout",
     "output_type": "stream",
     "text": [
      "**** En una lista ****\n",
      "2\n",
      "**** En una tupla ****\n",
      "33\n",
      "**** En un diccionario ****\n",
      "r\n",
      "**** En una palabra ****\n",
      "r\n",
      "**** En una frase ****\n",
      "a\n"
     ]
    }
   ],
   "source": [
    "print('**** En una lista ****')\n",
    "\n",
    "list1 = [1,2,4,7,8,3,4]\n",
    "print(random.choice(list1))\n",
    "\n",
    "print('**** En una tupla ****')\n",
    "\n",
    "tupla1 = (10,12,14,17,18,33,54)\n",
    "print(random.choice(tupla1))\n",
    "\n",
    "print('**** En un diccionario ****')\n",
    "\n",
    "dicc = {'Nombre':'Jesus', 'Apellido': 'Gomez', 'Edad': 34, 'Profesión': 'Python Data Analist'}\n",
    "for i in dicc:\n",
    "    print(random.choice(i))\n",
    "    break\n",
    "\n",
    "print('**** En una palabra ****')\n",
    "\n",
    "#Podría hacerse también para que eligira por ejemplo la letra de una palabra o frase:\n",
    "string = 'pelotero'\n",
    "print(random.choice(string))\n",
    "\n",
    "print('**** En una frase ****')\n",
    "\n",
    "string2 = 'Esto es una frase de prueba'\n",
    "print(random.choice(string2[8:11])) #Cogerá una letra aleatoriamente de entre el rango especificado en el parámetro\n",
    "\n"
   ]
  },
  {
   "cell_type": "markdown",
   "metadata": {},
   "source": [
    "3.- Imprimir porcentajes con random y opciones de decimal:"
   ]
  },
  {
   "cell_type": "code",
   "execution_count": 141,
   "metadata": {},
   "outputs": [
    {
     "name": "stdout",
     "output_type": "stream",
     "text": [
      "**** Número entero aleatorio ****\n",
      "18\n",
      "**** Número entero aleatorio con incremento o decremento****\n",
      "9\n",
      "**** Número decimal aleatorio ****\n",
      "0.87\n",
      "**** Número decimal aleatorio entre rango de valores ****\n",
      "1.57\n"
     ]
    }
   ],
   "source": [
    "print('**** Número entero aleatorio ****')\n",
    "value = random.randint(1,20) \n",
    "print(value) #imprimirá un número entero de entre el 1 y el 20\n",
    "\n",
    "print('**** Número entero aleatorio con incremento o decremento****')\n",
    "value2 = random.randrange(1,20,8)\n",
    "print(value2) #imprimirá un número entero de entre el 1 y el 20 con incremento o decremento de 8\n",
    "\n",
    "print('**** Número decimal aleatorio ****')\n",
    "decimal = round(random.random(),2)\n",
    "print(decimal)\n",
    "\n",
    "print('**** Número decimal aleatorio entre rango de valores ****')\n",
    "decimal2 = round(random.uniform(1,10),2)\n",
    "print(decimal2)\n"
   ]
  },
  {
   "cell_type": "markdown",
   "metadata": {},
   "source": [
    "4.- Cambiar o mezclar aleatoriamente el orden de los elementos de una lista antes de realizar la selección de alguno de ellos:"
   ]
  },
  {
   "cell_type": "code",
   "execution_count": 181,
   "metadata": {},
   "outputs": [
    {
     "name": "stdout",
     "output_type": "stream",
     "text": [
      "Primera mezcla: ['verde', 'gris', 'azul', 'amarillo', 'rojo']\n",
      "Segunda mezcla: ['amarillo', 'rojo', 'azul', 'verde', 'gris']\n",
      "Tercera mezcla: ['gris', 'rojo', 'verde', 'azul', 'amarillo']\n"
     ]
    }
   ],
   "source": [
    "colores = ['rojo', 'amarillo', 'verde', 'gris', 'azul']\n",
    "\n",
    "random.shuffle(colores)\n",
    "print(f'Primera mezcla: {colores}')\n",
    "\n",
    "random.shuffle(colores)\n",
    "print(f'Segunda mezcla: {colores}')\n",
    "\n",
    "random.shuffle(colores)\n",
    "print(f'Tercera mezcla: {colores}')"
   ]
  },
  {
   "cell_type": "markdown",
   "metadata": {},
   "source": [
    "5.- Devolver de una lista de elementos un determinado de elementos diferentes elegidos al azar:"
   ]
  },
  {
   "cell_type": "code",
   "execution_count": 195,
   "metadata": {},
   "outputs": [
    {
     "name": "stdout",
     "output_type": "stream",
     "text": [
      "[1, 6]\n",
      "**** Ejemplo práctico ****\n",
      "Valor elegido: 4\n",
      "Valor elegido: 2\n",
      "Valor elegido: 1\n",
      "Valor elegido: 9\n"
     ]
    }
   ],
   "source": [
    "azar = [1,2,3,4,5,6,7,8,9]\n",
    "\n",
    "print(random.sample(azar,2)) #El número 2 como parámetro significa que coja dos valores al azar\n",
    "\n",
    "print('**** Ejemplo práctico ****')\n",
    "\n",
    "# Se podría utilizar de la siguiente forma:\n",
    "for i in random.sample(azar, 4):\n",
    "    print(f'Valor elegido: {i}')"
   ]
  },
  {
   "cell_type": "markdown",
   "metadata": {},
   "source": [
    "6.- Llenar una lista por medio de números aleatorios:"
   ]
  },
  {
   "cell_type": "code",
   "execution_count": 201,
   "metadata": {},
   "outputs": [
    {
     "name": "stdout",
     "output_type": "stream",
     "text": [
      "[22, 54, 46, 13, 52, 41, 5, 97, 7, 78]\n"
     ]
    }
   ],
   "source": [
    "random_list = []\n",
    "\n",
    "for i in range(10):\n",
    "    random_list.append(random.randint(0,100))\n",
    "    \n",
    "print (random_list)"
   ]
  },
  {
   "cell_type": "markdown",
   "metadata": {},
   "source": [
    "7.- Ejercicio propuesto 1: Se realizan 5 sorteos y se obtiene, para cada uno de ellos, un regalo de 10 posibles:"
   ]
  },
  {
   "cell_type": "code",
   "execution_count": 160,
   "metadata": {},
   "outputs": [
    {
     "name": "stdout",
     "output_type": "stream",
     "text": [
      "Sorteo 1--> Tu premio es: Silla\n",
      "Sorteo 2--> Tu premio es: USB\n",
      "Sorteo 3--> Tu premio es: HP Pavilion\n",
      "Sorteo 4--> Tu premio es: auriculares gaming\n",
      "Sorteo 5--> Tu premio es: Mouse\n"
     ]
    }
   ],
   "source": [
    "regalos = ['USB', 'Silla', 'Mesa', 'XBoxOne', 'Playstation5', 'auriculares gaming', 'Samsung Tab', 'Mechero', 'Mouse', 'HP Pavilion']\n",
    "\n",
    "\n",
    "for sorteo in range(5):\n",
    "    premio = regalos[random.randint(0,9)]\n",
    "    print(f\"Sorteo {sorteo+1}--> Tu premio es: {premio}\")"
   ]
  }
 ],
 "metadata": {
  "kernelspec": {
   "display_name": "Python 3",
   "language": "python",
   "name": "python3"
  },
  "language_info": {
   "codemirror_mode": {
    "name": "ipython",
    "version": 3
   },
   "file_extension": ".py",
   "mimetype": "text/x-python",
   "name": "python",
   "nbconvert_exporter": "python",
   "pygments_lexer": "ipython3",
   "version": "3.11.3"
  },
  "orig_nbformat": 4
 },
 "nbformat": 4,
 "nbformat_minor": 2
}
