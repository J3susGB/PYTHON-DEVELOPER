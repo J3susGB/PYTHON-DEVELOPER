{
 "cells": [
  {
   "cell_type": "markdown",
   "metadata": {},
   "source": [
    "# 1.- CONDICIONALES\n"
   ]
  },
  {
   "cell_type": "markdown",
   "metadata": {},
   "source": [
    "Sentencias Condicionales If-elif-else \n",
    "\n",
    "Las sentencias condicionales If-Elif-Else nos permiten controlar lo que queremos que ocurra si se cumple cierta condición. Traducido a un lenguaje coloquial sería: (if) si se cumple esta condición haz esto, (elif) o si se cumple esta otra condición haz esto otro, (else) en cualquier otro caso haz aquello.\n",
    "\n",
    "\n",
    "<br><br>\n",
    "Pero empecemos por la versión más simple. Si solo queremos una condición simple, podríamos escribir:\n",
    "\n",
    "If (condición a verificar):<br>\n",
    "    &emsp; Instrucciones a ejecutar si se cumple la condición.\n",
    "\n",
    "<br>\n",
    "El siguiente código comprueba si el valor de la variable a es mayor que b."
   ]
  },
  {
   "cell_type": "code",
   "execution_count": 1,
   "metadata": {},
   "outputs": [
    {
     "name": "stdout",
     "output_type": "stream",
     "text": [
      "El valor de a es mayor que el de b\n"
     ]
    }
   ],
   "source": [
    "a= 15\n",
    "b= 10\n",
    "\n",
    "if (a > b):  #Condición a comprobar. Si a es mayor que b\n",
    "    print(\"El valor de a es mayor que el de b\") #Mostramos un mensaje diciendo que a es mayor a b"
   ]
  },
  {
   "cell_type": "markdown",
   "metadata": {},
   "source": [
    "### ELSE ###\n",
    "\n",
    "También podemos específicar que ocurrirá cuando no se cumpla la condición. En tal caso podríamos escribir:\n",
    "\n",
    "if(condición a verificar): <br>\n",
    "&emsp; Instrucciones a ejecutar si se cumple la condición.<br>\n",
    "else: <br>\n",
    "&emsp; Instrucciones a ejecutar si no se cumple la condición.\n",
    "\n",
    "<br><br>\n",
    "El siguiente ejemplo comprueba si el valor de a es mayor que el de b y si no, imprime un mensaje indicando que el valor de a es menor o igual al de b."
   ]
  },
  {
   "cell_type": "code",
   "execution_count": 2,
   "metadata": {},
   "outputs": [
    {
     "name": "stdout",
     "output_type": "stream",
     "text": [
      "¡Correcto! El número es positivo.\n",
      "Ha escrito el número 4\n"
     ]
    }
   ],
   "source": [
    "numero = int(input(\"Escriba un número positivo: \"))\n",
    "\n",
    "if numero < 0:\n",
    "    print(\"¡El número debe ser positivo!\")\n",
    "else:\n",
    "    print(\"¡Correcto! El número es positivo.\")\n",
    "    \n",
    "print(f\"Ha escrito el número {numero}\")"
   ]
  },
  {
   "cell_type": "markdown",
   "metadata": {},
   "source": [
    "Y, ¿cómo hacemos si en alguna de las condiciones no quisiéramos realizar ninguna acción?\n"
   ]
  },
  {
   "cell_type": "code",
   "execution_count": 3,
   "metadata": {},
   "outputs": [
    {
     "name": "stdout",
     "output_type": "stream",
     "text": [
      "Dices que tienes 8 años.\n"
     ]
    }
   ],
   "source": [
    "edad = int(input(\"¿Cuántos años tienes? \"))\n",
    "\n",
    "if edad < 120:\n",
    "    pass\n",
    "else:\n",
    "    print(\"¡No me lo creo!\")\n",
    "    \n",
    "print(f\"Dices que tienes {edad} años.\")"
   ]
  },
  {
   "cell_type": "markdown",
   "metadata": {},
   "source": [
    "### ELIF ###\n",
    "\n",
    "Con la sentencia elif podemos definir condiciones adicionales a comprobar. La estructura podría ser esta:\n",
    "\n",
    "<br>\n",
    "if(condición a verificar):<br>\n",
    "  Instrucciones a ejecutar si se cumple la condición.<br>\n",
    "elif(condición a verificar):<br>\n",
    "  &emsp;Instrucciones a ejecutar si se cumple la condición.<br>\n",
    "else:<br>\n",
    "  Instrucciones a ejecutar si no se cumple la condición.\n",
    "  \n",
    " <br>\n",
    " \n",
    "El programa pasa por el primer if. Si no se cumple la condición, pasa a comprobar si se cumple la condición contenida en elif. Si esta condición tampoco se cumple, pasa a realizar las instrucciones contenidas en el else. <br><br>\n",
    "\n",
    "En el siguiente ejemplo se comprueba si el valor de a e"
   ]
  },
  {
   "cell_type": "code",
   "execution_count": 4,
   "metadata": {},
   "outputs": [
    {
     "name": "stdout",
     "output_type": "stream",
     "text": [
      "El valor de a es mayor que 0\n"
     ]
    }
   ],
   "source": [
    "a= 20\n",
    "\n",
    "\n",
    "if (a > 0): #Condición a comprobar. Si a es mayor que b\n",
    "    print(\"El valor de a es mayor que 0\") \n",
    "elif (a == 0): #Si a es igual a 0. \n",
    "    print(\"El valor de a es igual a 0\")\n",
    "elif (a < 0):\n",
    "    print(\"El valor de a es menor a 0\")\n",
    "else: #En otro caso\n",
    "    print(\"Puede que no sea un número\")"
   ]
  },
  {
   "cell_type": "markdown",
   "metadata": {},
   "source": [
    "### Varias condiciones en la misma sentencia IF ###\n",
    "\n",
    "Se pueden combinar varias condiciones dentro de una sentencia if, de forma que solo se ejecute el código de su interior si se cumple la combinación de éstas. Una posible estructura quedaría así.<br>\n",
    "\n",
    "if(condicion_1 & condicion_2):<br>\n",
    "&emsp; Instrucciones a ejecutar. <br>\n",
    "\n",
    "<br>\n",
    "Un posible ejemplo sería:"
   ]
  },
  {
   "cell_type": "code",
   "execution_count": 5,
   "metadata": {},
   "outputs": [
    {
     "name": "stdout",
     "output_type": "stream",
     "text": [
      "Bienvenido Andrés\n"
     ]
    }
   ],
   "source": [
    "usuario= \"Andrés\"\n",
    "password = 1234\n",
    "\n",
    "if((usuario == \"Andrés\") and (password == 1234) ): #Si el usuario es Andrés y la contraseña es 1234\n",
    "    print(\"Bienvenido Andrés\")\n",
    "else:\n",
    "    print(\"El usuario o la contraseña son incorrectos\")"
   ]
  },
  {
   "cell_type": "code",
   "execution_count": 6,
   "metadata": {},
   "outputs": [
    {
     "name": "stdout",
     "output_type": "stream",
     "text": [
      "Contraseña válida\n"
     ]
    }
   ],
   "source": [
    "# Ejemplo con OR\n",
    "password = 12345\n",
    "\n",
    "if ((password == 1234) or (password == 12345)) : #Si la contraseña es alguna de las dos\n",
    "    print(\"Contraseña válida\")\n",
    "else:\n",
    "    print(\"Contraseña incorrecta\")"
   ]
  },
  {
   "cell_type": "markdown",
   "metadata": {},
   "source": [
    "### Sentencias IF anidadas  ###\n",
    "\n",
    "Se pueden construir sentencias IF anidadas, es decir, podemos crear una sentencia If dentro de otra. Para ello su estructura podría ser la siguiente: <br>\n",
    "\n",
    "if(condicion_1):<br>\n",
    "&emsp;if(condicion_2):<br>\n",
    "&emsp;&emsp;Instrucciones a ejecutar<br>\n",
    "\n",
    "<br>\n",
    "Un ejemplo podría ser el siguiente: "
   ]
  },
  {
   "cell_type": "code",
   "execution_count": 7,
   "metadata": {},
   "outputs": [
    {
     "name": "stdout",
     "output_type": "stream",
     "text": [
      "No sé que coche es\n"
     ]
    }
   ],
   "source": [
    "coche = bool(input(\"Escribe True o False:\"))\n",
    "modelo = input(\"Escribe Toyota o no\")\n",
    "\n",
    "if (coche == True): #Condición: Si es un coche\n",
    "    if (modelo == \"Toyota\"): #Si además es es ese modelo, sé que es un todoterreno\n",
    "        print(\"Es un todoterreno\")\n",
    "    else:\n",
    "        print(\"No sé que coche es\")\n",
    "else: #Si no es un coche\n",
    "    print(\"No tienes un coche\")"
   ]
  },
  {
   "cell_type": "markdown",
   "metadata": {},
   "source": [
    "# 2.- BUCLE FOR\n",
    "\n",
    "El bucle For seguramente sea el más utilizado para iterar sobre listas, diccionarios o conjuntos de datos con un tamaño ya definido. La estructura básica sería la siguiente:\n",
    "\n",
    "for elemento in lista[]:<br>\n",
    "&emsp;Instrucciones a ejecutar.<br>\n",
    "\n",
    "\n",
    "Por ejemplo, para una lista dada, podríamos recorrerla con un bucle for de la siguiente manera:"
   ]
  },
  {
   "cell_type": "code",
   "execution_count": 13,
   "metadata": {},
   "outputs": [
    {
     "name": "stdout",
     "output_type": "stream",
     "text": [
      "Comprar: arroz\n",
      "Comprar: patata\n",
      "Comprar: maíz\n",
      "Comprar: chile habanero\n"
     ]
    }
   ],
   "source": [
    "lista_compra = [\"arroz\", \"patata\", \"maíz\", \"chile habanero\"]  \n",
    "                                                              \n",
    "for producto in lista_compra:\n",
    "    print(\"Comprar:\", producto)"
   ]
  },
  {
   "cell_type": "markdown",
   "metadata": {},
   "source": [
    "También es posible generar un rango de valores que recorrerá el bucle for:"
   ]
  },
  {
   "cell_type": "code",
   "execution_count": 14,
   "metadata": {},
   "outputs": [
    {
     "name": "stdout",
     "output_type": "stream",
     "text": [
      "Valor de e: 1\n",
      "Valor de e: 2\n",
      "Valor de e: 3\n",
      "Valor de e: 4\n",
      "Valor de e: 5\n",
      "Valor de e: 6\n"
     ]
    }
   ],
   "source": [
    "for e in range(1, 7):\n",
    "    print(\"Valor de e:\", e)"
   ]
  },
  {
   "cell_type": "markdown",
   "metadata": {},
   "source": [
    "La función range() devuelve una secuencia de números, comenzando desde 0 de forma predeterminada. Lo incrementa de 1 en 1(también de manera predeterminada) y se detiene antes de un número especificado.\n",
    "Su sintáxis es : range(start, stop, step)"
   ]
  },
  {
   "cell_type": "code",
   "execution_count": 15,
   "metadata": {},
   "outputs": [
    {
     "name": "stdout",
     "output_type": "stream",
     "text": [
      "3\n",
      "5\n",
      "7\n",
      "9\n",
      "11\n",
      "13\n",
      "15\n",
      "17\n",
      "19\n"
     ]
    }
   ],
   "source": [
    "# Crea una secuencia de números del 3 al 19, pero incrementándolo de dos en dos.\n",
    "\n",
    "y = range(3, 20, 2)\n",
    "for n in y:\n",
    "  print(n)"
   ]
  },
  {
   "cell_type": "markdown",
   "metadata": {},
   "source": [
    "También es posible anidar dos bucles for, de manera que por cada iteración del primer for se ejecutará completamente el bucle for contenido en él. Un ejemplo podría ser generar las distintas combinaciones de dos listas."
   ]
  },
  {
   "cell_type": "code",
   "execution_count": 16,
   "metadata": {},
   "outputs": [
    {
     "name": "stdout",
     "output_type": "stream",
     "text": [
      "Camiseta de color rojo\n",
      "Camiseta de color azul\n",
      "Camiseta de color verde\n",
      "Pantalón de color rojo\n",
      "Pantalón de color azul\n",
      "Pantalón de color verde\n",
      "Abrigo de color rojo\n",
      "Abrigo de color azul\n",
      "Abrigo de color verde\n"
     ]
    }
   ],
   "source": [
    "lista_prendas = [\"Camiseta\", \"Pantalón\", \"Abrigo\"]\n",
    "lista_colores = [\"rojo\", \"azul\", \"verde\"]\n",
    "\n",
    "for prenda in lista_prendas:\n",
    "    for color in lista_colores:\n",
    "        print(f\"{prenda} de color {color}\")"
   ]
  },
  {
   "cell_type": "markdown",
   "metadata": {},
   "source": [
    "Se pueden anidar dos bucles for, para conseguir, por ejemplo, todas las tablas de multiplicar, de la siguiente manera:"
   ]
  },
  {
   "cell_type": "code",
   "execution_count": 17,
   "metadata": {},
   "outputs": [
    {
     "name": "stdout",
     "output_type": "stream",
     "text": [
      "1 X 1 = 1\n",
      "1 X 2 = 2\n",
      "1 X 3 = 3\n",
      "1 X 4 = 4\n",
      "1 X 5 = 5\n",
      "1 X 6 = 6\n",
      "1 X 7 = 7\n",
      "1 X 8 = 8\n",
      "1 X 9 = 9\n",
      "1 X 10 = 10\n",
      "2 X 1 = 2\n",
      "2 X 2 = 4\n",
      "2 X 3 = 6\n",
      "2 X 4 = 8\n",
      "2 X 5 = 10\n",
      "2 X 6 = 12\n",
      "2 X 7 = 14\n",
      "2 X 8 = 16\n",
      "2 X 9 = 18\n",
      "2 X 10 = 20\n",
      "3 X 1 = 3\n",
      "3 X 2 = 6\n",
      "3 X 3 = 9\n",
      "3 X 4 = 12\n",
      "3 X 5 = 15\n",
      "3 X 6 = 18\n",
      "3 X 7 = 21\n",
      "3 X 8 = 24\n",
      "3 X 9 = 27\n",
      "3 X 10 = 30\n",
      "4 X 1 = 4\n",
      "4 X 2 = 8\n",
      "4 X 3 = 12\n",
      "4 X 4 = 16\n",
      "4 X 5 = 20\n",
      "4 X 6 = 24\n",
      "4 X 7 = 28\n",
      "4 X 8 = 32\n",
      "4 X 9 = 36\n",
      "4 X 10 = 40\n",
      "5 X 1 = 5\n",
      "5 X 2 = 10\n",
      "5 X 3 = 15\n",
      "5 X 4 = 20\n",
      "5 X 5 = 25\n",
      "5 X 6 = 30\n",
      "5 X 7 = 35\n",
      "5 X 8 = 40\n",
      "5 X 9 = 45\n",
      "5 X 10 = 50\n",
      "6 X 1 = 6\n",
      "6 X 2 = 12\n",
      "6 X 3 = 18\n",
      "6 X 4 = 24\n",
      "6 X 5 = 30\n",
      "6 X 6 = 36\n",
      "6 X 7 = 42\n",
      "6 X 8 = 48\n",
      "6 X 9 = 54\n",
      "6 X 10 = 60\n",
      "7 X 1 = 7\n",
      "7 X 2 = 14\n",
      "7 X 3 = 21\n",
      "7 X 4 = 28\n",
      "7 X 5 = 35\n",
      "7 X 6 = 42\n",
      "7 X 7 = 49\n",
      "7 X 8 = 56\n",
      "7 X 9 = 63\n",
      "7 X 10 = 70\n",
      "8 X 1 = 8\n",
      "8 X 2 = 16\n",
      "8 X 3 = 24\n",
      "8 X 4 = 32\n",
      "8 X 5 = 40\n",
      "8 X 6 = 48\n",
      "8 X 7 = 56\n",
      "8 X 8 = 64\n",
      "8 X 9 = 72\n",
      "8 X 10 = 80\n",
      "9 X 1 = 9\n",
      "9 X 2 = 18\n",
      "9 X 3 = 27\n",
      "9 X 4 = 36\n",
      "9 X 5 = 45\n",
      "9 X 6 = 54\n",
      "9 X 7 = 63\n",
      "9 X 8 = 72\n",
      "9 X 9 = 81\n",
      "9 X 10 = 90\n",
      "10 X 1 = 10\n",
      "10 X 2 = 20\n",
      "10 X 3 = 30\n",
      "10 X 4 = 40\n",
      "10 X 5 = 50\n",
      "10 X 6 = 60\n",
      "10 X 7 = 70\n",
      "10 X 8 = 80\n",
      "10 X 9 = 90\n",
      "10 X 10 = 100\n"
     ]
    }
   ],
   "source": [
    "for i in range(1,11):\n",
    "    for j in range(1,11):\n",
    "        print(f'{i} X {j} = {i*j}')"
   ]
  },
  {
   "cell_type": "markdown",
   "metadata": {},
   "source": [
    "Se puede recorrer una cadena de texto, para contar, por ejemplo el número de veces que aparece una letra:"
   ]
  },
  {
   "cell_type": "code",
   "execution_count": 18,
   "metadata": {},
   "outputs": [
    {
     "name": "stdout",
     "output_type": "stream",
     "text": [
      "La letra s se repite 2 veces\n",
      "********* ********* *********\n",
      "El en texto hay 6 vocales\n"
     ]
    }
   ],
   "source": [
    "texto = 'Jesus Gomez Beltran'\n",
    "contador = 0\n",
    "\n",
    "# Vamos a contar cuantas veces se repite la letra s:\n",
    "\n",
    "buscar = 's'\n",
    "\n",
    "for i in texto:\n",
    "    if i == buscar:\n",
    "        contador +=1\n",
    "print(f'La letra {buscar} se repite {contador} veces')\n",
    "\n",
    "print ('********* ********* *********')\n",
    "\n",
    "# Vamos a contar cuántas vocales hay en el texto:\n",
    "contador = 0\n",
    "for v in texto.lower():\n",
    "    if v == 'a' or v == 'e' or v == 'i' or v == 'o' or v == 'u':\n",
    "        contador += 1\n",
    "print(f'El en texto hay {contador} vocales')"
   ]
  },
  {
   "cell_type": "markdown",
   "metadata": {},
   "source": [
    "#### Enumerate ####\n",
    "\n",
    "Genera un indice por cada elemento de un objeto iterable."
   ]
  },
  {
   "cell_type": "code",
   "execution_count": 19,
   "metadata": {},
   "outputs": [
    {
     "name": "stdout",
     "output_type": "stream",
     "text": [
      "[(0, 'Mercurio'), (1, 'Venus'), (2, 'La Tierra'), (3, 'Marte'), (4, 'Júpiter'), (5, 'Saturno'), (6, 'Urano'), (7, 'Neptuno')]\n"
     ]
    }
   ],
   "source": [
    "list_planetas  = [\"Mercurio\", \"Venus\", \"La Tierra\", \"Marte\", \"Júpiter\", \"Saturno\", \"Urano\", \"Neptuno\"]\n",
    "\n",
    "lista_numerada = enumerate(list_planetas)\n",
    "\n",
    "print(list(lista_numerada))"
   ]
  },
  {
   "cell_type": "code",
   "execution_count": 20,
   "metadata": {},
   "outputs": [
    {
     "name": "stdout",
     "output_type": "stream",
     "text": [
      "El indice es: 0 y el planeta Mercurio\n",
      "El indice es: 1 y el planeta Venus\n",
      "El indice es: 2 y el planeta La Tierra\n",
      "El indice es: 3 y el planeta Marte\n",
      "El indice es: 4 y el planeta Júpiter\n",
      "El indice es: 5 y el planeta Saturno\n",
      "El indice es: 6 y el planeta Urano\n",
      "El indice es: 7 y el planeta Neptuno\n"
     ]
    }
   ],
   "source": [
    "for indice, planeta in enumerate(list_planetas):\n",
    "    print(f\"El indice es: {indice} y el planeta {planeta}\")"
   ]
  },
  {
   "cell_type": "markdown",
   "metadata": {},
   "source": [
    "#### Zip ####\n",
    "\n",
    "zip() para dos listas dadas, genera un nuevo objeto donde se empareja cada elemento de una lista con el otro, de acuerdo a su posición."
   ]
  },
  {
   "cell_type": "code",
   "execution_count": 21,
   "metadata": {},
   "outputs": [
    {
     "name": "stdout",
     "output_type": "stream",
     "text": [
      "[('Juan', 25), ('María', 30), ('Luis', 27), ('Ana', 22)]\n"
     ]
    }
   ],
   "source": [
    "nombres = ['Juan', 'María', 'Luis', 'Ana']\n",
    "edades = [25, 30, 27, 22]\n",
    "\n",
    "personas = list(zip(nombres, edades))\n",
    "print(personas)"
   ]
  },
  {
   "cell_type": "code",
   "execution_count": 22,
   "metadata": {},
   "outputs": [
    {
     "name": "stdout",
     "output_type": "stream",
     "text": [
      "('Juan', 25)\n",
      "('María', 30)\n",
      "('Luis', 27)\n",
      "('Ana', 22)\n"
     ]
    }
   ],
   "source": [
    "for elemento in zip(nombres, edades):\n",
    "    print(elemento)"
   ]
  },
  {
   "cell_type": "markdown",
   "metadata": {},
   "source": [
    "También es posible interrumpir la ejecución del bucle mediante la sentencia break y continue."
   ]
  },
  {
   "cell_type": "code",
   "execution_count": 23,
   "metadata": {},
   "outputs": [
    {
     "name": "stdout",
     "output_type": "stream",
     "text": [
      "********* BREAK *********\n",
      "Comprar: arroz\n",
      "Comprar: patata\n",
      "\n",
      "********* CONTINUE *********\n",
      "Producto: arroz\n",
      "Producto: maíz\n",
      "Producto: chile habanero\n"
     ]
    }
   ],
   "source": [
    "#uso de break\n",
    "print ('********* BREAK *********')\n",
    "\n",
    "lista_compra = [\"arroz\", \"patata\", \"maíz\", \"chile habanero\"]\n",
    "\n",
    "for producto in lista_compra:\n",
    "    if producto == \"maíz\":\n",
    "        break\n",
    "    print(\"Comprar:\", producto)\n",
    "    \n",
    "print ('\\n********* CONTINUE *********')\n",
    "\n",
    "#uso de continue\n",
    "\n",
    "lista_compra = [\"arroz\", \"patata\", \"maíz\", \"chile habanero\"]\n",
    "\n",
    "\n",
    "for producto in lista_compra:\n",
    "    if producto == \"patata\":\n",
    "        continue\n",
    "    print(\"Producto:\", producto)"
   ]
  },
  {
   "cell_type": "markdown",
   "metadata": {},
   "source": [
    "# 3.- BUCLE WHILE\n",
    "\n",
    "\n",
    "El bucle While ejecutará el código contenido en él hasta que se deje de cumplir la condición dada. Su estructura sería la siguiente:<br>\n",
    "\n",
    "while (condición):<br>\n",
    "&emsp;Instrucciones a ejecutar mientras se cumpla la condición<br>\n",
    "<br>\n",
    "Nótese que es necesario introducir algún elemento que haga que tras ciertas repeticiones consiga que se cumpla la condición. Si no, el bucle while no dejaría de ejecutarse jamás.<br>\n",
    "\n",
    "Las variables que aparecen en la condición, se suelen llamar variables de control. Estas variables de control deben definirse antes del bucle WHILE y modificarse durante él. \n",
    "\n",
    "En el siguiente ejemplo se muestra un simple bucle que terminará cuando el valor de i sea igual a 5."
   ]
  },
  {
   "cell_type": "code",
   "execution_count": 27,
   "metadata": {},
   "outputs": [
    {
     "name": "stdout",
     "output_type": "stream",
     "text": [
      "El nuevo valor de i es: 1\n",
      "El nuevo valor de i es: 2\n",
      "El nuevo valor de i es: 3\n",
      "El nuevo valor de i es: 4\n",
      "El nuevo valor de i es: 5\n",
      "Programa terminado\n"
     ]
    }
   ],
   "source": [
    "i = 1 \n",
    "\n",
    "while (i <= 5):\n",
    "    print(\"El nuevo valor de i es:\", i)\n",
    "    i= i+1 #También podríamos haber escrito i += 1. Significa lo mismo\n",
    "print(\"Programa terminado\")"
   ]
  },
  {
   "cell_type": "markdown",
   "metadata": {},
   "source": [
    "Ventaja para modificar con flexibilidad las variables de control. \n",
    "Por ejemplo, en vez de uno en uno, cada 3 veces i + 1"
   ]
  },
  {
   "cell_type": "code",
   "execution_count": 28,
   "metadata": {},
   "outputs": [
    {
     "name": "stdout",
     "output_type": "stream",
     "text": [
      "El nuevo valor de i es: 1\n",
      "El nuevo valor de i es: 4\n",
      "El nuevo valor de i es: 13\n",
      "El nuevo valor de i es: 40\n",
      "Programa terminado\n"
     ]
    }
   ],
   "source": [
    "i = 1 \n",
    "\n",
    "while (i <= 50):\n",
    "    print(\"El nuevo valor de i es:\", i)\n",
    "    i= 3 * i + 1\n",
    "print(\"Programa terminado\")"
   ]
  },
  {
   "cell_type": "markdown",
   "metadata": {},
   "source": [
    "El número de iteraciones no está definido antes de empezar el bucle, por ejemplo, porque los datos los proporcione el usuario por pantalla:"
   ]
  },
  {
   "cell_type": "code",
   "execution_count": null,
   "metadata": {},
   "outputs": [],
   "source": [
    "numero = int(input(\"Escriba un número positivo: \"))\n",
    "\n",
    "while numero < 0:\n",
    "    print(\"¡Ha escrito un número negativo! Inténtelo de nuevo\")\n",
    "    numero = int(input(\"Escriba un número positivo: \"))\n",
    "    \n",
    "print(\"Gracias por su colaboración\")"
   ]
  },
  {
   "cell_type": "code",
   "execution_count": null,
   "metadata": {},
   "outputs": [],
   "source": [
    "palabra = input(\"Introducir palabra\").lower()\n",
    "\n",
    "while (palabra != \"salir\"):\n",
    "    print(\"Introduce otra palabra\")\n",
    "    palabra = input(\"Introducir palabra\").lower()\n",
    "    print(palabra)"
   ]
  },
  {
   "cell_type": "markdown",
   "metadata": {},
   "source": [
    "## Bucles infinitos ##\n",
    "Hay que tener cuidado pues, si la condición del bucle se cumple siempre, no terminará de ejecutarse nunca y tendremos lo que se denomina un bucle infinito.Estos deben evitarse a toda costa."
   ]
  },
  {
   "cell_type": "markdown",
   "metadata": {},
   "source": [
    "#### Break y continue ####\n",
    "\n",
    "También se puede salir del bucle sin esperar a que se ejecuten todas sus repeticiones, con la sentencia break. Esta sentencia se suele utilizar cuando tenemos una lista de elementos muy grandes y queremos que el bucle finalice cuando encontremos un elemento\n",
    "específico sin tener que mirar toda la lista. \n",
    "Por ejemplo, en el código el bucle terminará cuando en contador llegue a 4, en lugar de ejecutar las 100 iteraciones predefinidas."
   ]
  },
  {
   "cell_type": "code",
   "execution_count": 29,
   "metadata": {},
   "outputs": [
    {
     "name": "stdout",
     "output_type": "stream",
     "text": [
      "El nuevo valor de i es: 1\n",
      "El nuevo valor de i es: 2\n",
      "El nuevo valor de i es: 3\n",
      "El nuevo valor de i es: 4\n",
      "Se va a salir del bucle\n"
     ]
    }
   ],
   "source": [
    "i = 1 \n",
    "\n",
    "while (i <= 100):\n",
    "    print(f\"El nuevo valor de i es: {i}\")\n",
    "    \n",
    "    if(i == 4):\n",
    "        print(\"Se va a salir del bucle\")\n",
    "        break\n",
    "        \n",
    "    i= i+1 "
   ]
  },
  {
   "cell_type": "code",
   "execution_count": 30,
   "metadata": {},
   "outputs": [
    {
     "name": "stdout",
     "output_type": "stream",
     "text": [
      "1 2 3 4 5 6 7 8 9 10 11 12 13 14 15 16 17 18 19 20 "
     ]
    }
   ],
   "source": [
    "# Otro ejemplo con break\n",
    "i = 0\n",
    "\n",
    "while True:\n",
    "    i+=1\n",
    "    print(i, end=\" \")\n",
    "    \n",
    "    if i==20:\n",
    "        break"
   ]
  },
  {
   "cell_type": "markdown",
   "metadata": {},
   "source": [
    "Otra sentencia a conocer es continue. Se diferencia de break en que continue no detiene el bucle, sino que pasa a la siguiente iteración o repetición del mismo sin esperar a que se ejecuten el resto de instrucciones. En el siguiente código se harán 8 iteraciones pero no sé mostrará el valor de i cuando i valga 4."
   ]
  },
  {
   "cell_type": "code",
   "execution_count": 31,
   "metadata": {},
   "outputs": [
    {
     "name": "stdout",
     "output_type": "stream",
     "text": [
      "El valor de i es: 1\n",
      "El valor de i es: 2\n",
      "El valor de i es: 3\n",
      "El valor de i es: 5\n",
      "El valor de i es: 6\n",
      "El valor de i es: 7\n",
      "El valor de i es: 8\n",
      "El valor de i es: 9\n"
     ]
    }
   ],
   "source": [
    "i = 0 \n",
    "\n",
    "while (i <= 8):\n",
    "    i +=1\n",
    "    \n",
    "    if(i == 4):\n",
    "        continue\n",
    "        \n",
    "    print(f\"El valor de i es: {i}\")"
   ]
  },
  {
   "cell_type": "markdown",
   "metadata": {},
   "source": [
    "#### Múltiples condiciones ####\n",
    "\n",
    "Al igual que en las sentencias If, podemos incluir varias condiciones a cumplir para detener el bucle. "
   ]
  },
  {
   "cell_type": "code",
   "execution_count": 32,
   "metadata": {},
   "outputs": [
    {
     "name": "stdout",
     "output_type": "stream",
     "text": [
      "El valor de i es: 2 suma 0\n",
      "El valor de i es: 4 suma 2\n",
      "El valor de i es: 6 suma 6\n",
      "El valor de i es: 8 suma 12\n",
      "El valor de i es: 10 suma 20\n",
      "El valor de i es: 12 suma 30\n",
      "El valor de i es: 14 suma 42\n",
      "El valor de i es: 16 suma 56\n",
      "El valor de i es: 18 suma 72\n",
      "El valor de i es: 20 suma 90\n",
      "El valor de i es: 22 suma 110\n",
      "El bucle ha terminado.\n"
     ]
    }
   ],
   "source": [
    "i = 0\n",
    "suma = 0\n",
    "\n",
    "while suma < 100 and i < 40:\n",
    "    suma += i\n",
    "    i += 2\n",
    "    print(f\"El valor de i es: {i} suma {suma}\")\n",
    "\n",
    "print(\"El bucle ha terminado.\")"
   ]
  },
  {
   "cell_type": "markdown",
   "metadata": {},
   "source": [
    "### Bucles While anidados ####\n",
    "\n",
    "Podemos anidar uno o varios bucles while dentro de otros. De tal forma que por cada iteración del primer bucle se ejecutarán todas las necesarias del bucle definido dentro de este."
   ]
  },
  {
   "cell_type": "code",
   "execution_count": 33,
   "metadata": {},
   "outputs": [
    {
     "name": "stdout",
     "output_type": "stream",
     "text": [
      "Valor de i: 1\n",
      "Valor de j: 1\n",
      "Valor de j: 2\n",
      "Valor de j: 3\n",
      "Valor de i: 2\n",
      "Valor de j: 1\n",
      "Valor de j: 2\n",
      "Valor de j: 3\n"
     ]
    }
   ],
   "source": [
    "i = 1\n",
    "j = 1\n",
    "\n",
    "while i <= 2:\n",
    "    print(f\"Valor de i: {i}\")\n",
    "    while j <= 3:\n",
    "        print(f\"Valor de j: {j}\")\n",
    "        j += 1\n",
    "    i += 1\n",
    "    j = 1"
   ]
  }
 ],
 "metadata": {
  "kernelspec": {
   "display_name": "Python 3",
   "language": "python",
   "name": "python3"
  },
  "language_info": {
   "codemirror_mode": {
    "name": "ipython",
    "version": 3
   },
   "file_extension": ".py",
   "mimetype": "text/x-python",
   "name": "python",
   "nbconvert_exporter": "python",
   "pygments_lexer": "ipython3",
   "version": "3.11.3"
  },
  "orig_nbformat": 4
 },
 "nbformat": 4,
 "nbformat_minor": 2
}
