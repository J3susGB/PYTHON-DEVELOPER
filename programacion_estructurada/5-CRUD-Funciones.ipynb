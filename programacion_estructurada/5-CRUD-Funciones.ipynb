{
 "cells": [
  {
   "cell_type": "markdown",
   "metadata": {},
   "source": [
    "# FUNCIONES"
   ]
  },
  {
   "cell_type": "markdown",
   "metadata": {},
   "source": [
    "# Funciones #\n",
    "\n",
    "\n",
    "Las funciones permiten definir bloques de código reutilizables, los cuales serán ejecutados al llamar a la función. Una función queda expresada de la siguiente manera: <br>\n",
    "\n",
    "def nombre_funcion(): <br>\n",
    "&emsp;Instrucciones a ejecutar\n",
    "\n",
    "En Python, una definición de función tiene las siguientes características:\n",
    "\n",
    "* La palabra clave def\n",
    "\n",
    "* Un nombre de función\n",
    "\n",
    "* Paréntesis ’()’, y dentro de los paréntesis los parámetros de entrada, aunque los parámetros de entrada sean opcionales.\n",
    "\n",
    "* Dos puntos ’:’\n",
    "\n",
    "* Algún bloque de código para ejecutar\n",
    "\n",
    "* Una sentencia de retorno (opcional)\n",
    "\n",
    "__El bloque de código que ejecutará la función incluye todas las declaraciones con indentación dentro de la función.__\n",
    "\n",
    "Para llamar a la función solo deberemos escribir el nombre de la función."
   ]
  },
  {
   "cell_type": "code",
   "execution_count": 1,
   "metadata": {},
   "outputs": [
    {
     "name": "stdout",
     "output_type": "stream",
     "text": [
      "hola\n"
     ]
    }
   ],
   "source": [
    "# función sin parámetros o retorno de valores\n",
    "def diHola():\n",
    "    print(\"hola\")\n",
    "    \n",
    "diHola()  # llamada a la función, 'Hello!' se muestra en la consola"
   ]
  },
  {
   "cell_type": "markdown",
   "metadata": {},
   "source": [
    "### Parámetros ###\n",
    "Las funciones tienen la característica de admitir parámetros, los cuales son datos que la función utilizará para completar sus instrucciones. Además, estos parámetros pueden ser obligatorios u opcionales, dándoles un valor por defecto. Para pasarle los datos a la función deberemos pasarle los datos en la llamada de la función."
   ]
  },
  {
   "cell_type": "code",
   "execution_count": 2,
   "metadata": {},
   "outputs": [
    {
     "name": "stdout",
     "output_type": "stream",
     "text": [
      "Hello Jesús!\n"
     ]
    }
   ],
   "source": [
    "# función con un parámetro\n",
    "def holaConNombre(name):\n",
    "    print(\"Hello \" + name + \"!\")\n",
    "\n",
    "holaConNombre(\"Jesús\")  # llamada a la función, 'Hello Jesús!' se muestra en la consola"
   ]
  },
  {
   "cell_type": "code",
   "execution_count": 3,
   "metadata": {},
   "outputs": [
    {
     "name": "stdout",
     "output_type": "stream",
     "text": [
      "15\n"
     ]
    }
   ],
   "source": [
    "# función con dos parámetros\n",
    "def multiplica(val1: int, val2: int):\n",
    "    val3 = val1 * val2\n",
    "    print(val3)\n",
    "\n",
    "\n",
    "multiplica(3, 5)  # muestra 15 en la consola"
   ]
  },
  {
   "cell_type": "markdown",
   "metadata": {},
   "source": [
    "Si la definición de una función incluye parámetros, debemos proporcionar el mismo número de parámetros cuando llamemos a la función:"
   ]
  },
  {
   "cell_type": "markdown",
   "metadata": {},
   "source": [
    "Se puede poner para que los parámetros sean opcionales, de la siguiente forma:"
   ]
  },
  {
   "cell_type": "code",
   "execution_count": 4,
   "metadata": {},
   "outputs": [
    {
     "name": "stdout",
     "output_type": "stream",
     "text": [
      "Hola Jesús\n",
      "Hola Jesús Gómez\n",
      "25\n",
      "32\n"
     ]
    }
   ],
   "source": [
    "#El parámetro nombre es requerido y apellidos es opcional.\n",
    "def saludar(nombre, apellidos = None):\n",
    "    \n",
    "    if apellidos == None: #Si no se ha indicado los apellidos imprimimos solo el nombre.\n",
    "        print(\"Hola\", nombre)\n",
    "    else:\n",
    "        print(\"Hola\", nombre, apellidos) #Si se han indicado los apellidos imprimimos nombre y apellidos.\n",
    "        \n",
    "saludar('Jesús')\n",
    "saludar ('Jesús', 'Gómez')\n",
    "\n",
    "# Otro ejemplo con un parámetro opcional numérico\n",
    "def sumar(x, y, z = 0): # \"Inicializamos\" la z en cero\n",
    "    suma = x + y + z\n",
    "    print(suma)\n",
    "    \n",
    "sumar(5,20)\n",
    "sumar(5,20, 7)"
   ]
  },
  {
   "cell_type": "markdown",
   "metadata": {},
   "source": [
    "Como se ha comentado anteriormente, la gran ventaja de las funciones es que podemos llamarlas tantas veces como queramos sin tener que rescribir cada vez el código.<br><br>\n",
    "\n",
    "El siguiente código toma una lista de nombres y realiza el saludo para cada nombre."
   ]
  },
  {
   "cell_type": "code",
   "execution_count": 5,
   "metadata": {},
   "outputs": [
    {
     "name": "stdout",
     "output_type": "stream",
     "text": [
      "Hola María\n",
      "Hola Antonio\n",
      "Hola Juana\n"
     ]
    }
   ],
   "source": [
    "#Definición de la función\n",
    "def saludar(nombre):\n",
    "    print(\"Hola\", nombre)\n",
    "\n",
    "#Lista de nombres\n",
    "lista_nombres = [\"María\", \"Antonio\", \"Juana\"]\n",
    "\n",
    "#Para cada elemento de la lista llamamos a la función saludar.\n",
    "for i in lista_nombres:\n",
    "    saludar(i)"
   ]
  },
  {
   "cell_type": "markdown",
   "metadata": {},
   "source": [
    "También es posible llamar a los parámetros de forma desordenada, indicando el nombre de los mismos al realizar la llamada a la función:"
   ]
  },
  {
   "cell_type": "code",
   "execution_count": 8,
   "metadata": {},
   "outputs": [
    {
     "name": "stdout",
     "output_type": "stream",
     "text": [
      "Hola Morante Canario Pilar\n",
      "Hola Pilar Morante Canario\n"
     ]
    }
   ],
   "source": [
    "def saludar(nombre, apellidos):\n",
    "    print(\"Hola\", nombre, apellidos)\n",
    "\n",
    "saludar(\"Morante Canario\",\"Pilar\")\n",
    "\n",
    "saludar(apellidos=\"Morante Canario\", nombre=\"Pilar\")"
   ]
  },
  {
   "cell_type": "code",
   "execution_count": 14,
   "metadata": {},
   "outputs": [
    {
     "name": "stdout",
     "output_type": "stream",
     "text": [
      "5050\n"
     ]
    }
   ],
   "source": [
    "def suma_rangos(start,stop):\n",
    "    suma = 0\n",
    "    for a in range(start,stop):\n",
    "        suma += a\n",
    "    print(suma)\n",
    "    \n",
    "suma_rangos(0,101)"
   ]
  },
  {
   "cell_type": "markdown",
   "metadata": {},
   "source": [
    "Se pueden hacer funciones más complejas, como por ejemplo:"
   ]
  },
  {
   "cell_type": "code",
   "execution_count": 17,
   "metadata": {},
   "outputs": [
    {
     "name": "stdout",
     "output_type": "stream",
     "text": [
      "Los números son: -5 y 9\n",
      "ERROR. Los dos números tienen que ser enteros positivos\n"
     ]
    }
   ],
   "source": [
    "def sumaDos():\n",
    "    a = int(input(\"Introduce el primer número\"))\n",
    "    b = int(input(\"Introduce el segundo número\"))\n",
    "    print (f'Los números son: {a} y {b}')\n",
    "    if a > 0 and b > 0:\n",
    "        suma = a+b\n",
    "        print(f'La suma de {a} + {b} = {suma}')\n",
    "    else:\n",
    "        print('ERROR. Los dos números tienen que ser enteros positivos')\n",
    "        \n",
    "# Llamamos a la función:\n",
    "sumaDos()"
   ]
  },
  {
   "cell_type": "markdown",
   "metadata": {},
   "source": [
    "Se puede hacer la misma función pero en lugar de usando print, usando return:"
   ]
  },
  {
   "cell_type": "code",
   "execution_count": 22,
   "metadata": {},
   "outputs": [
    {
     "name": "stdout",
     "output_type": "stream",
     "text": [
      "Los números son: 4 y 6\n"
     ]
    },
    {
     "data": {
      "text/plain": [
       "10"
      ]
     },
     "execution_count": 22,
     "metadata": {},
     "output_type": "execute_result"
    }
   ],
   "source": [
    "def sumaDos2():\n",
    "    a = int(input(\"Introduce el primer número\"))\n",
    "    b = int(input(\"Introduce el segundo número\"))\n",
    "    print (f'Los números son: {a} y {b}')\n",
    "    if a > 0 and b > 0:\n",
    "        suma = a+b\n",
    "        return suma\n",
    "    else:\n",
    "        print('ERROR. Los dos números tienen que ser enteros positivos')\n",
    "        \n",
    "# Llamamos a la función:\n",
    "sumaDos2()"
   ]
  },
  {
   "cell_type": "markdown",
   "metadata": {},
   "source": [
    "### Return ###\n",
    "Muchas veces es necesario que la función __retorne__ datos al terminar de ejecutarse para poder usarlos en el resto del código (script), para retornar datos se puede hacer uso de la sentencia __return__ y asignar los valores a variables para poder usarlos.\n",
    "\n",
    "Hay que tener en cuenta que, cuando la ejecución alcanza la sentencia return, la ejecución de la función finaliza automáticamente. Esto puede ser muy útil cuando queremos comprobar el argumento pasado y evitar que se procesen el resto de instrucciones innecesariamente.\n",
    "\n",
    "La sentencia return se usa en los métodos y funciones para finalizar y retornar valores a la ejecución que lo ejecutó. Esta sentencia que puede ser muy útil para un gran número de caso como cuando quiere recuperar el cálculo y tratamiento de datos, validaciones de datos, obtenciones de datos …."
   ]
  },
  {
   "cell_type": "code",
   "execution_count": 26,
   "metadata": {},
   "outputs": [
    {
     "name": "stdout",
     "output_type": "stream",
     "text": [
      "El resultado es : False\n",
      "----------------------------------------\n",
      "Contando: 5\n",
      "Contando: 4\n",
      "Contando: 3\n",
      "Contando: 2\n",
      "Contando: 1\n",
      "El resultado es : True\n"
     ]
    }
   ],
   "source": [
    "# La función del ejemplo comprueba si el número es mayor o igual que 10 y si es menor hace una cuenta atrás\n",
    "# desde el número hasta 0.\n",
    "\n",
    "def comprobar_numero(numero):\n",
    "        if numero >= 10:\n",
    "            return False\n",
    "        \n",
    "        for n in range(numero, 0, -1):\n",
    "            print(\"Contando:\", n)\n",
    "            \n",
    "        return True\n",
    "\n",
    "# Llamamos a la función:\n",
    "resultado = comprobar_numero(25)\n",
    "print(f\"El resultado es : {resultado}\")\n",
    "\n",
    "print('----------------------------------------')\n",
    "\n",
    "# Volvemos a llamar a la función:\n",
    "resultado = comprobar_numero(5)\n",
    "print(f\"El resultado es : {resultado}\")"
   ]
  },
  {
   "cell_type": "markdown",
   "metadata": {},
   "source": [
    "La sentencia return puede retornar todo tipo de datos como objetos, listas, variables... \n",
    "\n",
    "Además, return también __tiene la capacidad de devolver varios datos al mismo tiempo__. Solo tendremos que indicarle los datos que queremos que devuelva, separándolos por comas.\n"
   ]
  },
  {
   "cell_type": "code",
   "execution_count": 29,
   "metadata": {},
   "outputs": [
    {
     "name": "stdout",
     "output_type": "stream",
     "text": [
      "var1 = True\n",
      "var2 = 2350008\n",
      "----------------------------------------\n",
      "{'Éxito': True, 'Número': 2350008}\n"
     ]
    }
   ],
   "source": [
    "def funcion():\n",
    "    return True, 2350008\n",
    "\n",
    "#Asignación a dos variables independientes\n",
    "var1, var2 = funcion()\n",
    "print(f'var1 = {var1}')\n",
    "print(f'var2 = {var2}')\n",
    "\n",
    "print('----------------------------------------')\n",
    "\n",
    "#Asignación a dos claves de un mismo diccionario\n",
    "diccionario={}\n",
    "diccionario[\"Éxito\"], diccionario[\"Número\"] = funcion()\n",
    "\n",
    "print(diccionario)"
   ]
  },
  {
   "cell_type": "markdown",
   "metadata": {},
   "source": [
    "### Algunas funciones predefinidas ###\n"
   ]
  },
  {
   "cell_type": "markdown",
   "metadata": {},
   "source": [
    "Divmod: Devuelve el resultado de la división y el resto"
   ]
  },
  {
   "cell_type": "code",
   "execution_count": 37,
   "metadata": {},
   "outputs": [
    {
     "name": "stdout",
     "output_type": "stream",
     "text": [
      "- la división es: (5, 0)\n",
      "\t·El resultado es 5\n",
      "\t·El resto es 0\n"
     ]
    }
   ],
   "source": [
    "def division (a,b):\n",
    "    return divmod(a,b)\n",
    "\n",
    "operacion = division(10,2)\n",
    "print(f'- la división es: {operacion}')\n",
    "\n",
    "print(f'\\t·El resultado es {operacion[0]}')\n",
    "print(f'\\t·El resto es {operacion[1]}')"
   ]
  },
  {
   "cell_type": "markdown",
   "metadata": {},
   "source": [
    "Max(): Devuelve el mayor de los números pasados como parámetros"
   ]
  },
  {
   "cell_type": "code",
   "execution_count": 38,
   "metadata": {},
   "outputs": [
    {
     "name": "stdout",
     "output_type": "stream",
     "text": [
      "El mayor es: 90\n"
     ]
    }
   ],
   "source": [
    "def menorNmayorN(a,b,c,d):\n",
    "    mayor = max(a,b,c,d)\n",
    "    return mayor\n",
    "\n",
    "r = mayorN(5,8,2,90)\n",
    "print(f'El mayor es: {r}')"
   ]
  },
  {
   "cell_type": "markdown",
   "metadata": {},
   "source": [
    "Min(): Devuelve el menor de los números pasados como parámetros"
   ]
  },
  {
   "cell_type": "code",
   "execution_count": 39,
   "metadata": {},
   "outputs": [
    {
     "name": "stdout",
     "output_type": "stream",
     "text": [
      "El menor es: 2\n"
     ]
    }
   ],
   "source": [
    "def menorN(a,b,c,d):\n",
    "    menor = min(a,b,c,d)\n",
    "    return menor\n",
    "\n",
    "r2 = menorN(5,8,2,90)\n",
    "print(f'El menor es: {r2}')"
   ]
  },
  {
   "cell_type": "markdown",
   "metadata": {},
   "source": [
    "*args:\n",
    "\n",
    "Puede darse el caso de que no sepamos cuantos argumentos vamos a enviar a la función. En este caso, al definir la función indicaremos el parámetro __args precedido de *__, que nos permite pasar tantos argumentos como queramos.\n",
    "\n"
   ]
  },
  {
   "cell_type": "code",
   "execution_count": 46,
   "metadata": {},
   "outputs": [
    {
     "name": "stdout",
     "output_type": "stream",
     "text": [
      "Roberto\n",
      "137\n"
     ]
    }
   ],
   "source": [
    "# Ejemplo\n",
    "def sum(*args, cliente):\n",
    "    print(cliente)\n",
    "    \"\"\"\n",
    "    la función sum calcula la suma de todos los parámetros que introduzcamos.\n",
    "    \n",
    "    Los...\n",
    "    \n",
    "    Devuelve...\n",
    "    \"\"\"\n",
    "    value = 0\n",
    "    for n in args:\n",
    "        value += n\n",
    "    print(value)\n",
    "    \n",
    "sum(2,3,6,8,9,109, cliente=\"Roberto\")"
   ]
  },
  {
   "cell_type": "markdown",
   "metadata": {},
   "source": [
    "Con esta nueva implementación, podemos llamar a la función con cualquier número variable de valores:\n",
    "    "
   ]
  },
  {
   "cell_type": "code",
   "execution_count": 47,
   "metadata": {},
   "outputs": [
    {
     "name": "stdout",
     "output_type": "stream",
     "text": [
      "Juan\n",
      "0\n",
      "Juan\n",
      "5\n",
      "Juan\n",
      "10\n",
      "Juan\n",
      "101\n"
     ]
    }
   ],
   "source": [
    "sum(cliente = 'Juan')\n",
    "\n",
    "sum(2,3, cliente = 'Juan')\n",
    "\n",
    "sum(1,1,1,1,1,1,1,1,1,1, cliente = 'Juan')\n",
    "\n",
    "sum(1,100, cliente = 'Juan')"
   ]
  },
  {
   "cell_type": "code",
   "execution_count": 2,
   "metadata": {},
   "outputs": [
    {
     "name": "stdout",
     "output_type": "stream",
     "text": [
      "('José', 'Miguel', 'Arturo', 'Lourdes')\n",
      "\n",
      "Saludos José\n",
      "Saludos Miguel\n",
      "Saludos Arturo\n",
      "Saludos Lourdes\n"
     ]
    }
   ],
   "source": [
    "def saludar (*personas):\n",
    "    print (f'{personas}\\n') # Así imprimirá las personas como una lista\n",
    "    \n",
    "    for p in personas:\n",
    "        print(f'Saludos {p}')\n",
    "        \n",
    "# Llamamos a la función saludar con n parámetros:\n",
    "\n",
    "saludar('José', 'Miguel', 'Arturo', 'Lourdes')"
   ]
  },
  {
   "cell_type": "markdown",
   "metadata": {},
   "source": [
    "Sum():\n",
    "\n",
    "Devuelve la suma de los númmeros indicados por parámetro:"
   ]
  },
  {
   "cell_type": "code",
   "execution_count": 3,
   "metadata": {},
   "outputs": [
    {
     "name": "stdout",
     "output_type": "stream",
     "text": [
      "La suma es: 6\n"
     ]
    }
   ],
   "source": [
    "def suma(*num):\n",
    "    r = sum(num)\n",
    "    return r\n",
    "\n",
    "# Llamamos a la función, pero guardando su valor en una variable:\n",
    "\n",
    "sumaN = suma(1,2,3)\n",
    "print(f'La suma es: {sumaN}')"
   ]
  },
  {
   "cell_type": "markdown",
   "metadata": {},
   "source": [
    "**kwargs:\n",
    "\n",
    "Veamos ahora el uso de **kwargs como parámetro.\n",
    "\n",
    "En Python, el parámetro especial **kwargs en una función se usa para pasar, de forma opcional, un número variable de argumentos con nombre. Es un diccionario cuyas claves se convierten en parámetros y sus valores en los argumentos de los parámetros.\n",
    "\n",
    "Las principales diferencias con respecto *args son:\n",
    "\n",
    "* Lo que realmente indica que el parámetro es de este tipo es el símbolo ‘**’, el nombre kwargs se usa por convención.\n",
    "* El parámetro recibe los argumentos como un diccionario.\n",
    "* Al tratarse de un diccionario, el orden de los parámetros no importa. Los parámetros se asocian en función de las claves del diccionario.\n",
    "\n",
    "__Hay que destacar que la sintaxis es * y ** , siendo los nombres de args y kwargs una simple convención, pero no es un requisito estricto su uso; es decir, que si a una función le pasamos como argumento * mi_lista o  **mi_diccionario tendrá el mismo efecto.__"
   ]
  },
  {
   "cell_type": "code",
   "execution_count": 48,
   "metadata": {},
   "outputs": [
    {
     "name": "stdout",
     "output_type": "stream",
     "text": [
      "nombre'-'Ricardo\n",
      "apellido'-'Ramon\n",
      "edad'-'50\n",
      "Argumento: nombre y valor: Ricardo\n",
      "Argumento: apellido y valor: Ramon\n",
      "Argumento: edad y valor: 50\n"
     ]
    }
   ],
   "source": [
    "def dict_args(**kwargs):\n",
    "    for key, value in kwargs.items():\n",
    "        print(f\"{key}'-'{value}\")\n",
    "        \n",
    "    for key in kwargs:\n",
    "        print(f\"Argumento: {key} y valor: {kwargs[key]}\")\n",
    "        \n",
    "dict_args(nombre='Ricardo', apellido='Ramon', edad=50)"
   ]
  },
  {
   "cell_type": "code",
   "execution_count": 49,
   "metadata": {},
   "outputs": [
    {
     "name": "stdout",
     "output_type": "stream",
     "text": [
      "Equipo'-'FC Barcelona\n",
      "Jugador'-'Iniesta\n",
      "Posicion'-'Right winger\n",
      "Numero'-'8\n",
      "Argumento: Equipo y valor: FC Barcelona\n",
      "Argumento: Jugador y valor: Iniesta\n",
      "Argumento: Posicion y valor: Right winger\n",
      "Argumento: Numero y valor: 8\n"
     ]
    }
   ],
   "source": [
    "dict_args(Equipo='FC Barcelona', Jugador='Iniesta', Posicion='Right winger', Numero=8)"
   ]
  },
  {
   "cell_type": "code",
   "execution_count": 50,
   "metadata": {},
   "outputs": [
    {
     "name": "stdout",
     "output_type": "stream",
     "text": [
      "a = 3\n",
      "b = 10\n",
      "c = 3\n"
     ]
    },
    {
     "data": {
      "text/plain": [
       "16"
      ]
     },
     "execution_count": 50,
     "metadata": {},
     "output_type": "execute_result"
    }
   ],
   "source": [
    "# Otro ejemplo\n",
    "\n",
    "def suma(**kwargs):\n",
    "    s = 0\n",
    "    for key, value in kwargs.items():\n",
    "        print(key, \"=\", value)\n",
    "        s += value\n",
    "    return s\n",
    "\n",
    "suma(a=3, b=10, c=3)"
   ]
  },
  {
   "cell_type": "code",
   "execution_count": 33,
   "metadata": {},
   "outputs": [
    {
     "name": "stdout",
     "output_type": "stream",
     "text": [
      "nombre --> Jesús\n",
      "apellidos --> Gómez Beltrán\n",
      "leguaje --> Python\n",
      "None\n"
     ]
    }
   ],
   "source": [
    "# Otro ejemplo:\n",
    "\n",
    "def funcionKey(**nombres):\n",
    "    for key, val, in nombres.items():\n",
    "       print(f'{key} --> {val}')\n",
    "        \n",
    "consulta = funcionKey(nombre = 'Jesús', apellidos = 'Gómez Beltrán', leguaje = 'Python')\n",
    "print(consulta)"
   ]
  }
 ],
 "metadata": {
  "kernelspec": {
   "display_name": "Python 3",
   "language": "python",
   "name": "python3"
  },
  "language_info": {
   "codemirror_mode": {
    "name": "ipython",
    "version": 3
   },
   "file_extension": ".py",
   "mimetype": "text/x-python",
   "name": "python",
   "nbconvert_exporter": "python",
   "pygments_lexer": "ipython3",
   "version": "3.11.3"
  },
  "orig_nbformat": 4
 },
 "nbformat": 4,
 "nbformat_minor": 2
}
