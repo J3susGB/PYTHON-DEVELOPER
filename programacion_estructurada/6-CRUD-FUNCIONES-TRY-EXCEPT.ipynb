{
 "cells": [
  {
   "cell_type": "markdown",
   "metadata": {},
   "source": [
    "# FUNCIONES TRY - EXCEPT"
   ]
  },
  {
   "cell_type": "markdown",
   "metadata": {},
   "source": [
    "Cuando en el código se produce un error, estas funciones permiten continuar con la ejecución\n",
    "\n",
    "1.- ZeroDivisionError:\n",
    "\n",
    "Si hacemos una división entre 0, el programa da un error, y no continua con la ejecución. Al utilizar esta excepción, la recoge y continua ejecutando. Ejemplo:"
   ]
  },
  {
   "cell_type": "code",
   "execution_count": 23,
   "metadata": {},
   "outputs": [
    {
     "name": "stdout",
     "output_type": "stream",
     "text": [
      "No se puede dividir entre 0\n",
      "A pesar de los errores, continúa la ejecución\n",
      "None\n",
      "--------------------------------------------------\n",
      "El resultado de la división es: 2.5\n",
      "A pesar de los errores, continúa la ejecución\n",
      "None\n"
     ]
    }
   ],
   "source": [
    "def division(a,b):\n",
    "    try:\n",
    "        r = a / b\n",
    "        print(f'El resultado de la división es: {r}')\n",
    "        \n",
    "    except ZeroDivisionError:\n",
    "        print('No se puede dividir entre 0')\n",
    "        \n",
    "    print('A pesar de los errores, continúa la ejecución')\n",
    "\n",
    "    \n",
    "# Llamamos a la función division:\n",
    "ejemplo1 = division(5,0)\n",
    "print(ejemplo1)\n",
    "print('--------------------------------------------------')\n",
    "# Llamamos a la función division sin errores:\n",
    "ejemplo1_bis = division(5,2)\n",
    "print(ejemplo1_bis)"
   ]
  },
  {
   "cell_type": "markdown",
   "metadata": {},
   "source": [
    "2.- Try TypeError - ValueError:\n",
    "\n",
    "Capta el error que nos da cuando se usa un tipo diferente al esperado. Ejemplo:"
   ]
  },
  {
   "cell_type": "code",
   "execution_count": 24,
   "metadata": {},
   "outputs": [
    {
     "name": "stdout",
     "output_type": "stream",
     "text": [
      "************ 2.1.- TipeError ************\n",
      "La suma es 10\n",
      "A pesar de los errores, continúa la ejecución\n",
      "None\n",
      "--------------------------------------------------\n",
      "Unos de los valores no es un número.\n",
      "A pesar de los errores, continúa la ejecución\n",
      "None\n",
      "\n",
      "************ 2.2.- ValueError ************\n",
      "La suma es: 10\n",
      "A pesar de los errores, continúa la ejecución\n",
      "None\n",
      "--------------------------------------------------\n",
      "El valor es un String\n",
      "A pesar de los errores, continúa la ejecución\n",
      "None\n"
     ]
    }
   ],
   "source": [
    "print('************ 2.1.- TipeError ************')\n",
    "\n",
    "def sumaDos(a,b):\n",
    "    \n",
    "    try:\n",
    "        suma=a+b\n",
    "        print (f'La suma es {suma}')\n",
    "        \n",
    "    except TypeError:\n",
    "        print ('Unos de los valores no es un número.')\n",
    "    \n",
    "    print('A pesar de los errores, continúa la ejecución')\n",
    "\n",
    "        \n",
    "# Llamamos a la función:\n",
    "ejemplo2 = sumaDos(5,5)\n",
    "print(ejemplo2)\n",
    "\n",
    "print('--------------------------------------------------')\n",
    "\n",
    "# Llamamos a la función, pero con errores:\n",
    "ejemplo3 = sumaDos(5, 'Rodrigo')\n",
    "print(ejemplo3)\n",
    "\n",
    "print('\\n************ 2.2.- ValueError ************')\n",
    "\n",
    "def sumar():\n",
    "    \n",
    "    try:\n",
    "        a=int(input('Dame el primer valor'))\n",
    "        b=int(input('Dame el segundo valor'))\n",
    "        suma = a+b\n",
    "        print (f'La suma es: {suma}')\n",
    "    \n",
    "    except TypeError:\n",
    "        print ('Unos de los valores no es un número.')\n",
    "            \n",
    "    except ValueError: # capta el error cuando el usuario introduce por consola un tipo no esperado\n",
    "        print ('El valor es un String')\n",
    "    \n",
    "    print('A pesar de los errores, continúa la ejecución')\n",
    "    \n",
    "# Llamamos a la función sin errores:\n",
    "ejemplo4 = sumar()\n",
    "print(ejemplo4)\n",
    "\n",
    "print('--------------------------------------------------')\n",
    "\n",
    "# Llamamos a la función pero introduciendo por consola un dato erróneo:\n",
    "ejemplo5 = sumar()\n",
    "print(ejemplo5)"
   ]
  },
  {
   "cell_type": "markdown",
   "metadata": {},
   "source": [
    "3.- Try Continue:\n",
    "\n",
    "Para explicar esta excepción, lo hacemos en un ejemplo metiéndo todo en un bucle while, de forma que si no se introducen los valores esperados, capta la exepeción y sigue funcionando el bucle, que será infinito hasta que se introduzcan por consola los valores esperados"
   ]
  },
  {
   "cell_type": "code",
   "execution_count": 2,
   "metadata": {},
   "outputs": [
    {
     "name": "stdout",
     "output_type": "stream",
     "text": [
      "El valor es un String\n",
      "La suma es: 9\n",
      "A pesar de los errores, continúa la ejecución\n",
      "None\n"
     ]
    }
   ],
   "source": [
    "def sumatorio():\n",
    "    bandera = True\n",
    "    \n",
    "    while bandera == True:\n",
    "        try:\n",
    "            a=int(input('Dame el primer valor'))\n",
    "            b=int(input('Dame el segundo valor'))\n",
    "            \n",
    "        except TypeError:\n",
    "            print ('Unos de los valores no es un número.')\n",
    "            continue\n",
    "                \n",
    "        except ValueError: # capta el error cuando el usuario introduce por consola un tipo no esperado\n",
    "            print ('El valor es un String')\n",
    "            continue\n",
    "        \n",
    "        else:\n",
    "            suma = a+b\n",
    "            print (f'La suma es: {suma}')\n",
    "            bandera = False\n",
    "    \n",
    "    print('A pesar de los errores, continúa la ejecución')\n",
    "    \n",
    "# Llamamos a la función:\n",
    "ejemplo6 = sumatorio()\n",
    "print(ejemplo6)"
   ]
  },
  {
   "cell_type": "markdown",
   "metadata": {},
   "source": [
    "Try Pedir Int:\n",
    "\n",
    "Valida si un número es entero, y te da el error nada más ocurre, no cuando pides todos los valores, es decir, va validando cada dato uno por uno. Ejemplo:"
   ]
  },
  {
   "cell_type": "code",
   "execution_count": 4,
   "metadata": {},
   "outputs": [
    {
     "name": "stdout",
     "output_type": "stream",
     "text": [
      "Existe un error al cargar el dato\n",
      "Existe un error al cargar el dato\n",
      "El resultado de la suma es 12\n"
     ]
    }
   ],
   "source": [
    "def pedirInt():\n",
    "    bandera = True\n",
    "    while bandera == True:\n",
    "        \n",
    "        try:\n",
    "            a = int(input('Introduce un número entero'))\n",
    "            bandera = False\n",
    "            return a\n",
    "        \n",
    "        except: #si no ponemos ningún error en concreto tb funciona\n",
    "            print('Existe un error al cargar el dato')\n",
    "            bandera == True\n",
    "            \n",
    "# Llamamos a la función:\n",
    "a = pedirInt()\n",
    "b = pedirInt()\n",
    "suma = a + b\n",
    "print (f'El resultado de la suma es {suma}')"
   ]
  },
  {
   "cell_type": "markdown",
   "metadata": {},
   "source": [
    "Ahora vamos a hacer lo mismo que antes, pero dándole un número de oportunidades de equivocarse, por ejemplo 3 veces sólo"
   ]
  },
  {
   "cell_type": "code",
   "execution_count": 25,
   "metadata": {},
   "outputs": [
    {
     "name": "stdout",
     "output_type": "stream",
     "text": [
      "Existe un error al cargar el dato\n",
      "Intento 1 de 3 posibles\n",
      "Existe un error al cargar el dato\n",
      "Intento 2 de 3 posibles\n",
      "Existe un error al cargar el dato\n",
      "Intento 3 de 3 posibles\n",
      "Número de intentos máximos agotados...\n",
      "\n",
      "Los números tienen que ser enteros. Verificalos\n"
     ]
    }
   ],
   "source": [
    "def pedirInt():\n",
    "    bandera = True\n",
    "    oportunidades = 0\n",
    "    \n",
    "    while bandera == True:\n",
    "        \n",
    "        try:\n",
    "            a = int(input('Introduce un número entero'))\n",
    "            bandera = False\n",
    "            return a\n",
    "        \n",
    "        except: #si no ponemos ningún error en concreto tb funciona\n",
    "            print('Existe un error al cargar el dato')\n",
    "            oportunidades += 1\n",
    "            print(f'Intento {oportunidades} de 3 posibles')\n",
    "            \n",
    "            if oportunidades >= 3:\n",
    "                print('Número de intentos máximos agotados...\\n')\n",
    "                print('Los números tienen que ser enteros. Verifícalos')\n",
    "                bandera == False\n",
    "                break\n",
    "            else:\n",
    "                continue\n",
    "            \n",
    "# Llamamos a la función:\n",
    "a = pedirInt()\n",
    "b = pedirInt()\n",
    "\n",
    "if type(a) == int and type(b) == int:\n",
    "    suma = a + b\n",
    "    print (f'El resultado de la suma es {suma}')    "
   ]
  }
 ],
 "metadata": {
  "kernelspec": {
   "display_name": "Python 3",
   "language": "python",
   "name": "python3"
  },
  "language_info": {
   "codemirror_mode": {
    "name": "ipython",
    "version": 3
   },
   "file_extension": ".py",
   "mimetype": "text/x-python",
   "name": "python",
   "nbconvert_exporter": "python",
   "pygments_lexer": "ipython3",
   "version": "3.11.3"
  },
  "orig_nbformat": 4
 },
 "nbformat": 4,
 "nbformat_minor": 2
}
