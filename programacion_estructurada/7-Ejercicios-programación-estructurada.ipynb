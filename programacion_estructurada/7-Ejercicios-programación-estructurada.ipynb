{
 "cells": [
  {
   "cell_type": "markdown",
   "metadata": {},
   "source": [
    "# PROGRAMACIÓN ESTRUCTURADA\n",
    "\n",
    "### EJERCICIOS LISTAS:\n"
   ]
  },
  {
   "cell_type": "markdown",
   "metadata": {},
   "source": [
    "1. Tenemos la siguiente lista con las áreas de espacios de una casa. Se pide, en primer lugar, modificar el área del baño (bathroom) a 10.50 y, en segundo lugar, cambiar \"living room\" por \"chill zone\"."
   ]
  },
  {
   "cell_type": "code",
   "execution_count": 1,
   "metadata": {},
   "outputs": [
    {
     "name": "stdout",
     "output_type": "stream",
     "text": [
      "['hallway', 11.25, 'kitchen', 18.0, 'living room', 20.0, 'bedroom', 10.75, 'bathroom', 9.5]\n"
     ]
    }
   ],
   "source": [
    "# Crea la lista areas\n",
    "areas = [\"hallway\", 11.25, \"kitchen\", 18.0, \"living room\", 20.0, \"bedroom\", 10.75, \"bathroom\", 9.50]\n",
    "print(areas)"
   ]
  },
  {
   "cell_type": "markdown",
   "metadata": {},
   "source": [
    "2.- Modifica el area del baño a 10.50\n"
   ]
  },
  {
   "cell_type": "code",
   "execution_count": 4,
   "metadata": {},
   "outputs": [
    {
     "name": "stdout",
     "output_type": "stream",
     "text": [
      "['hallway', 11.25, 'kitchen', 18.0, 'living room', 20.0, 'bedroom', 10.75, 'bathroom', 10.5]\n"
     ]
    }
   ],
   "source": [
    "areas[-1] = 10.50\n",
    "print(areas)"
   ]
  },
  {
   "cell_type": "markdown",
   "metadata": {},
   "source": [
    "3.- Cambia \"living room\" a \"chill zone\"\n"
   ]
  },
  {
   "cell_type": "code",
   "execution_count": 5,
   "metadata": {},
   "outputs": [
    {
     "name": "stdout",
     "output_type": "stream",
     "text": [
      "['hallway', 11.25, 'kitchen', 18.0, 'chill zone', 20.0, 'bedroom', 10.75, 'bathroom', 10.5]\n"
     ]
    }
   ],
   "source": [
    "areas[4] = \"chill zone\"\n",
    "print(areas)"
   ]
  },
  {
   "cell_type": "markdown",
   "metadata": {},
   "source": [
    "4. Dada la siguiente lista a la que llamamos mi_lista1, elimina la letra 'D' con la función .pop() e imprime dos mensajes por pantalla:\n",
    "    1. El primero que diga \"El elemento borrado de la lista ha sido el \"elemento\", sin nombrar directamente 'D', es decir, utilizando ese misma orden .pop().\n",
    "    2. El segundo que diga \"La lista resultante es \"lista_nueva\".\n",
    "    \n",
    "Además, añade al final de la lista resultante la letra 'H' con la función .append()"
   ]
  },
  {
   "cell_type": "code",
   "execution_count": 6,
   "metadata": {},
   "outputs": [
    {
     "name": "stdout",
     "output_type": "stream",
     "text": [
      "Originalmente es  ['A', 'B', 'C', 'D', 'E', 'F', 'G']\n"
     ]
    }
   ],
   "source": [
    "mi_lista1 = ['A', 'B', 'C', 'D', 'E', 'F', 'G']\n",
    "print(\"Originalmente es \", mi_lista1)"
   ]
  },
  {
   "cell_type": "code",
   "execution_count": 7,
   "metadata": {},
   "outputs": [
    {
     "name": "stdout",
     "output_type": "stream",
     "text": [
      "El elemento borrado de la lista ha sido la D\n",
      "La lista resultante es ['A', 'B', 'C', 'E', 'F', 'G']\n"
     ]
    }
   ],
   "source": [
    "elemento_borrado = mi_lista1.pop(3)\n",
    "print(f\"El elemento borrado de la lista ha sido la {elemento_borrado}\")\n",
    "print(f\"La lista resultante es {mi_lista1}\")"
   ]
  },
  {
   "cell_type": "code",
   "execution_count": 8,
   "metadata": {},
   "outputs": [
    {
     "name": "stdout",
     "output_type": "stream",
     "text": [
      "['A', 'B', 'C', 'E', 'F', 'G', 'H']\n"
     ]
    }
   ],
   "source": [
    "# añadimos 'H' con .append()\n",
    "mi_lista1.append('H')\n",
    "print(mi_lista1)"
   ]
  },
  {
   "cell_type": "markdown",
   "metadata": {},
   "source": [
    "5. A partir de la siguiente lista llamada lista_telefonica, crea un programa que obtenga como resultado dos listas nuevas, una con los nombres que figuran en ella, y otra diferente con los \"números de teléfono."
   ]
  },
  {
   "cell_type": "code",
   "execution_count": 10,
   "metadata": {},
   "outputs": [
    {
     "name": "stdout",
     "output_type": "stream",
     "text": [
      "['Vanesa', 'Jaime', 'Roberto', 'Jesús']\n",
      "[546894, 456098, 235108, 546743]\n"
     ]
    }
   ],
   "source": [
    "lista_telefonica = [[\"Vanesa\",546894],[\"Jaime\",456098], [\"Roberto\",235108], [\"Jesús\",546743]]\n",
    "lista_telefonica\n",
    "\n",
    "lista_nombres = []\n",
    "lista_telefonos = list()\n",
    "\n",
    "for lista in lista_telefonica:\n",
    "    lista_nombres.append(lista[0])\n",
    "    lista_telefonos.append(lista[1])\n",
    "\n",
    "print(lista_nombres)\n",
    "print(lista_telefonos)\n",
    "    "
   ]
  },
  {
   "cell_type": "markdown",
   "metadata": {},
   "source": [
    "6. A partir del esquema de resolución del ejercicio anterior, cómo incorporaríamos una condición según la cuál, si el nombre de la persona empieza por \"J\", no la incluya en la lista de nombres"
   ]
  },
  {
   "cell_type": "code",
   "execution_count": 11,
   "metadata": {},
   "outputs": [
    {
     "name": "stdout",
     "output_type": "stream",
     "text": [
      "['Vanesa', 'Roberto']\n",
      "[546894, 456098, 235108, 546743]\n"
     ]
    }
   ],
   "source": [
    "lista_nombres = []\n",
    "lista_telefonos = list()\n",
    "\n",
    "for lista in lista_telefonica:\n",
    "    if lista[0][0] != \"J\":\n",
    "        lista_nombres.append(lista[0])\n",
    "        lista_telefonos.append(lista[1])\n",
    "    else:\n",
    "        lista_telefonos.append(lista[1])\n",
    "\n",
    "print(lista_nombres)\n",
    "print(lista_telefonos)"
   ]
  },
  {
   "cell_type": "markdown",
   "metadata": {},
   "source": [
    "7. Dadas las dos listas siguientes, únelas en una tercera lista a la que llamaremos lista_compra. Piénsalo de dos posibles maneras."
   ]
  },
  {
   "cell_type": "code",
   "execution_count": 14,
   "metadata": {},
   "outputs": [
    {
     "name": "stdout",
     "output_type": "stream",
     "text": [
      "['Huevos', 'Leche', 'Pan', 'Yogures', 'Servilletas']\n",
      "['Manzanas', 'Gel', 'Suavizante', 'Zanahorias', 'Merengue']\n",
      "['Huevos', 'Leche', 'Pan', 'Yogures', 'Servilletas', 'Manzanas', 'Gel', 'Suavizante', 'Zanahorias', 'Merengue']\n"
     ]
    }
   ],
   "source": [
    "lista_c1 = [\"Huevos\", \"Leche\", \"Pan\", \"Yogures\", \"Servilletas\"]\n",
    "lista_c2 = [\"Manzanas\", \"Gel\", \"Suavizante\", \"Zanahorias\", \"Merengue\"]\n",
    "print(lista_c1)\n",
    "print(lista_c2)\n",
    "\n",
    "lista_compra = lista_c1 + lista_c2\n",
    "print(lista_compra)"
   ]
  },
  {
   "cell_type": "markdown",
   "metadata": {},
   "source": [
    "8. Crea un programa que, a partir de la lista anterior, cree dos listas nuevas:\n",
    "\n",
    "   * Una en la que figuren únicamente los productos con tres letras.\n",
    "    \n",
    "   * Otra en la que se eliminen los elementos duplicados.\n",
    "    \n",
    "Utiliza para ello un bucle for. Además, debes imprimirlas por pantalla en orden alfabético."
   ]
  },
  {
   "cell_type": "code",
   "execution_count": 15,
   "metadata": {},
   "outputs": [
    {
     "name": "stdout",
     "output_type": "stream",
     "text": [
      "['Gel', 'Pan']\n",
      "['Gel', 'Huevos', 'Leche', 'Manzanas', 'Merengue', 'Pan', 'Servilletas', 'Suavizante', 'Yogures', 'Zanahorias']\n"
     ]
    }
   ],
   "source": [
    "lista_compra_bis = lista_compra.copy()\n",
    "\n",
    "lista_longitud_tres = []\n",
    "lista_sin_duplicados = []\n",
    "\n",
    "for producto in lista_compra_bis:\n",
    "    \n",
    "    if len(producto) == 3:\n",
    "        lista_longitud_tres.append(producto)\n",
    "        \n",
    "    if producto not in lista_sin_duplicados:\n",
    "        lista_sin_duplicados.append(producto)\n",
    "        \n",
    "lista_longitud_tres.sort(reverse = False)   \n",
    "lista_sin_duplicados.sort(reverse = False)\n",
    "\n",
    "print(lista_longitud_tres)\n",
    "print(lista_sin_duplicados)"
   ]
  },
  {
   "cell_type": "markdown",
   "metadata": {},
   "source": [
    "9.- Dada la siguiente lista de elementos, crea un programa que imprima por pantalla cuatro listas distintas; una por cada tipo de elemento que es posible encontrarse en ella, es decir, string, booleano, entero o decimal. En caso de que encuentre algún elemento que no sea de este tipo, mostrar \"El elemento {i} no está permitido\"."
   ]
  },
  {
   "cell_type": "code",
   "execution_count": 17,
   "metadata": {},
   "outputs": [
    {
     "name": "stdout",
     "output_type": "stream",
     "text": [
      "['Hola', 'mundo', True, 1, 2, 3, 'Python', 5.5, 'Anaconda', 6.66, 7, 'Spyder', False]\n",
      "['Hola', 'mundo', 'Python', 'Anaconda', 'Spyder']\n",
      "[1, 2, 3, 7]\n",
      "[5.5, 6.66]\n",
      "[True, False]\n"
     ]
    }
   ],
   "source": [
    "lista_mezcla = [\"Hola\", \"mundo\", True, 1, 2, 3, \"Python\", 5.5 , \"Anaconda\", 6.66 , 7, \"Spyder\", False]\n",
    "print(lista_mezcla)\n",
    "\n",
    "lista_string = []\n",
    "lista_int = []\n",
    "lista_float = []\n",
    "lista_bool = []\n",
    "\n",
    "for i in lista_mezcla:\n",
    "    if type(i)== str:\n",
    "        lista_string.append(i)\n",
    "    elif type(i)== int:\n",
    "        lista_int.append(i)\n",
    "    elif type(i)== float:\n",
    "        lista_float.append(i)\n",
    "    elif type(i)== bool:\n",
    "        lista_bool.append(i)\n",
    "    else:\n",
    "        print(f\"El elemento {i} no está permitido.\")\n",
    "print(lista_string, lista_int, lista_float, lista_bool, sep='\\n')\n",
    "        "
   ]
  },
  {
   "cell_type": "markdown",
   "metadata": {},
   "source": [
    "8. Crea una lista sin duplicados, solo utilizando bucles."
   ]
  },
  {
   "cell_type": "code",
   "execution_count": 19,
   "metadata": {},
   "outputs": [
    {
     "name": "stdout",
     "output_type": "stream",
     "text": [
      "[1, 2, 3, 4, 5]\n"
     ]
    }
   ],
   "source": [
    "mi_lista = [1, 2, 2, 3, 4, 4, 5]\n",
    "mi_lista_sin_duplicados = []\n",
    "\n",
    "for elemento in mi_lista:\n",
    "    if elemento not in mi_lista_sin_duplicados:\n",
    "        mi_lista_sin_duplicados.append(elemento)\n",
    "print(mi_lista_sin_duplicados) # [1, 2, 3, 4, 5]"
   ]
  },
  {
   "cell_type": "markdown",
   "metadata": {},
   "source": [
    "### EJERCICIOS CONDICIONALES:"
   ]
  },
  {
   "cell_type": "markdown",
   "metadata": {},
   "source": [
    "1. Crea un programa que pida introducir un número entero y compruebe si es múltiplo de 7 (es decir, si al dividir dicho número entre 7, su resto es cero)."
   ]
  },
  {
   "cell_type": "code",
   "execution_count": 1,
   "metadata": {},
   "outputs": [
    {
     "name": "stdout",
     "output_type": "stream",
     "text": [
      "El número introducido no es múltiplo de siete\n"
     ]
    }
   ],
   "source": [
    "numero = int(input(\"Introduce un número entero: \"))\n",
    "\n",
    "if numero % 7 == 0:\n",
    "    print(\"El número introducido es múltiplo de siete\")\n",
    "else:\n",
    "    print(\"El número introducido no es múltiplo de siete\")"
   ]
  },
  {
   "cell_type": "markdown",
   "metadata": {},
   "source": [
    "2.\tAl programa anterior, agrégale una condición más que nos indique si el número es múltiplo de 3."
   ]
  },
  {
   "cell_type": "code",
   "execution_count": null,
   "metadata": {},
   "outputs": [],
   "source": [
    "numero = int(input(\"Introduce un número entero: \"))\n",
    "\n",
    "if numero % 7 == 0:\n",
    "    print(\"El número introducido es múltiplo de siete\")\n",
    "elif numero % 3== 0:\n",
    "    print(\"El número introducido es múltiplo de tres\")\n",
    "else:\n",
    "    print(\"El número introducido no es múltiplo de siete\")"
   ]
  },
  {
   "cell_type": "markdown",
   "metadata": {},
   "source": [
    "3.\tAhora, sólo nos van a interesar los números múltiplos de 7 y mayores de 30. Crea un programa que solicite al usuario introducir un número. Si dicho número es múltiplo de 7 y mayor de 30, imprime por pantalla un mensaje de éxito. Si no, sigue buscando."
   ]
  },
  {
   "cell_type": "code",
   "execution_count": 2,
   "metadata": {},
   "outputs": [
    {
     "name": "stdout",
     "output_type": "stream",
     "text": [
      "Sigue buscando\n"
     ]
    }
   ],
   "source": [
    "numero = int(input(\"Introduce un número entero: \"))\n",
    "\n",
    "if ((numero % 7 == 0) and (numero > 30)):\n",
    "    print(\"¡Lo encontramos!\")\n",
    "else:\n",
    "    print(\"Sigue buscando\")"
   ]
  },
  {
   "cell_type": "markdown",
   "metadata": {},
   "source": [
    "4.\tVamos a crear un programa que se llame “DIVISOR DE NÚMEROS”. Haz que solicite al usuario que introduzca por pantalla, por un lado, el dividendo de la operación y por otro el divisor, ambos enteros. Después, crea una sentencia anidada en la que, si la división es exacta, muestre ese mensaje, y el contrario si no lo es. ¡Ten en cuenta también que no se puede dividir entre cero!"
   ]
  },
  {
   "cell_type": "code",
   "execution_count": null,
   "metadata": {},
   "outputs": [],
   "source": [
    "print(\"DIVISOR DE NÚMEROS\")\n",
    "dividendo = int(input(\"Escriba el dividendo: \"))\n",
    "divisor = int(input(\"Escriba el divisor: \"))\n",
    "\n",
    "if divisor == 0:\n",
    "    print(\"No se puede dividir por cero.\")\n",
    "else:\n",
    "    if dividendo % divisor == 0:\n",
    "        print(f\"La división es exacta. Cociente: {dividendo // divisor}\")\n",
    "    else:\n",
    "        print(\n",
    "            f\"La división no es exacta. Cociente: {dividendo // divisor} \"\n",
    "            f\"Resto: {dividendo % divisor}\"\n",
    "            )"
   ]
  },
  {
   "cell_type": "markdown",
   "metadata": {},
   "source": [
    "5.\tCrea un “MEZCLADOR DE COLORES” que haga lo siguiente:\n",
    "\n",
    "•\tInforma al usuario que el color rojo se representará por R y el azul por A.\n",
    "\n",
    "•\tPídele que seleccione uno de los dos colores anteriores; si en esta primera elección se selecciona R, como segunda elección se facilitan otros dos colores, o verde V o azul A. \n",
    "\n",
    "•\tSi en la segunda elección se escoge A, imprime por pantalla que la mezcla entre azul y rojo es magenta.\n",
    "\n",
    "•\tSi en la segunda elección se escoge V, imprime por pantalla que la mezcla entre verde y rojo produce amarillo.\n",
    "\n",
    "•\tAhora, si en la primera elección, en vez de seleccionar R, se eligió A, facilita otras dos posibles opciones; esta vez verde V o rojo R.\n",
    "\n",
    "•\tSi en esta segunda elección se escoge V, informa al usuario de que la mezcla entre el verde y el azul es cian.\n",
    "\n",
    "•\tSi en esta segunda elección se escoge R, imprime por pantalla que la mezcla entre el rojo y el azul produce Magenta."
   ]
  },
  {
   "cell_type": "code",
   "execution_count": null,
   "metadata": {},
   "outputs": [],
   "source": [
    "print(\"EL MEZCLADOR DE COLORES\")\n",
    "print(\"  R. Rojo      A. Azul\")\n",
    "\n",
    "\n",
    "primera = input(\"  Elija un color (R o A): \")\n",
    "if primera == \"R\":\n",
    "    print(\"  A. Azul      V. Verde\")\n",
    "    segunda = input(\"  Elija otro color (A o V): \")\n",
    "    if segunda == \"A\":\n",
    "        print(\"La mezcla de Rojo y Azul produce Magenta.\")\n",
    "    else:\n",
    "        print(\"La mezcla Rojo y Verde produce Amarillo.\")\n",
    "else:\n",
    "    print(\"  V. Verde    R. Rojo\")\n",
    "    segunda = input(\"  Elija otro color (V o R): \")\n",
    "    if segunda == \"V\":\n",
    "        print(\"La mezcla de Azul y Verde produce Cian.\")\n",
    "    else:\n",
    "        print(\"La mezcla Azul y Rojo produce Magenta.\")\n",
    "print(\"¡Hasta la próxima!\")"
   ]
  },
  {
   "cell_type": "markdown",
   "metadata": {},
   "source": [
    "6.- Crear un programa que pregunte al usuario su edad, y muestre por pantalla si es mayor o menor de edad"
   ]
  },
  {
   "cell_type": "code",
   "execution_count": null,
   "metadata": {},
   "outputs": [],
   "source": [
    "nombre = input('¿Cual es tu nombre?')\n",
    "print(f'Un placer que esté aquí {nombre}, para poder pasar, usted tiene que ser mayor de edad')\n",
    "edad = int(input(f'{nombre}, introduzca su edad por favor:'))\n",
    "\n",
    "if edad >=18:\n",
    "    print(f'Perfecto {nombre}, tienes {edad} años y eres mayor de edad. Puedes pasar')\n",
    "else:\n",
    "    print(f'Lo siento {nombre}, tienes {edad} años y eres menor de edad, no puedes pasar')"
   ]
  },
  {
   "cell_type": "markdown",
   "metadata": {},
   "source": [
    "7.- Crear un programa que pregunte al usuario su edad, y muestre por pantalla lo siguiente:\n",
    "\n",
    "- Si la edad está entre 1 y 11 --> niño\n",
    "-  Si la edad está entre 12 y 14 --> adolescente\n",
    "-  Si la edad está entre 15 y 17 --> joven\n",
    "-  Si la edad está entre 18 y 25 --> joven - adulto\n",
    "-  Si la edad está entre 26 y 35 --> adulto\n",
    "-  Si la edad está entre 36 y 50 --> señor\n",
    "-  Si la edad está entre 51 y 100 --> adulto mayor"
   ]
  },
  {
   "cell_type": "code",
   "execution_count": null,
   "metadata": {},
   "outputs": [],
   "source": [
    "nombre = input('¿Cual es tu nombre?')\n",
    "edad = int(input(f'{nombre}, introduzca su edad por favor:'))\n",
    "\n",
    "if edad == 1:\n",
    "    print(f'Encantado {nombre}. Tu edad es de {edad} año, eres un niño.')\n",
    "elif edad > 1 and edad <= 11:\n",
    "    print(f'Encantado {nombre}. Tu edad es de {edad} años, eres un niño.')\n",
    "elif edad >= 12 and edad <= 14:\n",
    "    print(f'Encantado {nombre}. Tu edad es de {edad} años, eres un adolescente.')\n",
    "elif edad >= 15 and edad <= 17:\n",
    "    print(f'Encantado {nombre}. Tu edad es de {edad} años, eres un joven.')\n",
    "elif edad >= 18 and edad <= 25:\n",
    "    print(f'Encantado {nombre}. Tu edad es de {edad} años, eres un hombrecito.')\n",
    "elif edad >= 26 and edad <= 35:\n",
    "    print(f'Encantado {nombre}. Tu edad es de {edad} años, eres un adulto.')\n",
    "elif edad >= 36 and edad <= 50:\n",
    "    print(f'Encantado {nombre}. Tu edad es de {edad} años, eres un señor.')\n",
    "elif edad >= 51 and edad <= 100:\n",
    "    print(f'Encantado {nombre}. Tu edad es de {edad} años, eres un adulto mayor.')\n",
    "else:\n",
    "    print ('No existe nadie tan mayor')"
   ]
  },
  {
   "cell_type": "markdown",
   "metadata": {},
   "source": [
    "8.- Crear un programa que almacene la cadena de caracteres contraseña e imprima por pantalla si la contraseña introducida por el usuario coincide con la guardada en la variable sin tener en cuenta mayúsculas y minúsculas\n",
    "\n",
    "  - pasw = 'pass123'"
   ]
  },
  {
   "cell_type": "code",
   "execution_count": null,
   "metadata": {},
   "outputs": [],
   "source": [
    "pasw = \"Pass123\"\n",
    "user = input('Enter your password')\n",
    "\n",
    "if user.title() == pasw:\n",
    "    print('Welcome to the system')\n",
    "else:\n",
    "    print('Access denied')"
   ]
  },
  {
   "cell_type": "markdown",
   "metadata": {},
   "source": [
    "9.- Crear un programa que pida al usuario dos números y devuelva su división.\n",
    "Si el usuario no introduce números, debe devolver un aviso de error y si el divisor es cero, también."
   ]
  },
  {
   "cell_type": "code",
   "execution_count": null,
   "metadata": {},
   "outputs": [],
   "source": [
    "num1 = float(input('Enter a number'))\n",
    "num2 = float(input('Enter another number'))\n",
    "\n",
    "if type(num1) != float and type(num2) != float:\n",
    "    print('Error. You must enter a number')\n",
    "elif num2 == 0:\n",
    "    print('Error. Divisor cannot be 0')\n",
    "else:\n",
    "    division = num1 / num2\n",
    "    print (f'La división entre {num1} y {num2} es {division}')"
   ]
  },
  {
   "cell_type": "markdown",
   "metadata": {},
   "source": [
    "10.- Crear un programa que pida al usuario un número entero y muestre por pantalla si es par o impar"
   ]
  },
  {
   "cell_type": "code",
   "execution_count": null,
   "metadata": {},
   "outputs": [],
   "source": [
    "num = int(input('Enter an integer'))\n",
    "\n",
    "if num % 2 == 0:\n",
    "    print(f'the number chosen is {num}. It is an even number')\n",
    "else:\n",
    "    print (f'the number chosen is {num}. It is an odd number')"
   ]
  },
  {
   "cell_type": "markdown",
   "metadata": {},
   "source": [
    "11.- Para tributar un determinado impuesto se debe ser mayor de 16 años y tener unos ingresos iguales o superiores a 1000 euros mensuales. Escribir un programa que pregunte al usuario su edad y sus  ingresos mensuales, y muestre por pantalla si el usuario tiene que tributar o no"
   ]
  },
  {
   "cell_type": "code",
   "execution_count": null,
   "metadata": {},
   "outputs": [],
   "source": [
    "age = int(input('Enter your age'))\n",
    "monthly_pay = int(input('Enter your monthly salary'))\n",
    "\n",
    "if age > 0 and age < 100:\n",
    "    if monthly_pay > 0:\n",
    "        if age > 16 and monthly_pay >= 1000:\n",
    "            print('You have to pay tribute')\n",
    "        else:\n",
    "            print('Congratulations!, you do not meet the requirements to pay taxes.')\n",
    "    else:\n",
    "         print ('Please enter a salary greater than 0') \n",
    "else:\n",
    "    print('Invalid age')"
   ]
  },
  {
   "cell_type": "markdown",
   "metadata": {},
   "source": [
    "12.- Un restaurante hace descuentos en un buffet con las siguientes reglas:\n",
    "\n",
    "  - Menores de 5 años--> No pagan.\n",
    "  - De 5 a 12 años--> Pagan la mitad del buffet.\n",
    "  - De 12 a 15 años--> Pagan la tercera parte del buffet.\n",
    "  - Mayores de 50 años--> Pagan la mitad del buffet\n",
    "  - Personas que cumplan años ese día, no pagan.\n",
    "\n",
    "Hacer un programa que diga cual es la cuenta en total, teniendo en cuenta que precio normal del buffet es 15 euros por persona"
   ]
  },
  {
   "cell_type": "code",
   "execution_count": null,
   "metadata": {},
   "outputs": [],
   "source": [
    "age = int(input('Enter your age'))\n",
    "birthday = input('Is it your birthday today?. ')\n",
    "buffet_price = 15\n",
    "total_pay = 0\n",
    "\n",
    "if age > 0 and age < 100:\n",
    "    if birthday.lower() != 'yes' and birthday.lower() != 'no':\n",
    "        print('Please check yes or no')\n",
    "    else:\n",
    "        if birthday.lower() == 'yes':\n",
    "            print(f'HAPPY BIRTHDAY!! We invite you to lunch')\n",
    "        elif birthday.lower() == 'no':\n",
    "            if age < 5:\n",
    "                print(f'You are a baby. Total to be paid = {total_pay} Euros')\n",
    "            elif (age >= 5 and age < 12) or (age > 50):\n",
    "                total_pay = buffet_price / 2\n",
    "                print(f'Total to be paid = {total_pay} Euros')\n",
    "            elif age >= 12 and age < 15:\n",
    "                total_pay = (buffet_price / 3) * 2\n",
    "                print(f'Total to be paid = {total_pay} Euros')\n",
    "            else:\n",
    "                print(f'Total to be paid = {buffet_price} Euros')\n",
    "else:\n",
    "    print('Invalid age')"
   ]
  },
  {
   "cell_type": "markdown",
   "metadata": {},
   "source": [
    "13.- Crea un programa que calcule el precio de una entrada al teatro teniendo en cuenta la siguiente información:\n",
    "\n",
    "    ● Si la entrada es de tipo 1, situada en el patio de butacas, el precio es 60, pero si está en la entreplanta, tipo 2, es de 45.\n",
    "\n",
    "    ● Si la persona que va a ver el espectáculo es menor de edad o es mayor de 65 años, la entrada tendrá un descuento del 20%.\n",
    "\n",
    "    ● Además, si se compran 4 o más entradas a la vez, habrá un descuento adicional del 2%."
   ]
  },
  {
   "cell_type": "code",
   "execution_count": null,
   "metadata": {},
   "outputs": [],
   "source": [
    "number_entries = int(input('How many tickets will you buy?'))\n",
    "age = int(input('How old are you?'))\n",
    "type_ticket = input('What type of ticket will you buy?')\n",
    "\n",
    "type1 = 60\n",
    "type2 = 45\n",
    "discount1 = 0.2\n",
    "discount2 = 0.02\n",
    "\n",
    "if number_entries >= 4:\n",
    "    if age < 18 or age > 65:\n",
    "        if type_ticket.lower() == 'type 1':\n",
    "            print(f'You have {age} years old')\n",
    "            print(f'You will buy {number_entries} tickets')\n",
    "            print(f'The price of each ticket is {type1 - (type1 * discount1) - (type1 * discount2)} Euros')\n",
    "            print(f'The total price is {((type1 - (type1 * discount1) - (type1 * discount2))) * number_entries} Euros')\n",
    "        elif type_ticket.lower() == 'type 2':\n",
    "            print(f'You have {age} years old')\n",
    "            print(f'You will buy {number_entries} tickets')\n",
    "            print(f'The price of each ticket is {type2 - (type2 * discount1) - (type2 * discount2)} Euros')\n",
    "            print(f'The total price is {((type2 - (type2 * discount1) - (type2 * discount2))) * number_entries} Euros')\n",
    "    else:\n",
    "        if type_ticket.lower() == 'type 1':\n",
    "            print(f'You have {age} years old')\n",
    "            print(f'You will buy {number_entries} tickets')\n",
    "            print(f'The price of each ticket is {type1 * (1 - discount2)} Euros')\n",
    "            print(f'The total price is {(type1 * (1 - discount2)) * number_entries} Euros')\n",
    "        elif type_ticket.lower() == 'type 2':\n",
    "            print(f'You have {age} years old')\n",
    "            print(f'You will buy {number_entries} tickets')\n",
    "            print(f'The price of each ticket is {type2 * (1 - discount2)} Euros')\n",
    "            print(f'The total price is {(type2 * (1 - discount2)) * number_entries} Euros')\n",
    "elif 1 <= number_entries < 4:\n",
    "    if age < 18 or age > 65:\n",
    "        if type_ticket.lower() == 'type 1':\n",
    "            print(f'You have {age} years old')\n",
    "            print(f'You will buy {number_entries} tickets')\n",
    "            print(f'The price of each ticket is {type1 * (1 - discount1)} Euros')\n",
    "            print(f'The total price is {(type1 * (1 - discount1)) * number_entries} Euros')\n",
    "        elif type_ticket.lower() == 'type 2':\n",
    "            print(f'You have {age} years old')\n",
    "            print(f'You will buy {number_entries} tickets')\n",
    "            print(f'The price of each ticket is {type2 * (1 - discount1)} Euros')\n",
    "            print(f'The total price is {(type2 * (1 - discount1)) * number_entries} Euros')\n",
    "    else:\n",
    "        if type_ticket.lower() == 'type 1':\n",
    "            print(f'You have {age} years old')\n",
    "            print(f'You will buy {number_entries} tickets')\n",
    "            print(f'The price of each ticket is {type1} Euros')\n",
    "            print(f'The total price is {type1 * number_entries} Euros')\n",
    "        elif type_ticket.lower() == 'type 2':\n",
    "            print(f'You have {age} years old')\n",
    "            print(f'You will buy {number_entries} tickets')\n",
    "            print(f'The price of each ticket is {type2} Euros')\n",
    "            print(f'The total price is {type2 * number_entries} Euros')\n",
    "else:\n",
    "    print('In order to continue, you must enter at least one entry to purchase')"
   ]
  },
  {
   "cell_type": "markdown",
   "metadata": {},
   "source": [
    "### EJERCICIOS BUCLE FOR:"
   ]
  },
  {
   "cell_type": "markdown",
   "metadata": {},
   "source": [
    "1. Realiza un programa que enumere los países de la siguiente lista, imprimiéndolos por pantalla:\n",
    "\n",
    "        paises = [\"Argentina\", \"Chile\", \"Colombia\", \"España\", \"México\", \"Perú\"]"
   ]
  },
  {
   "cell_type": "code",
   "execution_count": 3,
   "metadata": {},
   "outputs": [
    {
     "name": "stdout",
     "output_type": "stream",
     "text": [
      "Country 1--> Argentina \n",
      "Country 2--> Chile \n",
      "Country 3--> Colombia \n",
      "Country 4--> España \n",
      "Country 5--> México \n",
      "Country 6--> Perú \n"
     ]
    }
   ],
   "source": [
    "countries = [\"Argentina\", \"Chile\", \"Colombia\", \"España\", \"México\", \"Perú\"]\n",
    "counter = 1\n",
    "\n",
    "for p in countries:\n",
    "    print(f'Country {counter}--> {p} ')\n",
    "    counter += 1"
   ]
  },
  {
   "cell_type": "markdown",
   "metadata": {},
   "source": [
    "2. Crea un programa, a partir de un bucle for, que muestre por pantalla la tabla de multiplicar de un número del 1 al 9 que el usuario seleccione."
   ]
  },
  {
   "cell_type": "code",
   "execution_count": null,
   "metadata": {},
   "outputs": [],
   "source": [
    "print(\"- Let's put the multiplication table of the number of your choice\")\n",
    "num = int(input('- Choose a number from 1 to 10'))\n",
    "print(f\"- The number chosen is {num}\")\n",
    "\n",
    "if num < 1 or num > 10:\n",
    "    print('WRONG NUMBER. Choose a number between 1 and 10.')\n",
    "else:\n",
    "    print(f'\\tMULTIPLICATION TABLE OF THE {num}')\n",
    "    for i in range (1,11):\n",
    "        print(f'\\t\\t{num} X {i} = {num * i}')"
   ]
  },
  {
   "cell_type": "markdown",
   "metadata": {},
   "source": [
    "3. Escribir un programa en el que se pregunte al usuario por una frase y una letra, y muestre por pantalla el número de veces que aparece la letra en la frase."
   ]
  },
  {
   "cell_type": "code",
   "execution_count": 4,
   "metadata": {},
   "outputs": [
    {
     "name": "stdout",
     "output_type": "stream",
     "text": [
      "The phrase is: hola mundo\n",
      "The letter is: a\n",
      "The letter a is repeated in the sentence 1 times\n"
     ]
    }
   ],
   "source": [
    "# I request sentence to the user:\n",
    "text = input('Enter a sentence')\n",
    "print(f'The phrase is: {text.lower()}')\n",
    "\n",
    "# I request a letter to the user:\n",
    "letter = input('Enter a letter:')\n",
    "print(f'The letter is: {letter.lower()}')\n",
    "\n",
    "# I create a counter variable:\n",
    "counter = 0\n",
    "\n",
    "for i in text.lower():\n",
    "    if i == letter.lower():\n",
    "        counter += 1\n",
    "print (f'The letter {letter.lower()} is repeated in the sentence {counter} times')"
   ]
  },
  {
   "cell_type": "markdown",
   "metadata": {},
   "source": [
    "4. Sumar los números del 1 al 100, pero suma solo los números pares"
   ]
  },
  {
   "cell_type": "code",
   "execution_count": 5,
   "metadata": {},
   "outputs": [
    {
     "name": "stdout",
     "output_type": "stream",
     "text": [
      "2550\n"
     ]
    }
   ],
   "source": [
    "sum = 0\n",
    "\n",
    "for i in range (2,101,2):\n",
    "    sum += i\n",
    "print (sum)"
   ]
  },
  {
   "cell_type": "markdown",
   "metadata": {},
   "source": [
    "5. Crea un programa que permita al usuario introducir un número y compruebe si este número es primo, es decir, si tiene más de dos divisores."
   ]
  },
  {
   "cell_type": "code",
   "execution_count": null,
   "metadata": {},
   "outputs": [],
   "source": [
    "# I request a number to the user:\n",
    "num = int(input('Enter a number'))\n",
    "\n",
    "# I create a counter variable:\n",
    "counter = 0\n",
    "\n",
    "print(f'The number chosen is {num}')\n",
    "\n",
    "for i in range (1, num+1):\n",
    "    if num % 2 == 0:\n",
    "        counter +=1\n",
    "        \n",
    "if counter <= 2:\n",
    "    print (f'The number {num} is a prime number')\n",
    "else:\n",
    "    print (f'The number {num} is not a prime number')"
   ]
  },
  {
   "cell_type": "markdown",
   "metadata": {},
   "source": [
    "### EJERCICIO BUCLE WHILE:"
   ]
  },
  {
   "cell_type": "markdown",
   "metadata": {},
   "source": [
    "1.- Realiza una lista de la compra, en la que que se vayan añadiendo los artículos que el usuario vaya introduciendo. El usuario podrá añadir, modificar, eliminar, visualizar la lista y salir.\n",
    "Cuando el usuario seleccione la opción salir, la lista con todos los productos se mostrará por pantalla."
   ]
  },
  {
   "cell_type": "code",
   "execution_count": 8,
   "metadata": {},
   "outputs": [
    {
     "name": "stdout",
     "output_type": "stream",
     "text": [
      "- Añadir producto --> Opción 1\n",
      "- Modificar producto --> Opción 2\n",
      "- Eliminar producto --> Opción 3\n",
      "- Visualizar lista --> Opción 4\n",
      "- Salir y mostrar lista --> Opción 5\n",
      "\n",
      "Opción elegida: 1\n",
      "Pollo Añadido correctamente\n",
      "\n",
      "- Añadir producto --> Opción 1\n",
      "- Modificar producto --> Opción 2\n",
      "- Eliminar producto --> Opción 3\n",
      "- Visualizar lista --> Opción 4\n",
      "- Salir y mostrar lista --> Opción 5\n",
      "\n",
      "Opción elegida: 1\n",
      "Aguacatess Añadido correctamente\n",
      "\n",
      "- Añadir producto --> Opción 1\n",
      "- Modificar producto --> Opción 2\n",
      "- Eliminar producto --> Opción 3\n",
      "- Visualizar lista --> Opción 4\n",
      "- Salir y mostrar lista --> Opción 5\n",
      "\n",
      "Opción elegida: 2\n",
      "Aguacate modificado correctamente\n",
      "\n",
      "- Añadir producto --> Opción 1\n",
      "- Modificar producto --> Opción 2\n",
      "- Eliminar producto --> Opción 3\n",
      "- Visualizar lista --> Opción 4\n",
      "- Salir y mostrar lista --> Opción 5\n",
      "\n",
      "Opción elegida: 1\n",
      "Pan Añadido correctamente\n",
      "\n",
      "- Añadir producto --> Opción 1\n",
      "- Modificar producto --> Opción 2\n",
      "- Eliminar producto --> Opción 3\n",
      "- Visualizar lista --> Opción 4\n",
      "- Salir y mostrar lista --> Opción 5\n",
      "\n",
      "Opción elegida: 3\n",
      "Pan eliminado correctamente\n",
      "\n",
      "- Añadir producto --> Opción 1\n",
      "- Modificar producto --> Opción 2\n",
      "- Eliminar producto --> Opción 3\n",
      "- Visualizar lista --> Opción 4\n",
      "- Salir y mostrar lista --> Opción 5\n",
      "\n",
      "Opción elegida: 4\n",
      "LISTA PROVISIONAL:\n",
      "- 1: Pollo\n",
      "- 2: Aguacate\n",
      "- Añadir producto --> Opción 1\n",
      "- Modificar producto --> Opción 2\n",
      "- Eliminar producto --> Opción 3\n",
      "- Visualizar lista --> Opción 4\n",
      "- Salir y mostrar lista --> Opción 5\n",
      "\n",
      "Opción elegida: 4\n",
      "LISTA PROVISIONAL:\n",
      "- 1: Pollo\n",
      "- 2: Aguacate\n",
      "- Añadir producto --> Opción 1\n",
      "- Modificar producto --> Opción 2\n",
      "- Eliminar producto --> Opción 3\n",
      "- Visualizar lista --> Opción 4\n",
      "- Salir y mostrar lista --> Opción 5\n",
      "\n",
      "Opción elegida: 5\n",
      "Mostrando lista...\n",
      "\t\tLISTA DE LA COMPRA:\n",
      "\t\t- 1: Pollo\n",
      "\t\t- 2: Aguacate\n"
     ]
    }
   ],
   "source": [
    "lista_compra=[]\n",
    "bandera = True\n",
    "opcion = 0\n",
    "contador = 0\n",
    "contador2 = 0\n",
    "\n",
    "while bandera == True:\n",
    "    contador2 = 0 # Reinicio contador de la lista provisional para cuando se vuelva a elegir, esté reiniciado\n",
    "    print('- Añadir producto --> Opción 1\\n'\n",
    "          '- Modificar producto --> Opción 2\\n'\n",
    "          '- Eliminar producto --> Opción 3\\n'\n",
    "          '- Visualizar lista --> Opción 4\\n'\n",
    "          '- Salir y mostrar lista --> Opción 5\\n')\n",
    "    opcion = int(input('Elija una opción'))\n",
    "    print(f'Opción elegida: {opcion}')\n",
    "    \n",
    "    if opcion == 1 or opcion == 2 or opcion == 3 or opcion == 4 or opcion == 5:\n",
    "        \n",
    "        if opcion == 1:\n",
    "            producto = input('Añada producto a la lista').capitalize()\n",
    "            print(f'{producto} Añadido correctamente\\n')\n",
    "            lista_compra.append(producto)\n",
    "        \n",
    "        elif opcion == 2:\n",
    "            modifica = input('Elija el producto que quiere modificar').capitalize()\n",
    "            modificado =input('Introduzca el producto modificado').capitalize()\n",
    "            print(f'{modificado} modificado correctamente\\n')\n",
    "            lista_compra.remove(modifica)\n",
    "            lista_compra.append(modificado)\n",
    "            \n",
    "        elif opcion == 3:\n",
    "            eliminado = input('Elija el producto que quiere eliminar').capitalize()\n",
    "            print(f'{eliminado} eliminado correctamente\\n')\n",
    "            lista_compra.remove(eliminado)\n",
    "            \n",
    "        elif opcion == 4:\n",
    "            print('LISTA PROVISIONAL:') \n",
    "            for i in lista_compra:\n",
    "                contador2 += 1\n",
    "                print(f'- {contador2}: {i}', end='\\n')\n",
    "            \n",
    "        else:\n",
    "            print('Mostrando lista...')\n",
    "            print('\\t\\tLISTA DE LA COMPRA:')            \n",
    "            for i in lista_compra:\n",
    "                contador += 1\n",
    "                print(f'\\t\\t- {contador}: {i}', end='\\n')\n",
    "                bandera = False\n",
    "            \n",
    "    else:\n",
    "        print('ERROR. Por favor, elija una opción entre 1, 2, 3 y 4')"
   ]
  },
  {
   "cell_type": "markdown",
   "metadata": {},
   "source": [
    "### EJERCICIOS FUNCIONES:"
   ]
  },
  {
   "cell_type": "markdown",
   "metadata": {},
   "source": [
    "1. Elaborar una calculadora simple"
   ]
  },
  {
   "cell_type": "code",
   "execution_count": null,
   "metadata": {},
   "outputs": [],
   "source": [
    "def sumas():\n",
    "    n1 = float(input('Introduce el primer número'))\n",
    "    print(f'- Primer número --> {n1}')\n",
    "    n2 = float(input('Introduce el segundo número'))\n",
    "    print(f'- Segundo número --> {n2}')\n",
    "    suma = n1 + n2\n",
    "    print(f'- La suma es: {suma}\\n')\n",
    "    \n",
    "def restar():\n",
    "    n1 = float(input('Introduce el primer número'))\n",
    "    print(f'- Primer número --> {n1}')\n",
    "    n2 = float(input('Introduce el segundo número'))\n",
    "    print(f'- Segundo número --> {n2}')\n",
    "    resta = n1 - n2\n",
    "    print(f'- La resta es: {resta}\\n')\n",
    "    \n",
    "def multiplica():\n",
    "    n1 = float(input('Introduce el primer número'))\n",
    "    print(f'- Primer número --> {n1}')\n",
    "    n2 = float(input('Introduce el segundo número'))\n",
    "    print(f'- Segundo número --> {n2}')\n",
    "    multiplicacion = n1 * n2\n",
    "    print(f'- La multiplicacion es: {multiplicacion}\\n')\n",
    "    \n",
    "def divide():\n",
    "    n1 = float(input('Introduce el primer número'))\n",
    "    print(f'- Primer número --> {n1}')\n",
    "    n2 = float(input('Introduce el segundo número'))\n",
    "    print(f'- Segundo número --> {n2}')\n",
    "    div = n1 / n2\n",
    "    print(f'- La división es: {div}\\n')\n",
    "    \n",
    "# Comienza el menú:\n",
    "\n",
    "num = 0\n",
    "bandera = True\n",
    "\n",
    "while bandera == True:\n",
    "    \n",
    "    print('1.- Suma de dos números\\n'\n",
    "          '2.- Resta de dps números\\n'\n",
    "          '3.- Multiplicación de dos números\\n'\n",
    "          '4.- División de dos números\\n'\n",
    "          '5.- Salir\\n')\n",
    "    num =int(input('Seleccina una opción: '))\n",
    "    print (f'La opción seleccionada es {num}')\n",
    "    \n",
    "    if num == 1 or num == 2 or num == 3 or num == 4 or num ==5:\n",
    "        \n",
    "        if num == 1:\n",
    "            sumas()\n",
    "        elif num == 2:\n",
    "            restar()\n",
    "        elif num == 3:\n",
    "            multiplica()\n",
    "        elif num == 4:\n",
    "            divide()\n",
    "        else:\n",
    "            print('Saliendo...\\n'\n",
    "                  '\\tTarea finalizada')\n",
    "            bandera = False\n",
    "            \n",
    "    else:\n",
    "        print('Opción errónea. Por favor elige una opción válida')"
   ]
  },
  {
   "cell_type": "markdown",
   "metadata": {},
   "source": [
    "2.- Crear una función que sume N argumentos sin la función sum()"
   ]
  },
  {
   "cell_type": "code",
   "execution_count": 9,
   "metadata": {},
   "outputs": [
    {
     "name": "stdout",
     "output_type": "stream",
     "text": [
      "La suma es 10\n"
     ]
    }
   ],
   "source": [
    "def sumatorio(*num):\n",
    "    su = 0\n",
    "    \n",
    "    for n in num[:]: #con la expresión [:] muestra todos los números\n",
    "        su+=n\n",
    "    return su\n",
    "    \n",
    "    \n",
    "# Llamamos a la función con n argumentos:\n",
    "\n",
    "n = sumatorio(2,2,2,2,2)\n",
    "print(f'La suma es {n}')"
   ]
  },
  {
   "cell_type": "markdown",
   "metadata": {},
   "source": [
    "3.- Crear una función que diga el mayor de los números sin usar la función max()"
   ]
  },
  {
   "cell_type": "code",
   "execution_count": 10,
   "metadata": {},
   "outputs": [
    {
     "name": "stdout",
     "output_type": "stream",
     "text": [
      "El número mayor es: 100\n"
     ]
    }
   ],
   "source": [
    "def mayorN(*num):\n",
    "    \n",
    "    mayor = num[0] #Cojo el primer nº de la lista para comparar con el resto\n",
    "    \n",
    "    for i in num[1:]: #Leo la lista, del segundo nº en adelante\n",
    "        if i > mayor:\n",
    "            mayor = i\n",
    "            \n",
    "    return mayor\n",
    "\n",
    "# Llamamos a la función con n parámetros:\n",
    "\n",
    "x = mayorN(1,4,3,6,20,10,100,4,1,50)\n",
    "print(f'El número mayor es: {x}')"
   ]
  },
  {
   "cell_type": "markdown",
   "metadata": {},
   "source": [
    "4.- Crear una función que haga un recuento y a la misma vez salude a las personas incluidas como argumentos"
   ]
  },
  {
   "cell_type": "code",
   "execution_count": 11,
   "metadata": {},
   "outputs": [
    {
     "name": "stdout",
     "output_type": "stream",
     "text": [
      "Saludos Lourdes, eres la persona número 1\n",
      "Saludos Jesús, eres la persona número 2\n",
      "Felicidades Jesús, obtienes un descuento del 50%\n",
      "Saludos Pedro, eres la persona número 3\n",
      "None\n"
     ]
    }
   ],
   "source": [
    "def listaP(*nom):\n",
    "    \n",
    "    for count, val in enumerate(nom):\n",
    "        print(f'Saludos {val}, eres la persona número {count+1}')\n",
    "        \n",
    "        if val == 'Jesús':\n",
    "            print(f'Felicidades {val}, obtienes un descuento del 50%')\n",
    "            \n",
    "# llamamos a la función con n argumentos como personas:\n",
    "ejemplo = listaP('Lourdes', 'Jesús', 'Pedro')\n",
    "print(ejemplo)\n"
   ]
  },
  {
   "cell_type": "markdown",
   "metadata": {},
   "source": [
    "### EJERCICIOS REGISTROS CON FUNCIONES:"
   ]
  },
  {
   "cell_type": "markdown",
   "metadata": {},
   "source": [
    "Diseñar una aplicación interactiva para administrar los registros de estudiantes\n",
    "en un seminario mediante un menú con las siguientes opciones:\n",
    "\n",
    "        1) Agregar registro\n",
    "        2) Eliminar registro\n",
    "        3) Consultar registro\n",
    "        4) Cupo actual\n",
    "        5) Salir\n",
    "\n",
    "El programa presentará el menú para que el usuario elija alguna opción.\n",
    "Cada opción será instrumentada como una función.\n",
    "El programa llamará a cada función para realizar la acción solicitada.\n",
    "El programa y las funciones se almacenarán en un solo módulo."
   ]
  },
  {
   "cell_type": "code",
   "execution_count": null,
   "metadata": {},
   "outputs": [],
   "source": [
    "#Crear las funciones\n",
    "\n",
    "#Agregar\n",
    "def Agregar(e):\n",
    "    try:\n",
    "        mat=int(input(\"Ingrea la Matrícula: \"))\n",
    "        if mat not in e:\n",
    "            e=e+[mat]\n",
    "            print(\"Registro Exitoso\")\n",
    "        else:\n",
    "            print(\"Ya estas Matículado\")\n",
    "        return  e \n",
    "    except:\n",
    "        print(\"No se Pudo Registrar\")\n",
    "        \n",
    "#Eliminar\n",
    "def Eliminar(e):\n",
    "    try:\n",
    "        mat=int(input(\"Ingrea la Matrícula: \"))\n",
    "        if mat in e:\n",
    "            e.remove(mat)\n",
    "            print(\"Se Elimino la Matrícula\")\n",
    "        else:\n",
    "            print(\"No estas Inscrito\")    \n",
    "    except:\n",
    "        print(\"No Existe el Registro\")\n",
    "        \n",
    "def Consultar(e):\n",
    "    try:\n",
    "        mat=int(input(\"Ingrea la Matrícula: \"))\n",
    "        if mat in e:           \n",
    "            print(f\"Estas Inscrito con la Matrícula {mat}\")\n",
    "        else:\n",
    "            print(\"No estas Inscrito\")    \n",
    "    except:\n",
    "        print(\"No se pudo Consultar\")\n",
    "        \n",
    "def Cupo(e):\n",
    "    try:\n",
    "        num=len(e)                \n",
    "        print(f\"Cantidad de Inscritos {num}\")   \n",
    "    except:\n",
    "        print(\"No hay Inscritos\")"
   ]
  },
  {
   "cell_type": "code",
   "execution_count": null,
   "metadata": {},
   "outputs": [],
   "source": [
    "e=[]\n",
    "bandera=True\n",
    "while bandera==True:\n",
    "    print('1) Agregar registro')\n",
    "    print('2) Eliminar registro')\n",
    "    print('3) Consultar registro')\n",
    "    print('4) Cupo actual')\n",
    "    print('5) Salir')\n",
    "    opc=int(input(\"Elija una Opción: \"))\n",
    "    if opc > 0  and  opc < 6:\n",
    "        if opc==1:\n",
    "            e=Agregar(e)\n",
    "        elif opc==2:\n",
    "            e=Eliminar(e)\n",
    "        elif opc==3:\n",
    "            Consultar(e)\n",
    "        elif opc==4:\n",
    "            Cupo(e)\n",
    "        else:\n",
    "            #break\n",
    "            print(\"Hasta Pronto\")\n",
    "            bandera=False\n",
    "    else:\n",
    "        print(\"opción no valida selecciona una del 1-6\")"
   ]
  }
 ],
 "metadata": {
  "kernelspec": {
   "display_name": "Python 3",
   "language": "python",
   "name": "python3"
  },
  "language_info": {
   "codemirror_mode": {
    "name": "ipython",
    "version": 3
   },
   "file_extension": ".py",
   "mimetype": "text/x-python",
   "name": "python",
   "nbconvert_exporter": "python",
   "pygments_lexer": "ipython3",
   "version": "3.11.3"
  },
  "orig_nbformat": 4
 },
 "nbformat": 4,
 "nbformat_minor": 2
}
