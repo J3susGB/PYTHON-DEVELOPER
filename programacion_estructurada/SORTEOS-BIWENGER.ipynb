{
 "cells": [
  {
   "cell_type": "markdown",
   "metadata": {},
   "source": [
    "# **`SORTEOS PARA COMPETICIONES DENTRO DE LA LIGA BIWENGER`** \n",
    "\n",
    "### *Jesús Gómez - Python Data Analist | Python Developer⚡*\n",
    "[![Contact Me](https://img.shields.io/badge/Email-informational?style=for-the-badge&logo=Mail.Ru&logoColor=fff&color=c6362c)](mailto:jgomezbeltran88@gmail.com)\n",
    "[![LinkedId](https://img.shields.io/badge/LinkedIn-informational?style=for-the-badge&logo=linkedin&logoColor=fff&color=0274b3)](https://www.linkedin.com/in/jesusgb-dev/)\n",
    "[![Linktree](https://img.shields.io/badge/-Linktree-323330?style=for-the-badge&logo=linktree&logoColor=1de9b6)](https://linktr.ee/jesusgb?utm_source=linktree_admin_share )\n",
    "\n",
    "### **`Información:`**\n",
    "\n",
    "#### Y como todo no puede ser trabajo, he dedicado un ratito a desarrollar este programa, que nos permite hacer sorteos personalizados, siguiendo las normas propias de la liga, dentro de nuestra Liga de Biwenger.\n",
    "\n",
    "#### Se trata de una competición formada por dos ligas, una de 1º División, y otra de 2ª Divisón, formadas por 12 y 15 equipos respectivamente. Dentro de la competición, organizamos torneos internos que nos permiten enfrentar a equipos de una liga con equipos de otra, como la Copa del Rey, Champions League y Supercopa.\n",
    "#### Para poder implementar esta modalidad de juego, nos surgió la necesidad de poder hacer sorteos personalizados, y de esta necesidad, nace este programa."
   ]
  },
  {
   "cell_type": "markdown",
   "metadata": {},
   "source": [
    "### **`1.- SORTEO INICIAL:`**\n",
    "  - Para disputar la liga de 1ª División, según la normativa propia, tienen que existir 12 equipos, y en el momento de la creación, había ocho, por lo que tres equipos de todos los que formaban la 2º División (había 18 equipos), a través de sorteo, pasarán a jugar en la liga de 1º División."
   ]
  },
  {
   "cell_type": "code",
   "execution_count": 2,
   "metadata": {},
   "outputs": [
    {
     "name": "stdout",
     "output_type": "stream",
     "text": [
      "\n",
      "Los ganadores son:\n",
      "\t\t- Antonio Lara \n",
      "\t\t- Luismi De la Rosa \n",
      "\t\t- Medrano \n",
      "\n"
     ]
    }
   ],
   "source": [
    "import random\n",
    "\n",
    "participantes = ['Antonio Lara', 'Agüera', 'Medrano', 'Nacho de Santisteban', 'Juanje', 'Luismi De la Rosa', 'Antonio Manuel',\n",
    "                 'Javi Romero', 'Dani Lara', 'Pablo Sousa', 'Raúl Castillo','Luismi Vargas', 'Álvaro Fernández Lozano']\n",
    "\n",
    "elegidos = random.sample(participantes,3)\n",
    "\n",
    "print ('\\nLos ganadores son:\\n'\n",
    "       f'\\t\\t- {elegidos[0]} \\n'\n",
    "       f'\\t\\t- {elegidos[1]} \\n'\n",
    "       f'\\t\\t- {elegidos[2]} \\n')"
   ]
  },
  {
   "cell_type": "markdown",
   "metadata": {},
   "source": [
    "### **`2.- COPA CARTUJA:`**\n",
    "\n",
    "Esta competición, empieza en los octavos de final, y se juega entre equipos de las dos ligas, que acceden a ellas cumpliendo los objetivos establecidos en la normativa."
   ]
  },
  {
   "cell_type": "markdown",
   "metadata": {},
   "source": [
    "- *Octavos de final -->* Se generan enfrentamientos aleatorios entre ocho equipos de 1º División y ocho equipos de 2º División. La condición para estos enfrentamientos es que siempre se tiene que enfrentar un equipos de 1º Divsión contra un equipo de 2º División."
   ]
  },
  {
   "cell_type": "code",
   "execution_count": 49,
   "metadata": {},
   "outputs": [
    {
     "name": "stdout",
     "output_type": "stream",
     "text": [
      "- Partido 1--> Jose_Camara_Molina vs Luismi_de_la_Rosa\n",
      "\n",
      "- Partido 2--> Atletico_Trompas vs Galvez_pit6\n",
      "\n",
      "- Partido 3--> Team_Barceló vs Pablo_Sousa\n",
      "\n",
      "- Partido 4--> Dynamo_de_la_Algaba vs Negreira_Fans_Hooligans\n",
      "\n",
      "- Partido 5--> Pedri vs Medrano_Reward_FC\n",
      "\n"
     ]
    }
   ],
   "source": [
    "def generar_enfrentamientos(liga1, liga2):\n",
    "    enfrentamientos = {}\n",
    "    equipos_liga1 = list(liga1)\n",
    "    equipos_liga2 = list(liga2)\n",
    "    random.shuffle(equipos_liga1)\n",
    "    random.shuffle(equipos_liga2)\n",
    "\n",
    "    # Verificar que ambas ligas tengan la misma cantidad de equipos\n",
    "    if len(equipos_liga1) != len(equipos_liga2):\n",
    "        print(\"Las ligas no tienen la misma cantidad de equipos.\")\n",
    "        return enfrentamientos\n",
    "\n",
    "    # Generar los enfrentamientos\n",
    "    for i in range(len(equipos_liga1)):\n",
    "        equipo1 = equipos_liga1[i]\n",
    "        equipo2 = equipos_liga2[i]\n",
    "        enfrentamientos[equipo1] = equipo2\n",
    "\n",
    "    return enfrentamientos\n",
    "\n",
    "# Equipos que participan:\n",
    "liga1 = [\"Dynamo_de_la_Algaba\", \"Team_Barceló\", \"Pedri\", \"Jose_Camara_Molina\",\"Atletico_Trompas\"]\n",
    "liga2 = [\"Luismi_de_la_Rosa\", \"Pablo_Sousa\", \"Galvez_pit6\", \"Negreira_Fans_Hooligans\", \"Medrano_Reward_FC\"]\n",
    "\n",
    "enfrentamientos = generar_enfrentamientos(liga1, liga2)\n",
    "count = 0\n",
    "\n",
    "# Enfrentamientos:\n",
    "for equipo1, equipo2 in enfrentamientos.items():\n",
    "    count += 1\n",
    "    print(f\"- Partido {count}--> {equipo1} vs {equipo2}\\n\")"
   ]
  },
  {
   "cell_type": "markdown",
   "metadata": {},
   "source": [
    "- *Cuartos de final -->* Se generan enfrentamientos aleatorios entre los ocho equipos que pasen de ronda. La condición para estos enfrentamientos es que se tiene que enfrentar un equipos de 1º Divsión contra un equipo de 2º División, siempre que sea posible, ya que puede darse el caso que no pasen el mismo número de equipos de cada liga."
   ]
  },
  {
   "cell_type": "code",
   "execution_count": 8,
   "metadata": {},
   "outputs": [
    {
     "name": "stdout",
     "output_type": "stream",
     "text": [
      "- Partido 1 --> Pedri vs Luismi_de_la_Rosa\n",
      "\n",
      "- Partido 2 --> Jose_Camara_Molina vs Pablo_Sousa\n",
      "\n",
      "- Partido 3 --> Atletico_Trompas vs Galvez_pit6\n",
      "\n",
      "- Partido 4 --> Dynamo_de_la_Algaba vs Team_Barceló\n",
      "\n"
     ]
    }
   ],
   "source": [
    "def generar_enfrentamientos(liga1, liga2):\n",
    "    enfrentamientos = {}\n",
    "    equipos_liga1 = list(liga1)\n",
    "    equipos_liga2 = list(liga2)\n",
    "    random.shuffle(equipos_liga1)\n",
    "    random.shuffle(equipos_liga2)\n",
    "\n",
    "    # Verificar que ambas ligas tengan al menos un equipo\n",
    "    if len(equipos_liga1) == 0 or len(equipos_liga2) == 0:\n",
    "        print(\"Al menos una de las ligas no tiene equipos.\")\n",
    "        return enfrentamientos\n",
    "\n",
    "    # Generar los enfrentamientos\n",
    "    while equipos_liga1 and equipos_liga2:\n",
    "        equipo1 = equipos_liga1.pop(0)\n",
    "        equipo2 = equipos_liga2.pop(0)\n",
    "        enfrentamientos[equipo1] = equipo2\n",
    "\n",
    "    # Completar enfrentamientos si quedan equipos en una liga\n",
    "    equipos_restantes = equipos_liga1 + equipos_liga2\n",
    "\n",
    "    if equipos_restantes:\n",
    "        equipos_restantes = random.sample(equipos_restantes, len(equipos_restantes))\n",
    "        for i in range(0, len(equipos_restantes), 2):\n",
    "            equipo1 = equipos_restantes[i]\n",
    "            equipo2 = equipos_restantes[i+1] if i+1 < len(equipos_restantes) else None\n",
    "            enfrentamientos[equipo1] = equipo2\n",
    "\n",
    "    return enfrentamientos\n",
    "\n",
    "# Ejemplo de uso\n",
    "liga1 = [\"Dynamo_de_la_Algaba\", \"Team_Barceló\", \"Pedri\", \"Jose_Camara_Molina\",\"Atletico_Trompas\"]\n",
    "liga2 = [\"Luismi_de_la_Rosa\", \"Pablo_Sousa\", \"Galvez_pit6\"]\n",
    "\n",
    "enfrentamientos = generar_enfrentamientos(liga1, liga2)\n",
    "count = 0\n",
    "\n",
    "# Imprimir los enfrentamientos\n",
    "for equipo1, equipo2 in enfrentamientos.items():\n",
    "    count += 1\n",
    "    print(f\"- Partido {count} --> {equipo1} vs {equipo2}\\n\")"
   ]
  },
  {
   "cell_type": "markdown",
   "metadata": {},
   "source": [
    "- *Semifinales -->* Se generan enfrentamientos aleatorios entre los cuatro equipos que pasen de ronda. No existen condiciones previas."
   ]
  },
  {
   "cell_type": "code",
   "execution_count": 66,
   "metadata": {},
   "outputs": [
    {
     "name": "stdout",
     "output_type": "stream",
     "text": [
      "Semifinal 1--> Pablo_Sousa vs Team_Barceló\n",
      "Semifinal 2--> Dynamo_de_la_Algaba vs Galvez_pit6\n"
     ]
    }
   ],
   "source": [
    "def generar_enfrentamientos(equipos):\n",
    "    enfrentamientos = {}\n",
    "    random.shuffle(equipos)\n",
    "\n",
    "    if len(equipos) != 4:\n",
    "        print(\"Debe haber exactamente 4 equipos para generar los enfrentamientos de semifinales.\")\n",
    "        return enfrentamientos\n",
    "\n",
    "    # Generar los enfrentamientos\n",
    "    enfrentamientos[equipos[0]] = equipos[1]\n",
    "    enfrentamientos[equipos[2]] = equipos[3]\n",
    "\n",
    "    return enfrentamientos\n",
    "\n",
    "# Equipos:\n",
    "equipos = [\"Dynamo_de_la_Algaba\", \"Team_Barceló\", \"Pablo_Sousa\", \"Galvez_pit6\"]\n",
    "\n",
    "enfrentamientos = generar_enfrentamientos(equipos)\n",
    "\n",
    "# Imprimir los enfrentamientos\n",
    "count = 0\n",
    "for equipo1, equipo2 in enfrentamientos.items():\n",
    "    count += 1\n",
    "    print(f\"Semifinal {count}--> {equipo1} vs {equipo2}\")"
   ]
  },
  {
   "cell_type": "markdown",
   "metadata": {},
   "source": [
    "### **`3.- CARTUJA CHAMPIONS LEAGUE:`**\n",
    "\n",
    "Esta competición la disputan exclusivamente equipos de primera división, en base a la normativa propia."
   ]
  },
  {
   "cell_type": "markdown",
   "metadata": {},
   "source": [
    "- *Cuartos de final -->* Se generan enfrentamientos aleatorios entre los ocho equipos clasificados. No existen condiciones previas"
   ]
  },
  {
   "cell_type": "code",
   "execution_count": 67,
   "metadata": {},
   "outputs": [
    {
     "name": "stdout",
     "output_type": "stream",
     "text": [
      "Partido 1--> Jose_Camara_Molina vs Pedri\n",
      "Partido 2--> Eterna_Promesa vs Pablo_Perez\n",
      "Partido 3--> Team_Barceló vs Atletico_Trompas\n",
      "Partido 4--> RayaTrapp vs Dynamo_de_la_Algaba\n"
     ]
    }
   ],
   "source": [
    "def generar_enfrentamientos(equipos):\n",
    "    enfrentamientos = {}\n",
    "    random.shuffle(equipos)\n",
    "\n",
    "    if len(equipos) != 8:\n",
    "        print(\"Debe haber exactamente 8 equipos para generar los enfrentamientos de semifinales.\")\n",
    "        return enfrentamientos\n",
    "\n",
    "    # Generar los enfrentamientos\n",
    "    enfrentamientos[equipos[0]] = equipos[1]\n",
    "    enfrentamientos[equipos[2]] = equipos[3]\n",
    "    enfrentamientos[equipos[4]] = equipos[5]\n",
    "    enfrentamientos[equipos[6]] = equipos[7]\n",
    "\n",
    "    return enfrentamientos\n",
    "\n",
    "# Equipos:\n",
    "equipos = [\"Dynamo_de_la_Algaba\", \"Team_Barceló\", \"Pedri\", \"Jose_Camara_Molina\",\"Atletico_Trompas\", \"Eterna_Promesa\",\n",
    "           \"RayaTrapp\", \"Pablo_Perez\"]\n",
    "\n",
    "enfrentamientos = generar_enfrentamientos(equipos)\n",
    "\n",
    "# Imprimir los enfrentamientos\n",
    "count = 0\n",
    "for equipo1, equipo2 in enfrentamientos.items():\n",
    "    count += 1\n",
    "    print(f\"Partido {count}--> {equipo1} vs {equipo2}\")"
   ]
  },
  {
   "cell_type": "markdown",
   "metadata": {},
   "source": [
    "- *Semifinales -->* Se generan enfrentamientos aleatorios entre los cuatro equipos que pasen de ronda. No existen condiciones previas."
   ]
  },
  {
   "cell_type": "code",
   "execution_count": 80,
   "metadata": {},
   "outputs": [
    {
     "name": "stdout",
     "output_type": "stream",
     "text": [
      "Semifinal 1--> Team_Barceló vs Jose_Camara_Molina\n",
      "Semifinal 2--> Pedri vs Dynamo_de_la_Algaba\n"
     ]
    }
   ],
   "source": [
    "def generar_enfrentamientos(equipos):\n",
    "    enfrentamientos = {}\n",
    "    random.shuffle(equipos)\n",
    "\n",
    "    if len(equipos) != 4:\n",
    "        print(\"Debe haber exactamente 4 equipos para generar los enfrentamientos de semifinales.\")\n",
    "        return enfrentamientos\n",
    "\n",
    "    # Generar los enfrentamientos\n",
    "    enfrentamientos[equipos[0]] = equipos[1]\n",
    "    enfrentamientos[equipos[2]] = equipos[3]\n",
    "\n",
    "    return enfrentamientos\n",
    "\n",
    "# Equipos:\n",
    "equipos = [\"Dynamo_de_la_Algaba\", \"Team_Barceló\", \"Pedri\", \"Jose_Camara_Molina\"]\n",
    "\n",
    "enfrentamientos = generar_enfrentamientos(equipos)\n",
    "\n",
    "# Imprimir los enfrentamientos\n",
    "count = 0\n",
    "for equipo1, equipo2 in enfrentamientos.items():\n",
    "    count += 1\n",
    "    print(f\"Semifinal {count}--> {equipo1} vs {equipo2}\")"
   ]
  },
  {
   "cell_type": "markdown",
   "metadata": {},
   "source": [
    "#### *Desarrollado por Jesús Gómez - Python Data Analist | Python Developer⚡*"
   ]
  }
 ],
 "metadata": {
  "kernelspec": {
   "display_name": "Python 3",
   "language": "python",
   "name": "python3"
  },
  "language_info": {
   "codemirror_mode": {
    "name": "ipython",
    "version": 3
   },
   "file_extension": ".py",
   "mimetype": "text/x-python",
   "name": "python",
   "nbconvert_exporter": "python",
   "pygments_lexer": "ipython3",
   "version": "3.11.3"
  },
  "orig_nbformat": 4
 },
 "nbformat": 4,
 "nbformat_minor": 2
}
